{
 "cells": [
  {
   "cell_type": "markdown",
   "metadata": {},
   "source": [
    "Link: https://github.com/digipodium/Digipodium-Python-Practice-questions/blob/main/lists.md"
   ]
  },
  {
   "cell_type": "markdown",
   "metadata": {},
   "source": [
    "Questions & Notes:\n",
    "\n",
    "# This also may be 2-D Metrix\n",
    "a = [[1,2,3],[4,5,6],[7,8,9]]\n",
    "\n",
    "\n",
    "# Write a program that creates a list of integers and then removes all duplicates from the list. \n",
    "# Print the final list.\n",
    "# Loved this approach to remove duplicates\n",
    "unique = []\n",
    "a = [1,2,3,4,5,6,6,2]\n",
    "for i in a:\n",
    "    if i not in unique:\n",
    "        unique.append(i)\n",
    "print(unique)\n",
    "\n",
    "# The symbols \"/\" and \"//\" in Python represent different types of division. The \"/\" symbol performs normal division and provides a fractional result, while \"//\" stands for floor division and gives an integer quotient by truncating decimals. In floor division, the return value is approximated to the nearest lower integer. For example, in positive cases like 11//5, Python approximates 5.5 to 5. For negative numbers like -11//5, Python approximates -5.5 to -6, the nearest lower integer.\n",
    "\n",
    "# median is calculated by first sorting and then finding the middle number. It also depends on size of list if its even or odd \n",
    "a = [1,2,3,4,5]\n",
    "middle_index = len(a)//2\n",
    "print(middle_index)\n",
    "\n",
    "if len(a) % 2 == 0:\n",
    "    median = (a[middle_index] + a[middle_index  - 1]) / 2\n",
    "else:\n",
    "    median = a[middle_index]\n",
    "print(median)\n",
    "\n",
    "# don't use sort inside print first sort then print the list\n",
    "a = [1,3,2,4,5]\n",
    "a.sort()\n",
    "print(a)\n",
    "\n",
    "# insert syntax i is index\n",
    "list.insert(i, elem)\n",
    "\n",
    "# Write a program that uses the map function to create a new list that contains the squares of each element in a user inputted list of integers.\n",
    "def square(x):\n",
    "    return x*x\n",
    "\n",
    "num = [1,2,3,4]\n",
    "result = list(map(square,num))\n",
    "print(result)\n",
    "\n",
    "# Map and Lambda was new\n",
    "a = [1,2,3,4]\n",
    "add10 = lambda x: x+10\n",
    "result = list(map(add10,a))\n",
    "print(result)\n",
    "\n",
    "# Write a program that uses a lambda expression and the filter function to create a new list that contains only the \n",
    "# strings that start with a vowel from a user inputted list of strings.\n",
    "a = ['aew','ewd','kj','kd']\n",
    "vowel = ['a','e','i','o','u']\n",
    "vowel_sep = lambda x: x[0].lower() in vowel\n",
    "result = list(filter(vowel_sep, a))\n",
    "print(result)\n",
    "\n",
    "\n",
    "# Write a program that creates a nested list from a user inputted list of strings. The resulting nested list should contain the unique characters from each string.\n",
    "# Example input: ['apple', 'banana', 'cherry']\n",
    "# Example output: [['a', 'p', 'l', 'e'], ['b', 'a', 'n'], ['c', 'h', 'e', 'r', 'y']]\n",
    "\n",
    "list1 = ['hello', 'world']\n",
    "nested_list = []\n",
    "\n",
    "#approach 2\n",
    "# res = []\n",
    "# [res.append(x) for x in test_list if x not in res]\n",
    "\n",
    "for i in range(0, len(list1)):\n",
    "    res = list(set(list(list1[i])))\n",
    "    nested_list.append(res)\n",
    "\n",
    "print(nested_list)"
   ]
  },
  {
   "cell_type": "code",
   "execution_count": 10,
   "metadata": {},
   "outputs": [
    {
     "name": "stdout",
     "output_type": "stream",
     "text": [
      "[1]\n"
     ]
    }
   ],
   "source": [
    "#Write a program that creates an empty list and then asks the user to input \n",
    "#integers to add to the list. Print the final list.\n",
    "\n",
    "num = int(input(\"Enter a number: \"))\n",
    "list1 = []\n",
    "list1.append(num)\n",
    "print(list1)"
   ]
  },
  {
   "cell_type": "code",
   "execution_count": 9,
   "metadata": {},
   "outputs": [
    {
     "name": "stdout",
     "output_type": "stream",
     "text": [
      "found\n"
     ]
    }
   ],
   "source": [
    "#Write a program that creates a list of integers and then asks the \n",
    "# user to input an integer to check if it exists in the list. \n",
    "# Print a message indicating whether the integer is in the list or not.\n",
    "list1 = [1,2,3,4]\n",
    "num = int(input(\"Enter No: \"))\n",
    "if num in list1:\n",
    "    print(\"found\")\n"
   ]
  },
  {
   "cell_type": "code",
   "execution_count": 12,
   "metadata": {},
   "outputs": [
    {
     "name": "stdout",
     "output_type": "stream",
     "text": [
      "['a', 'b', 'c']\n"
     ]
    }
   ],
   "source": [
    "#Write a program that creates a list of strings and then sorts \n",
    "#the list alphabetically. Print the sorted list.\n",
    "\n",
    "a = [\"a\",\"c\",\"b\"]\n",
    "a.sort()\n",
    "print(a)"
   ]
  },
  {
   "cell_type": "code",
   "execution_count": 25,
   "metadata": {},
   "outputs": [
    {
     "name": "stdout",
     "output_type": "stream",
     "text": [
      "332\n",
      "6\n",
      "aak\n",
      "aaj\n",
      "6\n",
      "[1, 2, 3, 4, 5, 6]\n",
      "aaaa\n",
      "elderberry\n"
     ]
    },
    {
     "data": {
      "text/plain": [
       "4"
      ]
     },
     "execution_count": 25,
     "metadata": {},
     "output_type": "execute_result"
    }
   ],
   "source": [
    "# Write a program that creates a list of integers and then finds the maximum value in the list. \n",
    "# Print the maximum value.\n",
    "a = [1,23,221,42,21,332,213]\n",
    "print(max(a))\n",
    "\n",
    "# Write a program that creates two lists of integers and then finds the common elements between those two lists. \n",
    "# Print the common elements.\n",
    "a = [1,2,3,4,5,6]\n",
    "b = [6,7,8,9,10]\n",
    "for i in a:\n",
    "    if i in b:\n",
    "        print(i)\n",
    "\n",
    "\n",
    "# Write a program that creates a list of strings and then removes all elements that contain a specific substring. \n",
    "# Print the final list.\n",
    "a = [\"aak\",\"aaj\",\"bbc\"]\n",
    "for i in a:\n",
    "    if 'aa' in i:\n",
    "        print(i)\n",
    "\n",
    "# Write a program that creates a nested list and then accesses a specific element in the list. \n",
    "# Print the accessed element.\n",
    "#This also may be 2-D Metrix\n",
    "a = [[1,2,3],[4,5,6],[7,8,9]]\n",
    "print(a[1][2])\n",
    "\n",
    "\n",
    "# Write a program that creates a list of integers and then removes all duplicates from the list. \n",
    "# Print the final list.\n",
    "unique = []\n",
    "a = [1,2,3,4,5,6,6,2]\n",
    "for i in a:\n",
    "    if i not in unique:\n",
    "        unique.append(i)\n",
    "print(unique)\n",
    "\n",
    "# Write a program that creates a list of strings and then finds the longest string in the list. \n",
    "# Print the longest string.\n",
    "a = ['aa','aaa','aaaa']\n",
    "count = 0\n",
    "index = 0\n",
    "largest_string_index = 0\n",
    "for i in a:\n",
    "    if count < len(i):\n",
    "        count = len(i)\n",
    "        largest_string_index = index\n",
    "    index = index + 1\n",
    "print(a[largest_string_index])\n",
    "\n",
    "\n",
    "#approach 2\n",
    "string_list = [\"apple\", \"banana\", \"cherry\", \"date\", \"elderberry\", \"fig\"]\n",
    "longest_string = \"\"\n",
    "\n",
    "for i in string_list:\n",
    "    if len(i) > len(longest_string):\n",
    "        longest_string = i\n",
    "print(longest_string)\n",
    "string_list.index(longest_string)\n",
    "\n"
   ]
  },
  {
   "cell_type": "code",
   "execution_count": 28,
   "metadata": {},
   "outputs": [
    {
     "name": "stdout",
     "output_type": "stream",
     "text": [
      "['apple', 'cherry', 'date', 'elderberry', 'fig']\n"
     ]
    }
   ],
   "source": [
    "\n",
    "# Write a program that creates a list of integers and then asks the user to input a \n",
    "# position to remove an element from the list. Print the final list.\n",
    "string_list = [\"apple\", \"banana\", \"cherry\", \"date\", \"elderberry\", \"fig\"]\n",
    "num = int(input(\"Enter Position: \"))\n",
    "string_list.remove(string_list[num])\n",
    "print(string_list)"
   ]
  },
  {
   "cell_type": "code",
   "execution_count": null,
   "metadata": {},
   "outputs": [],
   "source": [
    "# Write a program that creates a list of strings and then concatenates all the strings into a single string. \n",
    "# Print the final string.\n",
    "\n",
    "string_list = [\"Hello\", \"world\", \"how\", \"are\", \"you?\"]\n",
    "concatenated_string = \"\"\n",
    "\n",
    "for string in string_list:\n",
    "    concatenated_string += string\n",
    "\n",
    "print(\"Concatenated string:\", concatenated_string)"
   ]
  },
  {
   "cell_type": "code",
   "execution_count": 34,
   "metadata": {},
   "outputs": [
    {
     "name": "stdout",
     "output_type": "stream",
     "text": [
      "2\n",
      "3\n"
     ]
    }
   ],
   "source": [
    "# Write a program that creates a list of integers and then finds the median value of the list. \n",
    "# Print the median.\n",
    "a = [1,2,3,4,5]\n",
    "middle_index = len(a)//2\n",
    "print(middle_index)\n",
    "\n",
    "if len(a) % 2 == 0:\n",
    "    median = (a[middle_index] + a[middle_index  - 1]) / 2\n",
    "else:\n",
    "    median = a[middle_index]\n",
    "print(median)"
   ]
  },
  {
   "cell_type": "code",
   "execution_count": 53,
   "metadata": {},
   "outputs": [
    {
     "name": "stdout",
     "output_type": "stream",
     "text": [
      "4\n",
      "[1, 2, 3, 4, 5]\n",
      "[2, 1, 2, 3, 4, 5]\n",
      "[2, 2, 1, 2, 3, 4, 5]\n"
     ]
    }
   ],
   "source": [
    "# Write a program that creates a list of integers and then finds the index of a specific element in the list. Print the index.\n",
    "a = [1,2,3,4,'a']\n",
    "print(a.index('a'))\n",
    "\n",
    "# Write a program that creates a list of integers and then sorts the list in descending order. Print the sorted list.\n",
    "a = [1,3,2,4,5]\n",
    "a.sort()\n",
    "print(a)\n",
    "\n",
    "# Write a program that creates a list of integers and then asks the user to input a value to add to the list. \n",
    "# Add the value to the beginning of the list and print the final list.\n",
    "a.insert(0,2)\n",
    "print(a)\n",
    "\n",
    "#without replacing\n",
    "value = 2\n",
    "a = [value] + a\n",
    "print(a)\n"
   ]
  },
  {
   "cell_type": "markdown",
   "metadata": {},
   "source": [
    "# MAP & LAMBDA"
   ]
  },
  {
   "cell_type": "code",
   "execution_count": 59,
   "metadata": {},
   "outputs": [
    {
     "name": "stdout",
     "output_type": "stream",
     "text": [
      "[1, 4, 9, 16]\n",
      "['1', '2', '3', '4']\n",
      "[11, 12, 13, 14]\n",
      "['a', 'e', 'f']\n",
      "[1, 2, 2, 3, 4, 2]\n"
     ]
    }
   ],
   "source": [
    "# Write a program that uses the map function to create a new list that contains the squares of each element in a user inputted list of integers.\n",
    "def square(x):\n",
    "    return x*x\n",
    "\n",
    "num = [1,2,3,4]\n",
    "result = list(map(square,num))\n",
    "print(result)\n",
    "\n",
    "# Write a program that uses a lambda expression and the map function to convert a list of integers to a list of strings. Print the new list.\n",
    "a = [1,2,3,4]\n",
    "str_conv = lambda x: str(x)\n",
    "result = list(map(str_conv, a))\n",
    "print(result)\n",
    "\n",
    "# Write a program that uses a lambda expression and the map function to add 10 to each element in a list of integers. Print the new list.\n",
    "a = [1,2,3,4]\n",
    "add10 = lambda x: x+10\n",
    "\n",
    "result = list(map(add10,a))\n",
    "print(result)\n",
    "\n",
    "# Write a program that uses the map function to create a new list that contains the first letter of each string in a user inputted list of strings.\n",
    "a = ['asd','eds','fsdr']\n",
    "first_letter = lambda x: x[0]\n",
    "result = list(map(first_letter, a))\n",
    "print(result)\n",
    "\n",
    "# Write a program that uses a lambda expression and the map function to convert a list of Celsius temperatures to a list of Fahrenheit temperatures. Print the new list.\n",
    "celsius_to_fahrenheit = lambda celsius: (celsius * 9/5) + 32\n",
    "\n",
    "# Write a program that uses a lambda expression and the map function to calculate the square root of each element in a list of integers. Print the new list.\n",
    "square_root_calculator = lambda x: x ** 0.5\n",
    "\n",
    "\n",
    "# Write a program that uses a lambda expression and the map function to convert a list of integers to their absolute values. Print the new list.\n",
    "a = [1,2,-2,3,-4,2]\n",
    "abs_conv = lambda x: abs(x)\n",
    "result = list(map(abs_conv, a))\n",
    "print(result)"
   ]
  },
  {
   "cell_type": "code",
   "execution_count": 67,
   "metadata": {},
   "outputs": [
    {
     "name": "stdout",
     "output_type": "stream",
     "text": [
      "[2, 4]\n",
      "['aew', 'ewd']\n"
     ]
    }
   ],
   "source": [
    "# Write a program that uses the filter function to create a new list that contains only the even numbers from a user inputted list of integers.\n",
    "def even(x):\n",
    "    if x%2==0:\n",
    "        return x\n",
    "a = [1,2,3,4]\n",
    "result = list(filter(even, a))\n",
    "print(result)\n",
    "\n",
    "# Write a program that uses a lambda expression and the filter function to create a new list that contains only the \n",
    "# strings that start with a vowel from a user inputted list of strings.\n",
    "a = ['aew','ewd','kj','kd']\n",
    "vowel = ['a','e','i','o','u']\n",
    "vowel_sep = lambda x: x[0].lower() in vowel\n",
    "result = list(filter(vowel_sep, a))\n",
    "print(result)\n"
   ]
  },
  {
   "cell_type": "code",
   "execution_count": 70,
   "metadata": {},
   "outputs": [
    {
     "name": "stdout",
     "output_type": "stream",
     "text": [
      "[1, 2, 3] [4, 5, 6]\n",
      "[[1, 4], [2, 5], [3, 6]]\n"
     ]
    }
   ],
   "source": [
    "# Write a program that creates a nested list from two user inputted lists of integers. \n",
    "# The resulting nested list should contain each element of the first list paired with the corresponding element of the second list.\n",
    "# Example input: [1, 2, 3], [4, 5, 6]\n",
    "# Example output: [[1, 4], [2, 5], [3, 6]]\n",
    "\n",
    "input_str1 = input(\"Enter the first list of integers separated by spaces: \")\n",
    "input_str2 = input(\"Enter the second list of integers separated by spaces: \")\n",
    "\n",
    "list1 = input_str1.split()\n",
    "list2 = input_str2.split()\n",
    "\n",
    "for i in range(0, len(list1)):\n",
    "    list1[i] = int(list1[i])\n",
    "\n",
    "for i in range(0, len(list2)):\n",
    "    list2[i] = int(list2[i])\n",
    "\n",
    "print(list1,list2)\n",
    "\n",
    "nested_list = []\n",
    "for i in range(0, min(len(list1),len(list2))):\n",
    "    nested_list.append([list1[i],list2[i]])\n",
    "\n",
    "print(nested_list)"
   ]
  },
  {
   "cell_type": "code",
   "execution_count": 76,
   "metadata": {},
   "outputs": [
    {
     "name": "stdout",
     "output_type": "stream",
     "text": [
      "[['h', 'e', 'l', 'l', 'o'], ['w', 'o', 'r', 'l', 'd']]\n"
     ]
    }
   ],
   "source": [
    "# Write a program that creates a nested list of strings from a user inputted list of strings. The resulting nested list should contain each string split into its individual characters.\n",
    "# Example input: ['hello', 'world']\n",
    "# Example output: [['h', 'e', 'l', 'l', 'o'], ['w', 'o', 'r', 'l', 'd']]\n",
    "\n",
    "list1 = ['hello', 'world']\n",
    "nested_list = []\n",
    "\n",
    "for i in range(0, len(list1)):\n",
    "    res = list(list1[i])\n",
    "    nested_list.append(res)\n",
    "\n",
    "print(nested_list)"
   ]
  },
  {
   "cell_type": "code",
   "execution_count": 77,
   "metadata": {},
   "outputs": [
    {
     "name": "stdout",
     "output_type": "stream",
     "text": [
      "[[1, 1], [2, 4], [3, 9], [4, 16], [5, 25]]\n"
     ]
    }
   ],
   "source": [
    "# Write a program that creates a nested list of integers from a user inputted list of integers. The resulting nested list should contain each integer along with its square.\n",
    "# Example input: [1, 2, 3, 4, 5]\n",
    "# Example output: [[1, 1], [2, 4], [3, 9], [4, 16], [5, 25]]\n",
    "list1 = [1, 2, 3, 4, 5]\n",
    "\n",
    "nested_list = []\n",
    "for i in range(0, len(list1)):\n",
    "    nested_list.append([list1[i],list1[i]*list1[i]])\n",
    "print(nested_list)\n"
   ]
  },
  {
   "cell_type": "code",
   "execution_count": 78,
   "metadata": {},
   "outputs": [
    {
     "name": "stdout",
     "output_type": "stream",
     "text": [
      "[['h', 'e', 'l', 'o'], ['r', 'd', 'l', 'o', 'w']]\n"
     ]
    }
   ],
   "source": [
    "# Write a program that creates a nested list from a user inputted list of strings. The resulting nested list should contain the unique characters from each string.\n",
    "# Example input: ['apple', 'banana', 'cherry']\n",
    "# Example output: [['a', 'p', 'l', 'e'], ['b', 'a', 'n'], ['c', 'h', 'e', 'r', 'y']]\n",
    "\n",
    "list1 = ['hello', 'world']\n",
    "nested_list = []\n",
    "\n",
    "#approach 2\n",
    "# res = []\n",
    "# [res.append(x) for x in test_list if x not in res]\n",
    "\n",
    "for i in range(0, len(list1)):\n",
    "    res = list(set(list(list1[i])))\n",
    "    nested_list.append(res)\n",
    "\n",
    "print(nested_list)"
   ]
  },
  {
   "cell_type": "code",
   "execution_count": 86,
   "metadata": {},
   "outputs": [
    {
     "name": "stdout",
     "output_type": "stream",
     "text": [
      "list 2\n",
      "divisor 1\n",
      "divisor 2\n",
      "list 3\n",
      "divisor 1\n",
      "divisor 3\n",
      "list 4\n",
      "divisor 1\n",
      "divisor 2\n",
      "divisor 4\n",
      "list 5\n",
      "divisor 1\n",
      "divisor 5\n",
      "[[2, [1, 2]], [3, [1, 3]], [4, [1, 2, 4]], [5, [1, 5]]]\n"
     ]
    }
   ],
   "source": [
    "# Write a program that creates a nested list of integers from a user inputted list of integers. The resulting nested list should contain each integer along with all of its divisors.\n",
    "# Example input: [2, 3, 4, 5]\n",
    "# Example output: [[2, [1, 2]], [3, [1, 3]], [4, [1, 2, 4]], [5, [1, 5]]]\n",
    "\n",
    "list1 = [2, 3, 4, 5]\n",
    "result = []\n",
    "for i in range(0, len(list1)):\n",
    "    divisor = []\n",
    "    print(\"list\",list1[i])\n",
    "    for j in range(1,list1[i]+1):\n",
    "        if list1[i] % j == 0:\n",
    "            print(\"divisor\",j)\n",
    "            divisor.append(j)\n",
    "    result.append([list1[i],divisor])\n",
    "print(result)"
   ]
  },
  {
   "cell_type": "markdown",
   "metadata": {},
   "source": [
    "You are given a list of integers, nums. Write a function, reverse_list(nums), that takes the list as input and returns a new list that is the reverse of the original list. Function signature\n",
    "def reverse_list(nums: List[int]) -> List[int]\n",
    "inputs:\n",
    "\n",
    "A list of integers, nums (1 <= len(nums) <= 1000) output:\n",
    "A new list that is the reverse of nums\n",
    "Example:\n",
    "\n",
    "Input: nums = [1, 2, 3, 4, 5]\n",
    "Output: [5, 4, 3, 2, 1]\n",
    "\n",
    "Input: nums = [7, 6, 5, 4]\n",
    "Output: [4, 5, 6, 7]\n",
    "Note: You are not allowed to use any built-in Python functions or methods that directly reverse a list. Your function must return a new list that is the reverse of the original list using only standard Python list manipulation techniques. Your function should have a time complexity of O(n) and a space complexity of O(n)."
   ]
  },
  {
   "cell_type": "code",
   "execution_count": 101,
   "metadata": {},
   "outputs": [
    {
     "name": "stdout",
     "output_type": "stream",
     "text": [
      "[3, 2, 1]\n"
     ]
    }
   ],
   "source": [
    "# reverse_num list is empty, and you can't assign values to indices that don't exist yet.\n",
    "# You should use the append method to add elements to the list one by one.\n",
    "\n",
    "num = [1,2,3]\n",
    "num_len = len(num) - 1\n",
    "reverse_num = []\n",
    "for i in range(0,num_len + 1):\n",
    "    reverse_num.append(num[num_len - i])\n",
    "\n",
    "print(reverse_num)"
   ]
  },
  {
   "cell_type": "code",
   "execution_count": 102,
   "metadata": {},
   "outputs": [
    {
     "name": "stdout",
     "output_type": "stream",
     "text": [
      "[2, 3, 6, 1]\n"
     ]
    }
   ],
   "source": [
    "def reverse_func(num):\n",
    "    num_len = len(num) - 1\n",
    "    reverse_num = []\n",
    "    for i in range(0,num_len + 1):\n",
    "        reverse_num.append(num[num_len - i])\n",
    "    return reverse_num\n",
    "\n",
    "num = [1,6,3,2]\n",
    "print(reverse_func(num))\n"
   ]
  },
  {
   "cell_type": "code",
   "execution_count": null,
   "metadata": {},
   "outputs": [],
   "source": []
  }
 ],
 "metadata": {
  "kernelspec": {
   "display_name": "base",
   "language": "python",
   "name": "python3"
  },
  "language_info": {
   "codemirror_mode": {
    "name": "ipython",
    "version": 3
   },
   "file_extension": ".py",
   "mimetype": "text/x-python",
   "name": "python",
   "nbconvert_exporter": "python",
   "pygments_lexer": "ipython3",
   "version": "3.11.4"
  },
  "orig_nbformat": 4
 },
 "nbformat": 4,
 "nbformat_minor": 2
}
