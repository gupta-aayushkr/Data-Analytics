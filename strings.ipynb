{
 "cells": [
  {
   "cell_type": "markdown",
   "metadata": {},
   "source": []
  },
  {
   "cell_type": "markdown",
   "metadata": {},
   "source": [
    "#string\n",
    "1. create\n",
    "2. index and slice\n",
    "3. methods"
   ]
  },
  {
   "cell_type": "markdown",
   "metadata": {},
   "source": []
  },
  {
   "cell_type": "code",
   "execution_count": 5,
   "metadata": {},
   "outputs": [
    {
     "name": "stdout",
     "output_type": "stream",
     "text": [
      "<class 'str'> <class 'str'> <class 'str'>\n",
      "<class 'str'>\n"
     ]
    }
   ],
   "source": [
    "a = 'apple'\n",
    "b = 'banana'\n",
    "c = ''' this \n",
    "is a string \n",
    "of multiple lines'''\n",
    "print(type(a), type(b), type(c))\n",
    "d = str(123)\n",
    "print(type(d))"
   ]
  },
  {
   "cell_type": "markdown",
   "metadata": {},
   "source": [
    "line shifting shortcut\n",
    "option + arrow keys up/down"
   ]
  },
  {
   "cell_type": "code",
   "execution_count": 3,
   "metadata": {},
   "outputs": [
    {
     "data": {
      "text/plain": [
       "'appleappleappleappleapple'"
      ]
     },
     "execution_count": 3,
     "metadata": {},
     "output_type": "execute_result"
    }
   ],
   "source": [
    "a * 5 #string duplication"
   ]
  },
  {
   "cell_type": "code",
   "execution_count": 6,
   "metadata": {},
   "outputs": [
    {
     "data": {
      "text/plain": [
       "'applebanana'"
      ]
     },
     "execution_count": 6,
     "metadata": {},
     "output_type": "execute_result"
    }
   ],
   "source": [
    "a + b #string concatenation"
   ]
  },
  {
   "cell_type": "code",
   "execution_count": 8,
   "metadata": {},
   "outputs": [
    {
     "data": {
      "text/plain": [
       "'a'"
      ]
     },
     "execution_count": 8,
     "metadata": {},
     "output_type": "execute_result"
    }
   ],
   "source": [
    "a[0]"
   ]
  },
  {
   "cell_type": "code",
   "execution_count": 9,
   "metadata": {},
   "outputs": [
    {
     "data": {
      "text/plain": [
       "'a'"
      ]
     },
     "execution_count": 9,
     "metadata": {},
     "output_type": "execute_result"
    }
   ],
   "source": [
    "#postive index\n",
    "a[0]\n",
    "a[1]\n",
    "#negative index\n",
    "a[-1]\n",
    "b[-2]"
   ]
  },
  {
   "cell_type": "code",
   "execution_count": 10,
   "metadata": {},
   "outputs": [
    {
     "ename": "TypeError",
     "evalue": "'str' object does not support item assignment",
     "output_type": "error",
     "traceback": [
      "\u001b[0;31m---------------------------------------------------------------------------\u001b[0m",
      "\u001b[0;31mTypeError\u001b[0m                                 Traceback (most recent call last)",
      "Cell \u001b[0;32mIn[10], line 2\u001b[0m\n\u001b[1;32m      1\u001b[0m \u001b[39m#strings are immutable\u001b[39;00m\n\u001b[0;32m----> 2\u001b[0m a[\u001b[39m0\u001b[39m] \u001b[39m=\u001b[39m \u001b[39m'\u001b[39m\u001b[39mB\u001b[39m\u001b[39m'\u001b[39m\n",
      "\u001b[0;31mTypeError\u001b[0m: 'str' object does not support item assignment"
     ]
    }
   ],
   "source": [
    "#strings are immutable\n",
    "a[0] = 'B'"
   ]
  },
  {
   "cell_type": "code",
   "execution_count": 21,
   "metadata": {},
   "outputs": [
    {
     "data": {
      "text/plain": [
       "'app'"
      ]
     },
     "execution_count": 21,
     "metadata": {},
     "output_type": "execute_result"
    }
   ],
   "source": [
    "#range in excel is similar to slices in python a[0:3]\n",
    "a[0:3]"
   ]
  },
  {
   "cell_type": "code",
   "execution_count": 28,
   "metadata": {},
   "outputs": [
    {
     "name": "stdout",
     "output_type": "stream",
     "text": [
      "Vijay\n",
      "Deenanath\n",
      "Chauhan\n",
      "Vijay\n",
      "Chauhan\n",
      "Chauhan\n"
     ]
    }
   ],
   "source": [
    "name = 'Vijay Deenanath Chauhan'\n",
    "name[6:14]\n",
    "print(name[0:5])\n",
    "print(name[6:15])\n",
    "print(name[16:len(name)])\n",
    "#when starting index in not given, it is assumned 0\n",
    "print(name[:5])\n",
    "#when ending index in not given, it is assumend to be len(name)\n",
    "print(name[16:len(name)])\n",
    "print(name[16:])\n",
    "print(name[-7:])"
   ]
  },
  {
   "cell_type": "markdown",
   "metadata": {},
   "source": [
    "slicing syntax\n",
    "var[(start):(stop):(step)]"
   ]
  },
  {
   "cell_type": "code",
   "execution_count": 32,
   "metadata": {},
   "outputs": [
    {
     "name": "stdout",
     "output_type": "stream",
     "text": [
      "VjyDeaahCahn\n",
      "ia ennt hua\n",
      "nahuahC htananeeD yajiV\n"
     ]
    }
   ],
   "source": [
    "#name[0:len(name):steps]\n",
    "print(name[::2]) #even index\n",
    "print(name[1::2]) #odd index\n",
    "#reverse a string\n",
    "print(name[::-1])"
   ]
  },
  {
   "cell_type": "markdown",
   "metadata": {},
   "source": [
    "string methods\n",
    "-formatting methods\n",
    "    -upper(), lower(), capitalize(), title(), swapcase()\n",
    "-validation methods\n",
    "    -isupper(), islower(), istitle(), isalpha(), isnumeric()\n",
    "    -startswith(), endwith()\n",
    "-utility methods\n",
    "    -split(), join(), find(), replace(), strip() "
   ]
  },
  {
   "cell_type": "markdown",
   "metadata": {},
   "source": [
    "Sure, I'll explain each category of string methods with examples:\n",
    "\n",
    "1. **String Formatting Methods**:\n",
    "   - These methods modify the case or formatting of the string.\n",
    "\n",
    "   - `upper()`: Converts the entire string to uppercase.\n",
    "   - `lower()`: Converts the entire string to lowercase.\n",
    "   - `capitalize()`: Converts the first character of the string to uppercase and the rest to lowercase.\n",
    "   - `title()`: Converts the first character of each word to uppercase and the rest to lowercase.\n",
    "   - `swapcase()`: Swaps the case of each character in the string.\n",
    "\n",
    "   Example:\n",
    "\n",
    "   ```python\n",
    "   my_string = \"hello, world\"\n",
    "   print(my_string.upper())       # Output: \"HELLO, WORLD\"\n",
    "   print(my_string.lower())       # Output: \"hello, world\"\n",
    "   print(my_string.capitalize())  # Output: \"Hello, world\"\n",
    "   print(my_string.title())       # Output: \"Hello, World\"\n",
    "   print(my_string.swapcase())    # Output: \"HELLO, WORLD\"\n",
    "   ```\n",
    "\n",
    "2. **Validation Methods**:\n",
    "   - These methods check the properties of the string.\n",
    "\n",
    "   - `isupper()`: Returns True if all characters are uppercase.\n",
    "   - `islower()`: Returns True if all characters are lowercase.\n",
    "   - `istitle()`: Returns True if the string is in title case (first character of each word is uppercase).\n",
    "   - `isalpha()`: Returns True if the string contains only alphabetic characters.\n",
    "   - `isnumeric()`: Returns True if the string contains only numeric characters.\n",
    "   - `startswith(prefix)`: Returns True if the string starts with the specified prefix.\n",
    "   - `endswith(suffix)`: Returns True if the string ends with the specified suffix.\n",
    "\n",
    "   Example:\n",
    "\n",
    "   ```python\n",
    "   my_string = \"Hello, World\"\n",
    "   print(my_string.isupper())      # Output: False\n",
    "   print(my_string.islower())      # Output: False\n",
    "   print(my_string.istitle())      # Output: True\n",
    "   print(my_string.isalpha())      # Output: False\n",
    "   print(my_string.isnumeric())    # Output: False\n",
    "   print(my_string.startswith(\"Hello\"))  # Output: True\n",
    "   print(my_string.endswith(\"World\"))    # Output: True\n",
    "   ```\n",
    "\n",
    "3. **Utility Methods**:\n",
    "   - These methods help with various operations and transformations of strings.\n",
    "\n",
    "   - `split(separator)`: Splits the string into a list of substrings based on the given separator.\n",
    "   - `join(iterable)`: Joins the elements of an iterable (e.g., list, tuple) into a single string using the specified separator.\n",
    "   - `find(substring)`: Returns the index of the first occurrence of the substring in the string.\n",
    "   - `replace(old, new)`: Replaces all occurrences of the old substring with the new substring.\n",
    "   - `strip()`: Removes leading and trailing whitespaces from the string.\n",
    "\n",
    "   Example:\n",
    "\n",
    "   ```python\n",
    "   my_string = \"apple, orange, banana\"\n",
    "   split_result = my_string.split(\", \")\n",
    "   print(split_result)  # Output: ['apple', 'orange', 'banana']\n",
    "\n",
    "   fruits = ['apple', 'orange', 'banana']\n",
    "   joined_string = \", \".join(fruits)\n",
    "   print(joined_string)  # Output: \"apple, orange, banana\"\n",
    "\n",
    "   index = my_string.find(\"orange\")\n",
    "   print(index)  # Output: 7\n",
    "\n",
    "   replaced_string = my_string.replace(\"apple\", \"grapes\")\n",
    "   print(replaced_string)  # Output: \"grapes, orange, banana\"\n",
    "\n",
    "   my_string_with_spaces = \"   Hello, World   \"\n",
    "   stripped_string = my_string_with_spaces.strip()\n",
    "   print(stripped_string)  # Output: \"Hello, World\"\n",
    "   ```\n",
    "\n",
    "These string methods make it easier to manipulate, validate, and format strings in Python, allowing for more efficient and organized string processing in your code."
   ]
  },
  {
   "cell_type": "code",
   "execution_count": 35,
   "metadata": {},
   "outputs": [
    {
     "name": "stdout",
     "output_type": "stream",
     "text": [
      "THIS IS A PYTHON STRING\n",
      "this is a python string\n",
      "This is a python string\n",
      "tHIS IS A python STRING\n",
      "this is a python string\n",
      "This Is A Python String\n",
      "This Is A Python String\n"
     ]
    }
   ],
   "source": [
    "#casefold and lower are equal\n",
    "msg = 'This is a PYTHON string'\n",
    "print(msg.upper())\n",
    "print(msg.lower())\n",
    "print(msg.capitalize())\n",
    "print(msg.swapcase())\n",
    "print(msg.casefold())\n",
    "print(msg.title())\n",
    "print(msg.title())"
   ]
  },
  {
   "cell_type": "code",
   "execution_count": 36,
   "metadata": {},
   "outputs": [
    {
     "name": "stdout",
     "output_type": "stream",
     "text": [
      "This Is A Python String\n"
     ]
    }
   ],
   "source": [
    "msg = msg.title()\n",
    "print(msg)"
   ]
  },
  {
   "cell_type": "code",
   "execution_count": 37,
   "metadata": {},
   "outputs": [
    {
     "data": {
      "text/plain": [
       "True"
      ]
     },
     "execution_count": 37,
     "metadata": {},
     "output_type": "execute_result"
    }
   ],
   "source": [
    "'hello'.islower()"
   ]
  },
  {
   "cell_type": "code",
   "execution_count": 43,
   "metadata": {},
   "outputs": [
    {
     "name": "stdout",
     "output_type": "stream",
     "text": [
      ">>> 2 <<<\n",
      "Number\n",
      "alphanumeric\n"
     ]
    }
   ],
   "source": [
    "x = input('Enter a number: ')\n",
    "print('>>>', x, '<<<')\n",
    "if x.isnumeric():\n",
    "    print('Number')\n",
    "if x.isalpha():\n",
    "    print('String')\n",
    "if x.isalnum():\n",
    "    print('alphanumeric')\n",
    "if x.islower():\n",
    "    print('lowercase')"
   ]
  },
  {
   "cell_type": "code",
   "execution_count": 46,
   "metadata": {},
   "outputs": [
    {
     "name": "stdout",
     "output_type": "stream",
     "text": [
      "True\n",
      "False\n"
     ]
    }
   ],
   "source": [
    "person = \"Mr. Smith\"\n",
    "print(person.startswith(\"Mr.\"))\n",
    "print(person.startswith(\"Ms.\"))"
   ]
  },
  {
   "cell_type": "code",
   "execution_count": 47,
   "metadata": {},
   "outputs": [
    {
     "name": "stdout",
     "output_type": "stream",
     "text": [
      "Blue\n",
      "Black\n"
     ]
    }
   ],
   "source": [
    "colors = ['Red', 'Blue', 'Black','Green']\n",
    "for color in colors:\n",
    "    if color.startswith(\"B\"):\n",
    "        print(color) "
   ]
  },
  {
   "cell_type": "code",
   "execution_count": 53,
   "metadata": {},
   "outputs": [
    {
     "name": "stdout",
     "output_type": "stream",
     "text": [
      "png found >> 1.png\n",
      "jpg found >> 2.jpg\n",
      "png found >> 3.png\n",
      "png found >> 4.png\n",
      "jpg found >> 5.jpg\n"
     ]
    }
   ],
   "source": [
    "images = ['1.png','2.jpg','3.png','4.png','5.jpg']\n",
    "for i in images:\n",
    "    if i.endswith(\".png\"):\n",
    "        print(\"png found >>\",i)\n",
    "    if i.endswith(\".jpg\"):\n",
    "        print(\"jpg found >>\",i) "
   ]
  },
  {
   "cell_type": "code",
   "execution_count": 59,
   "metadata": {},
   "outputs": [
    {
     "name": "stdout",
     "output_type": "stream",
     "text": [
      "This is great, thing to do, during free time\n",
      "['This', 'is', 'great,', 'thing', 'to', 'do,', 'during', 'free', 'time']\n",
      "['This is great', ' thing to do', ' during free time']\n",
      "['This is gre', 't, thing to do, during free time']\n"
     ]
    }
   ],
   "source": [
    "quote = \"This is great, thing to do, during free time\"\n",
    "print(quote)\n",
    "print(quote.split()) #spaces split\n",
    "print(quote.split(','))\n",
    "print(quote.split(\"a\"))"
   ]
  },
  {
   "cell_type": "code",
   "execution_count": 60,
   "metadata": {},
   "outputs": [
    {
     "name": "stdout",
     "output_type": "stream",
     "text": [
      "['This', 'is', 'great,', 'thing', 'to', 'do,', 'during', 'free', 'time']\n",
      "9\n"
     ]
    }
   ],
   "source": [
    "words = quote.split()\n",
    "print(words)\n",
    "print(len(words))"
   ]
  },
  {
   "cell_type": "code",
   "execution_count": null,
   "metadata": {},
   "outputs": [],
   "source": []
  }
 ],
 "metadata": {
  "kernelspec": {
   "display_name": "base",
   "language": "python",
   "name": "python3"
  },
  "language_info": {
   "codemirror_mode": {
    "name": "ipython",
    "version": 3
   },
   "file_extension": ".py",
   "mimetype": "text/x-python",
   "name": "python",
   "nbconvert_exporter": "python",
   "pygments_lexer": "ipython3",
   "version": "3.11.4"
  },
  "orig_nbformat": 4
 },
 "nbformat": 4,
 "nbformat_minor": 2
}
