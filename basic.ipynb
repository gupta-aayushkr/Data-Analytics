{
 "cells": [
  {
   "cell_type": "code",
   "execution_count": 2,
   "metadata": {},
   "outputs": [
    {
     "name": "stdout",
     "output_type": "stream",
     "text": [
      "10 <class 'int'>\n",
      "10.2 <class 'float'>\n",
      "Hello <class 'str'>\n",
      "True <class 'bool'>\n",
      "None <class 'NoneType'>\n",
      "[1, 2, 3] <class 'list'>\n",
      "(1, 2, 3, 4) <class 'tuple'>\n",
      "{1, 2, 3} <class 'set'>\n",
      "{'a': 1, 'b': 2} <class 'dict'>\n"
     ]
    }
   ],
   "source": [
    "a = 10 #int\n",
    "print(a, type(a))\n",
    "a = 10.2 #float\n",
    "print(a, type(a))\n",
    "a = \"Hello\" #string\n",
    "print(a, type(a))\n",
    "a = True #bool\n",
    "print(a, type(a))\n",
    "a = None #Nonetype\n",
    "print(a, type(a))\n",
    "a = [1,2,3] #Dictionay\n",
    "print(a, type(a))\n",
    "a = (1,2,3,4) #tuple\n",
    "print(a, type(a))\n",
    "a = {1,2,3} #set\n",
    "print(a, type(a))\n",
    "a = {'a':1, 'b':2} #dictionary\n",
    "print(a, type(a))"
   ]
  },
  {
   "cell_type": "code",
   "execution_count": 6,
   "metadata": {},
   "outputs": [
    {
     "name": "stdout",
     "output_type": "stream",
     "text": [
      "5 10\n",
      "5 10 15\n",
      "5\t10\t15\n"
     ]
    }
   ],
   "source": [
    "a = 5\n",
    "b = 10\n",
    "print(a,b)\n",
    "print(a, b, a+b)\n",
    "print(a, b, a+b, sep='\\t')"
   ]
  },
  {
   "cell_type": "code",
   "execution_count": 7,
   "metadata": {},
   "outputs": [
    {
     "name": "stdout",
     "output_type": "stream",
     "text": [
      "5,10\n",
      "15\n"
     ]
    }
   ],
   "source": [
    "c = a + b\n",
    "print(a, end=',')\n",
    "print(b)\n",
    "print(c)"
   ]
  },
  {
   "cell_type": "code",
   "execution_count": 8,
   "metadata": {},
   "outputs": [],
   "source": [
    "print = 2"
   ]
  },
  {
   "cell_type": "code",
   "execution_count": 9,
   "metadata": {},
   "outputs": [],
   "source": [
    "del print"
   ]
  },
  {
   "cell_type": "code",
   "execution_count": 10,
   "metadata": {},
   "outputs": [
    {
     "name": "stdout",
     "output_type": "stream",
     "text": [
      "15\n"
     ]
    }
   ],
   "source": [
    "print(c)"
   ]
  },
  {
   "cell_type": "code",
   "execution_count": 11,
   "metadata": {},
   "outputs": [
    {
     "name": "stdout",
     "output_type": "stream",
     "text": [
      "His name is joe but too old 99, living in London\n"
     ]
    }
   ],
   "source": [
    "name = \"joe\"\n",
    "age=99\n",
    "city=\"London\"\n",
    "print(f'His name is {name} but too old {age}, living in {city}')"
   ]
  },
  {
   "cell_type": "code",
   "execution_count": 16,
   "metadata": {},
   "outputs": [
    {
     "name": "stdout",
     "output_type": "stream",
     "text": [
      "10/3 = 3.33\n",
      "10 / 3 = 3.33\n"
     ]
    }
   ],
   "source": [
    "#z:.1f rounds the value to one decimal places\n",
    "x = 10\n",
    "y = 3\n",
    "z = x/y\n",
    "print(f'{x}/{y} = {z:.2f}')\n",
    "print(x, '/', y, '=', round(z,2))"
   ]
  },
  {
   "cell_type": "code",
   "execution_count": 15,
   "metadata": {},
   "outputs": [
    {
     "name": "stdout",
     "output_type": "stream",
     "text": [
      "Kilo       22\n"
     ]
    }
   ],
   "source": [
    "#a:10(Gives some spaces to the line output)\n",
    "n1 = \"Kilo\"\n",
    "a1 = 22\n",
    "print(f'{n1:10} {a1}')"
   ]
  }
 ],
 "metadata": {
  "kernelspec": {
   "display_name": "base",
   "language": "python",
   "name": "python3"
  },
  "language_info": {
   "codemirror_mode": {
    "name": "ipython",
    "version": 3
   },
   "file_extension": ".py",
   "mimetype": "text/x-python",
   "name": "python",
   "nbconvert_exporter": "python",
   "pygments_lexer": "ipython3",
   "version": "3.11.4"
  },
  "orig_nbformat": 4
 },
 "nbformat": 4,
 "nbformat_minor": 2
}
