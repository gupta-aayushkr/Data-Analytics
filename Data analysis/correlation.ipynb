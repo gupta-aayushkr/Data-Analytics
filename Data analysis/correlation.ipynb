{
 "cells": [
  {
   "cell_type": "code",
   "execution_count": 7,
   "metadata": {},
   "outputs": [],
   "source": [
    "import pandas as pd"
   ]
  },
  {
   "cell_type": "code",
   "execution_count": 8,
   "metadata": {},
   "outputs": [],
   "source": [
    "df = pd.read_excel('IACFS_data (2).XLSX', skiprows=1)"
   ]
  },
  {
   "cell_type": "code",
   "execution_count": 9,
   "metadata": {},
   "outputs": [
    {
     "data": {
      "text/html": [
       "<div>\n",
       "<style scoped>\n",
       "    .dataframe tbody tr th:only-of-type {\n",
       "        vertical-align: middle;\n",
       "    }\n",
       "\n",
       "    .dataframe tbody tr th {\n",
       "        vertical-align: top;\n",
       "    }\n",
       "\n",
       "    .dataframe thead th {\n",
       "        text-align: right;\n",
       "    }\n",
       "</style>\n",
       "<table border=\"1\" class=\"dataframe\">\n",
       "  <thead>\n",
       "    <tr style=\"text-align: right;\">\n",
       "      <th></th>\n",
       "      <th>Unnamed: 0</th>\n",
       "      <th>2021</th>\n",
       "      <th>2022 (RE)</th>\n",
       "      <th>2023 (BE)</th>\n",
       "      <th>Unnamed: 4</th>\n",
       "      <th>State</th>\n",
       "      <th>2020-21</th>\n",
       "      <th>2021-22 RE</th>\n",
       "      <th>2022-23 BE</th>\n",
       "    </tr>\n",
       "  </thead>\n",
       "  <tbody>\n",
       "    <tr>\n",
       "      <th>0</th>\n",
       "      <td>1. Andhra Pradesh</td>\n",
       "      <td>34.8</td>\n",
       "      <td>32.8</td>\n",
       "      <td>33.0</td>\n",
       "      <td>NaN</td>\n",
       "      <td>1. Andhra Pradesh</td>\n",
       "      <td>1.9</td>\n",
       "      <td>1.5</td>\n",
       "      <td>2.3</td>\n",
       "    </tr>\n",
       "    <tr>\n",
       "      <th>1</th>\n",
       "      <td>2. Arunachal Pradesh</td>\n",
       "      <td>45.0</td>\n",
       "      <td>41.4</td>\n",
       "      <td>39.7</td>\n",
       "      <td>NaN</td>\n",
       "      <td>2. Arunachal Pradesh</td>\n",
       "      <td>16.4</td>\n",
       "      <td>21.1</td>\n",
       "      <td>17.2</td>\n",
       "    </tr>\n",
       "    <tr>\n",
       "      <th>2</th>\n",
       "      <td>3. Assam</td>\n",
       "      <td>26.4</td>\n",
       "      <td>26.9</td>\n",
       "      <td>27.5</td>\n",
       "      <td>NaN</td>\n",
       "      <td>3. Assam</td>\n",
       "      <td>3.6</td>\n",
       "      <td>8.6</td>\n",
       "      <td>4.2</td>\n",
       "    </tr>\n",
       "    <tr>\n",
       "      <th>3</th>\n",
       "      <td>4. Bihar</td>\n",
       "      <td>38.7</td>\n",
       "      <td>38.5</td>\n",
       "      <td>38.6</td>\n",
       "      <td>NaN</td>\n",
       "      <td>4. Bihar</td>\n",
       "      <td>3.1</td>\n",
       "      <td>5.7</td>\n",
       "      <td>4.0</td>\n",
       "    </tr>\n",
       "    <tr>\n",
       "      <th>4</th>\n",
       "      <td>5. Chhattisgarh</td>\n",
       "      <td>28.6</td>\n",
       "      <td>26.9</td>\n",
       "      <td>27.1</td>\n",
       "      <td>NaN</td>\n",
       "      <td>5. Chhattisgarh</td>\n",
       "      <td>2.6</td>\n",
       "      <td>3.6</td>\n",
       "      <td>3.5</td>\n",
       "    </tr>\n",
       "    <tr>\n",
       "      <th>5</th>\n",
       "      <td>6. Goa</td>\n",
       "      <td>35.2</td>\n",
       "      <td>36.5</td>\n",
       "      <td>39.6</td>\n",
       "      <td>NaN</td>\n",
       "      <td>6. Goa</td>\n",
       "      <td>2.7</td>\n",
       "      <td>8.6</td>\n",
       "      <td>5.9</td>\n",
       "    </tr>\n",
       "    <tr>\n",
       "      <th>6</th>\n",
       "      <td>7. Gujarat</td>\n",
       "      <td>22.2</td>\n",
       "      <td>20.3</td>\n",
       "      <td>19.5</td>\n",
       "      <td>NaN</td>\n",
       "      <td>7. Gujarat</td>\n",
       "      <td>1.6</td>\n",
       "      <td>1.5</td>\n",
       "      <td>1.6</td>\n",
       "    </tr>\n",
       "    <tr>\n",
       "      <th>7</th>\n",
       "      <td>8. Haryana</td>\n",
       "      <td>32.5</td>\n",
       "      <td>29.3</td>\n",
       "      <td>28.9</td>\n",
       "      <td>NaN</td>\n",
       "      <td>8. Haryana</td>\n",
       "      <td>0.8</td>\n",
       "      <td>1.6</td>\n",
       "      <td>2.2</td>\n",
       "    </tr>\n",
       "    <tr>\n",
       "      <th>8</th>\n",
       "      <td>9. Himachal Pradesh</td>\n",
       "      <td>44.0</td>\n",
       "      <td>41.3</td>\n",
       "      <td>41.9</td>\n",
       "      <td>NaN</td>\n",
       "      <td>9. Himachal Pradesh</td>\n",
       "      <td>3.4</td>\n",
       "      <td>4.1</td>\n",
       "      <td>2.9</td>\n",
       "    </tr>\n",
       "    <tr>\n",
       "      <th>9</th>\n",
       "      <td>10. Jharkhand</td>\n",
       "      <td>36.3</td>\n",
       "      <td>34.0</td>\n",
       "      <td>34.1</td>\n",
       "      <td>NaN</td>\n",
       "      <td>10. Jharkhand</td>\n",
       "      <td>2.8</td>\n",
       "      <td>2.9</td>\n",
       "      <td>4.4</td>\n",
       "    </tr>\n",
       "  </tbody>\n",
       "</table>\n",
       "</div>"
      ],
      "text/plain": [
       "             Unnamed: 0  2021  2022 (RE)  2023 (BE)  Unnamed: 4  \\\n",
       "0     1. Andhra Pradesh  34.8       32.8       33.0         NaN   \n",
       "1  2. Arunachal Pradesh  45.0       41.4       39.7         NaN   \n",
       "2              3. Assam  26.4       26.9       27.5         NaN   \n",
       "3              4. Bihar  38.7       38.5       38.6         NaN   \n",
       "4       5. Chhattisgarh  28.6       26.9       27.1         NaN   \n",
       "5                6. Goa  35.2       36.5       39.6         NaN   \n",
       "6            7. Gujarat  22.2       20.3       19.5         NaN   \n",
       "7            8. Haryana  32.5       29.3       28.9         NaN   \n",
       "8   9. Himachal Pradesh  44.0       41.3       41.9         NaN   \n",
       "9         10. Jharkhand  36.3       34.0       34.1         NaN   \n",
       "\n",
       "                  State  2020-21  2021-22 RE  2022-23 BE  \n",
       "0     1. Andhra Pradesh      1.9         1.5         2.3  \n",
       "1  2. Arunachal Pradesh     16.4        21.1        17.2  \n",
       "2              3. Assam      3.6         8.6         4.2  \n",
       "3              4. Bihar      3.1         5.7         4.0  \n",
       "4       5. Chhattisgarh      2.6         3.6         3.5  \n",
       "5                6. Goa      2.7         8.6         5.9  \n",
       "6            7. Gujarat      1.6         1.5         1.6  \n",
       "7            8. Haryana      0.8         1.6         2.2  \n",
       "8   9. Himachal Pradesh      3.4         4.1         2.9  \n",
       "9         10. Jharkhand      2.8         2.9         4.4  "
      ]
     },
     "execution_count": 9,
     "metadata": {},
     "output_type": "execute_result"
    }
   ],
   "source": [
    "df.head(10)"
   ]
  },
  {
   "cell_type": "code",
   "execution_count": 10,
   "metadata": {},
   "outputs": [
    {
     "data": {
      "text/plain": [
       "Index(['Unnamed: 0',         2021,  '2022 (RE)',  '2023 (BE)', 'Unnamed: 4',\n",
       "            'State',    '2020-21', '2021-22 RE', '2022-23 BE'],\n",
       "      dtype='object')"
      ]
     },
     "execution_count": 10,
     "metadata": {},
     "output_type": "execute_result"
    }
   ],
   "source": [
    "df.columns"
   ]
  },
  {
   "cell_type": "code",
   "execution_count": 11,
   "metadata": {},
   "outputs": [],
   "source": [
    "debt_2021 = df[2021]\n",
    "debt_2022 = df[\"2022 (RE)\"]\n",
    "debt_2023 = df[\"2023 (BE)\"]"
   ]
  },
  {
   "cell_type": "code",
   "execution_count": 12,
   "metadata": {},
   "outputs": [],
   "source": [
    "capital_2021 = df['2020-21']\n",
    "capital_2022 = df['2021-22 RE']\n",
    "capital_2023 = df['2022-23 BE']"
   ]
  },
  {
   "cell_type": "code",
   "execution_count": 13,
   "metadata": {},
   "outputs": [],
   "source": [
    "combined_debt = pd.concat([debt_2021, debt_2022, debt_2023], axis=0, ignore_index=True)"
   ]
  },
  {
   "cell_type": "code",
   "execution_count": 14,
   "metadata": {},
   "outputs": [
    {
     "data": {
      "text/plain": [
       "0     34.8\n",
       "1     45.0\n",
       "2     26.4\n",
       "3     38.7\n",
       "4     28.6\n",
       "      ... \n",
       "82    34.8\n",
       "83    32.6\n",
       "84    32.0\n",
       "85    35.5\n",
       "86    29.5\n",
       "Length: 87, dtype: float64"
      ]
     },
     "execution_count": 14,
     "metadata": {},
     "output_type": "execute_result"
    }
   ],
   "source": [
    "combined_debt"
   ]
  },
  {
   "cell_type": "code",
   "execution_count": 15,
   "metadata": {},
   "outputs": [],
   "source": [
    "combined_capital = pd.concat([capital_2021, capital_2022, capital_2023], axis=0, ignore_index=True)"
   ]
  },
  {
   "cell_type": "code",
   "execution_count": 16,
   "metadata": {},
   "outputs": [
    {
     "data": {
      "text/plain": [
       "0      1.9\n",
       "1     16.4\n",
       "2      3.6\n",
       "3      3.1\n",
       "4      2.6\n",
       "      ... \n",
       "82     5.6\n",
       "83     5.7\n",
       "84     3.9\n",
       "85     1.9\n",
       "86     2.9\n",
       "Length: 87, dtype: float64"
      ]
     },
     "execution_count": 16,
     "metadata": {},
     "output_type": "execute_result"
    }
   ],
   "source": [
    "combined_capital"
   ]
  },
  {
   "cell_type": "code",
   "execution_count": 17,
   "metadata": {},
   "outputs": [],
   "source": [
    "correlation = combined_debt.corr(combined_capital)"
   ]
  },
  {
   "cell_type": "code",
   "execution_count": 18,
   "metadata": {},
   "outputs": [
    {
     "data": {
      "text/plain": [
       "0.32445088521150495"
      ]
     },
     "execution_count": 18,
     "metadata": {},
     "output_type": "execute_result"
    }
   ],
   "source": [
    "correlation"
   ]
  },
  {
   "cell_type": "code",
   "execution_count": null,
   "metadata": {},
   "outputs": [],
   "source": []
  }
 ],
 "metadata": {
  "kernelspec": {
   "display_name": "base",
   "language": "python",
   "name": "python3"
  },
  "language_info": {
   "codemirror_mode": {
    "name": "ipython",
    "version": 3
   },
   "file_extension": ".py",
   "mimetype": "text/x-python",
   "name": "python",
   "nbconvert_exporter": "python",
   "pygments_lexer": "ipython3",
   "version": "3.11.4"
  },
  "orig_nbformat": 4
 },
 "nbformat": 4,
 "nbformat_minor": 2
}
