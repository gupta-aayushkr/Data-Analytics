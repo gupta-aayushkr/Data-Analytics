{
 "cells": [
  {
   "cell_type": "code",
   "execution_count": 1,
   "metadata": {},
   "outputs": [],
   "source": [
    "import pandas as pd"
   ]
  },
  {
   "cell_type": "code",
   "execution_count": 6,
   "metadata": {},
   "outputs": [],
   "source": [
    "df = pd.read_excel('IACFS_data (2).XLSX', skiprows=1)"
   ]
  },
  {
   "cell_type": "code",
   "execution_count": 9,
   "metadata": {},
   "outputs": [
    {
     "data": {
      "text/html": [
       "<div>\n",
       "<style scoped>\n",
       "    .dataframe tbody tr th:only-of-type {\n",
       "        vertical-align: middle;\n",
       "    }\n",
       "\n",
       "    .dataframe tbody tr th {\n",
       "        vertical-align: top;\n",
       "    }\n",
       "\n",
       "    .dataframe thead th {\n",
       "        text-align: right;\n",
       "    }\n",
       "</style>\n",
       "<table border=\"1\" class=\"dataframe\">\n",
       "  <thead>\n",
       "    <tr style=\"text-align: right;\">\n",
       "      <th></th>\n",
       "      <th>Unnamed: 0</th>\n",
       "      <th>2021</th>\n",
       "      <th>2022 (RE)</th>\n",
       "      <th>2023 (BE)</th>\n",
       "      <th>Unnamed: 4</th>\n",
       "      <th>State</th>\n",
       "      <th>2020-21</th>\n",
       "      <th>2021-22 RE</th>\n",
       "      <th>2022-23 BE</th>\n",
       "    </tr>\n",
       "  </thead>\n",
       "  <tbody>\n",
       "    <tr>\n",
       "      <th>0</th>\n",
       "      <td>1. Andhra Pradesh</td>\n",
       "      <td>34.8</td>\n",
       "      <td>32.8</td>\n",
       "      <td>33.0</td>\n",
       "      <td>NaN</td>\n",
       "      <td>1. Andhra Pradesh</td>\n",
       "      <td>1.9</td>\n",
       "      <td>1.5</td>\n",
       "      <td>2.3</td>\n",
       "    </tr>\n",
       "    <tr>\n",
       "      <th>1</th>\n",
       "      <td>2. Arunachal Pradesh</td>\n",
       "      <td>45.0</td>\n",
       "      <td>41.4</td>\n",
       "      <td>39.7</td>\n",
       "      <td>NaN</td>\n",
       "      <td>2. Arunachal Pradesh</td>\n",
       "      <td>16.4</td>\n",
       "      <td>21.1</td>\n",
       "      <td>17.2</td>\n",
       "    </tr>\n",
       "  </tbody>\n",
       "</table>\n",
       "</div>"
      ],
      "text/plain": [
       "             Unnamed: 0  2021  2022 (RE)  2023 (BE)  Unnamed: 4  \\\n",
       "0     1. Andhra Pradesh  34.8       32.8       33.0         NaN   \n",
       "1  2. Arunachal Pradesh  45.0       41.4       39.7         NaN   \n",
       "\n",
       "                  State  2020-21  2021-22 RE  2022-23 BE  \n",
       "0     1. Andhra Pradesh      1.9         1.5         2.3  \n",
       "1  2. Arunachal Pradesh     16.4        21.1        17.2  "
      ]
     },
     "execution_count": 9,
     "metadata": {},
     "output_type": "execute_result"
    }
   ],
   "source": [
    "df.head(2)"
   ]
  },
  {
   "cell_type": "code",
   "execution_count": 10,
   "metadata": {},
   "outputs": [
    {
     "data": {
      "text/plain": [
       "Index(['Unnamed: 0',         2021,  '2022 (RE)',  '2023 (BE)', 'Unnamed: 4',\n",
       "            'State',    '2020-21', '2021-22 RE', '2022-23 BE'],\n",
       "      dtype='object')"
      ]
     },
     "execution_count": 10,
     "metadata": {},
     "output_type": "execute_result"
    }
   ],
   "source": [
    "df.columns"
   ]
  },
  {
   "cell_type": "code",
   "execution_count": 14,
   "metadata": {},
   "outputs": [],
   "source": [
    "debt_2021 = df[2021]\n",
    "debt_2022 = df[\"2022 (RE)\"]\n",
    "debt_2023 = df[\"2023 (BE)\"]"
   ]
  },
  {
   "cell_type": "code",
   "execution_count": 15,
   "metadata": {},
   "outputs": [],
   "source": [
    "capital_2021 = df['2020-21']\n",
    "capital_2022 = df['2021-22 RE']\n",
    "capital_2023 = df['2022-23 BE']"
   ]
  },
  {
   "cell_type": "code",
   "execution_count": 28,
   "metadata": {},
   "outputs": [],
   "source": [
    "combined_debt = pd.concat([debt_2021, debt_2022, debt_2023], axis=0, ignore_index=True)"
   ]
  },
  {
   "cell_type": "code",
   "execution_count": 29,
   "metadata": {},
   "outputs": [
    {
     "data": {
      "text/plain": [
       "0     34.8\n",
       "1     45.0\n",
       "2     26.4\n",
       "3     38.7\n",
       "4     28.6\n",
       "      ... \n",
       "82    34.8\n",
       "83    32.6\n",
       "84    32.0\n",
       "85    35.5\n",
       "86    29.5\n",
       "Length: 87, dtype: float64"
      ]
     },
     "execution_count": 29,
     "metadata": {},
     "output_type": "execute_result"
    }
   ],
   "source": [
    "combined_debt"
   ]
  },
  {
   "cell_type": "code",
   "execution_count": 36,
   "metadata": {},
   "outputs": [],
   "source": [
    "combined_capital = pd.concat([capital_2021, capital_2022, capital_2023], axis=0, ignore_index=True)"
   ]
  },
  {
   "cell_type": "code",
   "execution_count": 37,
   "metadata": {},
   "outputs": [
    {
     "data": {
      "text/plain": [
       "0      1.9\n",
       "1     16.4\n",
       "2      3.6\n",
       "3      3.1\n",
       "4      2.6\n",
       "      ... \n",
       "82     5.6\n",
       "83     5.7\n",
       "84     3.9\n",
       "85     1.9\n",
       "86     2.9\n",
       "Length: 87, dtype: float64"
      ]
     },
     "execution_count": 37,
     "metadata": {},
     "output_type": "execute_result"
    }
   ],
   "source": [
    "combined_capital"
   ]
  },
  {
   "cell_type": "code",
   "execution_count": 39,
   "metadata": {},
   "outputs": [],
   "source": [
    "correlation = combined_debt.corr(combined_capital)"
   ]
  },
  {
   "cell_type": "code",
   "execution_count": 40,
   "metadata": {},
   "outputs": [
    {
     "data": {
      "text/plain": [
       "0.32445088521150495"
      ]
     },
     "execution_count": 40,
     "metadata": {},
     "output_type": "execute_result"
    }
   ],
   "source": [
    "correlation"
   ]
  },
  {
   "cell_type": "code",
   "execution_count": null,
   "metadata": {},
   "outputs": [],
   "source": []
  }
 ],
 "metadata": {
  "kernelspec": {
   "display_name": "base",
   "language": "python",
   "name": "python3"
  },
  "language_info": {
   "codemirror_mode": {
    "name": "ipython",
    "version": 3
   },
   "file_extension": ".py",
   "mimetype": "text/x-python",
   "name": "python",
   "nbconvert_exporter": "python",
   "pygments_lexer": "ipython3",
   "version": "3.11.4"
  },
  "orig_nbformat": 4
 },
 "nbformat": 4,
 "nbformat_minor": 2
}
