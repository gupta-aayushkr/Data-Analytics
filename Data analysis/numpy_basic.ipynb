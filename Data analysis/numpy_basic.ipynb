{
 "cells": [
  {
   "cell_type": "code",
   "execution_count": 22,
   "metadata": {},
   "outputs": [],
   "source": [
    "import numpy as np"
   ]
  },
  {
   "cell_type": "code",
   "execution_count": 23,
   "metadata": {},
   "outputs": [],
   "source": [
    "np.set_printoptions(precision=2)"
   ]
  },
  {
   "cell_type": "code",
   "execution_count": 24,
   "metadata": {},
   "outputs": [
    {
     "name": "stdout",
     "output_type": "stream",
     "text": [
      "[2 5 6]\n",
      "(3,)\n",
      "int64\n"
     ]
    }
   ],
   "source": [
    "a = np.array([2,5,6])\n",
    "print(a)\n",
    "print(a.shape)\n",
    "print(a.dtype)"
   ]
  },
  {
   "cell_type": "code",
   "execution_count": 25,
   "metadata": {},
   "outputs": [
    {
     "name": "stdout",
     "output_type": "stream",
     "text": [
      "[[1 2 3]\n",
      " [4 5 6]]\n",
      "(2, 3)\n",
      "int64\n"
     ]
    }
   ],
   "source": [
    "b = np.array([[1,2,3],[4,5,6]])\n",
    "print(b)\n",
    "print(b.shape)\n",
    "print(a.dtype)"
   ]
  },
  {
   "cell_type": "code",
   "execution_count": 26,
   "metadata": {},
   "outputs": [
    {
     "name": "stdout",
     "output_type": "stream",
     "text": [
      "[[[1 2 3]\n",
      "  [2 3 4]\n",
      "  [2 2 2]]\n",
      "\n",
      " [[1 2 3]\n",
      "  [2 3 4]\n",
      "  [2 2 2]]]\n",
      "(2, 3, 3)\n",
      "int64\n"
     ]
    }
   ],
   "source": [
    "c = np.array([\n",
    "    [[1,2,3],\n",
    "    [2,3,4],\n",
    "    [2,2,2]],\n",
    "    [[1,2,3],\n",
    "    [2,3,4],\n",
    "    [2,2,2]],\n",
    "    ])\n",
    "\n",
    "print(c)\n",
    "print(c.shape)\n",
    "print(c.dtype)"
   ]
  },
  {
   "cell_type": "code",
   "execution_count": 27,
   "metadata": {},
   "outputs": [
    {
     "name": "stdout",
     "output_type": "stream",
     "text": [
      "4D Array:\n",
      "int64\n",
      "(3, 2, 3, 3)\n"
     ]
    }
   ],
   "source": [
    "import numpy as np\n",
    "\n",
    "c = np.array([\n",
    "    [\n",
    "        [[1, 2, 3],\n",
    "         [2, 3, 4],\n",
    "         [2, 2, 2]],\n",
    "\n",
    "        [[1, 2, 3],\n",
    "         [2, 3, 4],\n",
    "         [2, 2, 2]]\n",
    "    ],\n",
    "    [\n",
    "        [[4, 5, 6],\n",
    "         [5, 6, 7],\n",
    "         [6, 6, 6]],\n",
    "\n",
    "        [[4, 5, 6],\n",
    "         [5, 6, 7],\n",
    "         [6, 6, 6]]\n",
    "    ],\n",
    "    [\n",
    "        [[7, 8, 9],\n",
    "         [8, 9, 10],\n",
    "         [9, 9, 9]],\n",
    "\n",
    "        [[7, 8, 9],\n",
    "         [8, 9, 10],\n",
    "         [9, 9, 9]]\n",
    "    ]\n",
    "])\n",
    "\n",
    "print(\"4D Array:\")\n",
    "print(c.dtype)\n",
    "print(c.shape)"
   ]
  },
  {
   "cell_type": "code",
   "execution_count": 28,
   "metadata": {},
   "outputs": [
    {
     "name": "stdout",
     "output_type": "stream",
     "text": [
      "5D Array:\n",
      "(2, 2, 2, 3, 3)\n"
     ]
    }
   ],
   "source": [
    "import numpy as np\n",
    "\n",
    "c = np.array([\n",
    "    [\n",
    "        [\n",
    "            [[1, 2, 3],\n",
    "             [2, 3, 4],\n",
    "             [2, 2, 2]],\n",
    "\n",
    "            [[1, 2, 3],\n",
    "             [2, 3, 4],\n",
    "             [2, 2, 2]]\n",
    "        ],\n",
    "        [\n",
    "            [[4, 5, 6],\n",
    "             [5, 6, 7],\n",
    "             [6, 6, 6]],\n",
    "\n",
    "            [[4, 5, 6],\n",
    "             [5, 6, 7],\n",
    "             [6, 6, 6]]\n",
    "        ]\n",
    "    ],\n",
    "    [\n",
    "        [\n",
    "            [[7, 8, 9],\n",
    "             [8, 9, 10],\n",
    "             [9, 9, 9]],\n",
    "\n",
    "            [[7, 8, 9],\n",
    "             [8, 9, 10],\n",
    "             [9, 9, 9]]\n",
    "        ],\n",
    "        [\n",
    "            [[10, 11, 12],\n",
    "             [11, 12, 13],\n",
    "             [12, 12, 12]],\n",
    "\n",
    "            [[10, 11, 12],\n",
    "             [11, 12, 13],\n",
    "             [12, 12, 12]]\n",
    "        ]\n",
    "    ]\n",
    "])\n",
    "\n",
    "print(\"5D Array:\")\n",
    "print(c.shape)"
   ]
  },
  {
   "cell_type": "markdown",
   "metadata": {},
   "source": [
    "generate matrix\n",
    "- linear\n",
    "- random"
   ]
  },
  {
   "cell_type": "code",
   "execution_count": 29,
   "metadata": {},
   "outputs": [
    {
     "name": "stdout",
     "output_type": "stream",
     "text": [
      "[ 1  6 11 16 21 26 31 36 41 46 51 56 61 66 71 76 81 86 91 96]\n"
     ]
    },
    {
     "data": {
      "text/plain": [
       "20"
      ]
     },
     "execution_count": 29,
     "metadata": {},
     "output_type": "execute_result"
    }
   ],
   "source": [
    "a = np.arange(1,100,5)\n",
    "print(a)\n",
    "a.size"
   ]
  },
  {
   "cell_type": "code",
   "execution_count": 30,
   "metadata": {},
   "outputs": [
    {
     "name": "stdout",
     "output_type": "stream",
     "text": [
      "[1.  1.2 1.4 1.6 1.8 2.  2.2 2.4 2.6 2.8 3.  3.2 3.4 3.6 3.8 4.  4.2 4.4\n",
      " 4.6 4.8 5.  5.2 5.4 5.6 5.8 6.  6.2 6.4 6.6 6.8 7.  7.2 7.4 7.6 7.8 8.\n",
      " 8.2 8.4 8.6 8.8 9.  9.2 9.4 9.6 9.8]\n"
     ]
    },
    {
     "data": {
      "text/plain": [
       "45"
      ]
     },
     "execution_count": 30,
     "metadata": {},
     "output_type": "execute_result"
    }
   ],
   "source": [
    "a = np.arange(1,10,.2)\n",
    "print(a)\n",
    "a.size"
   ]
  },
  {
   "cell_type": "code",
   "execution_count": 33,
   "metadata": {},
   "outputs": [
    {
     "name": "stdout",
     "output_type": "stream",
     "text": [
      "[-3.14 -2.89 -2.64 -2.39 -2.14 -1.89 -1.64 -1.39 -1.14 -0.89 -0.64 -0.39\n",
      " -0.14  0.11  0.36  0.61  0.86  1.11  1.36  1.61  1.86  2.11  2.36  2.61\n",
      "  2.86  3.11]\n"
     ]
    },
    {
     "data": {
      "text/plain": [
       "26"
      ]
     },
     "execution_count": 33,
     "metadata": {},
     "output_type": "execute_result"
    }
   ],
   "source": [
    "#you decide the gap\n",
    "a = np.arange(-np.pi,np.pi,.25)\n",
    "print(a)\n",
    "a.size"
   ]
  },
  {
   "cell_type": "code",
   "execution_count": 35,
   "metadata": {},
   "outputs": [
    {
     "name": "stdout",
     "output_type": "stream",
     "text": [
      "[  1.   2.   3.   4.   5.   6.   7.   8.   9.  10.  11.  12.  13.  14.\n",
      "  15.  16.  17.  18.  19.  20.  21.  22.  23.  24.  25.  26.  27.  28.\n",
      "  29.  30.  31.  32.  33.  34.  35.  36.  37.  38.  39.  40.  41.  42.\n",
      "  43.  44.  45.  46.  47.  48.  49.  50.  51.  52.  53.  54.  55.  56.\n",
      "  57.  58.  59.  60.  61.  62.  63.  64.  65.  66.  67.  68.  69.  70.\n",
      "  71.  72.  73.  74.  75.  76.  77.  78.  79.  80.  81.  82.  83.  84.\n",
      "  85.  86.  87.  88.  89.  90.  91.  92.  93.  94.  95.  96.  97.  98.\n",
      "  99. 100.]\n"
     ]
    }
   ],
   "source": [
    "#if you want to get the number of items and gaps is decided by np use linspace\n",
    "#you decide number of elements\n",
    "b = np.linspace(1,100,100)\n",
    "print(b)"
   ]
  },
  {
   "cell_type": "code",
   "execution_count": 40,
   "metadata": {},
   "outputs": [
    {
     "data": {
      "text/plain": [
       "array([[[[  1.,   2.],\n",
       "         [  3.,   4.]],\n",
       "\n",
       "        [[  5.,   6.],\n",
       "         [  7.,   8.]],\n",
       "\n",
       "        [[  9.,  10.],\n",
       "         [ 11.,  12.]],\n",
       "\n",
       "        [[ 13.,  14.],\n",
       "         [ 15.,  16.]],\n",
       "\n",
       "        [[ 17.,  18.],\n",
       "         [ 19.,  20.]]],\n",
       "\n",
       "\n",
       "       [[[ 21.,  22.],\n",
       "         [ 23.,  24.]],\n",
       "\n",
       "        [[ 25.,  26.],\n",
       "         [ 27.,  28.]],\n",
       "\n",
       "        [[ 29.,  30.],\n",
       "         [ 31.,  32.]],\n",
       "\n",
       "        [[ 33.,  34.],\n",
       "         [ 35.,  36.]],\n",
       "\n",
       "        [[ 37.,  38.],\n",
       "         [ 39.,  40.]]],\n",
       "\n",
       "\n",
       "       [[[ 41.,  42.],\n",
       "         [ 43.,  44.]],\n",
       "\n",
       "        [[ 45.,  46.],\n",
       "         [ 47.,  48.]],\n",
       "\n",
       "        [[ 49.,  50.],\n",
       "         [ 51.,  52.]],\n",
       "\n",
       "        [[ 53.,  54.],\n",
       "         [ 55.,  56.]],\n",
       "\n",
       "        [[ 57.,  58.],\n",
       "         [ 59.,  60.]]],\n",
       "\n",
       "\n",
       "       [[[ 61.,  62.],\n",
       "         [ 63.,  64.]],\n",
       "\n",
       "        [[ 65.,  66.],\n",
       "         [ 67.,  68.]],\n",
       "\n",
       "        [[ 69.,  70.],\n",
       "         [ 71.,  72.]],\n",
       "\n",
       "        [[ 73.,  74.],\n",
       "         [ 75.,  76.]],\n",
       "\n",
       "        [[ 77.,  78.],\n",
       "         [ 79.,  80.]]],\n",
       "\n",
       "\n",
       "       [[[ 81.,  82.],\n",
       "         [ 83.,  84.]],\n",
       "\n",
       "        [[ 85.,  86.],\n",
       "         [ 87.,  88.]],\n",
       "\n",
       "        [[ 89.,  90.],\n",
       "         [ 91.,  92.]],\n",
       "\n",
       "        [[ 93.,  94.],\n",
       "         [ 95.,  96.]],\n",
       "\n",
       "        [[ 97.,  98.],\n",
       "         [ 99., 100.]]]])"
      ]
     },
     "execution_count": 40,
     "metadata": {},
     "output_type": "execute_result"
    }
   ],
   "source": [
    "#respahe changes the number of \n",
    "b.reshape(5,5,2,2)"
   ]
  },
  {
   "cell_type": "code",
   "execution_count": 41,
   "metadata": {},
   "outputs": [
    {
     "name": "stdout",
     "output_type": "stream",
     "text": [
      "[[0.53 0.01 0.78]\n",
      " [0.49 0.93 0.  ]\n",
      " [0.98 0.44 0.67]]\n"
     ]
    }
   ],
   "source": [
    "print(np.random.rand(3,3))"
   ]
  },
  {
   "cell_type": "code",
   "execution_count": 42,
   "metadata": {},
   "outputs": [
    {
     "name": "stdout",
     "output_type": "stream",
     "text": [
      "[[-0.17  0.01]\n",
      " [ 1.34 -0.3 ]]\n"
     ]
    }
   ],
   "source": [
    "print(np.random.randn(2,2))"
   ]
  },
  {
   "cell_type": "code",
   "execution_count": 44,
   "metadata": {},
   "outputs": [
    {
     "name": "stdout",
     "output_type": "stream",
     "text": [
      "[[44 38 96 67 12 81 83 10  2 93]\n",
      " [27 72 57 24 27 53 25 50 96 10]\n",
      " [36 82 49  3 32 82 25 71 14 55]\n",
      " [83 40 27  2 72 66 92 33  3 60]\n",
      " [68 49 79 93 31 16 37 66 48 83]\n",
      " [70 13 16 73 75 61 21 98 97 50]\n",
      " [17  6  7 74 18 83 35 26 72 10]\n",
      " [93 56 65 48 68 66  1 97 13 69]\n",
      " [79 71 37 18 56 47 18 20 39 69]\n",
      " [48 23 82 87 73  7 58 84  1 96]]\n"
     ]
    }
   ],
   "source": [
    "print(np.random.randint(1,100, (10,10)))"
   ]
  },
  {
   "cell_type": "code",
   "execution_count": 47,
   "metadata": {},
   "outputs": [
    {
     "name": "stdout",
     "output_type": "stream",
     "text": [
      "[[ 7 13  9]\n",
      " [ 9  2  5]\n",
      " [ 6  2 14]]\n",
      "[[12 40 14]\n",
      " [14  1  4]\n",
      " [ 9  1 48]]\n",
      "[[-7 -2 -8]\n",
      " [-8 -9 -9]\n",
      " [-7 -9 -2]]\n"
     ]
    }
   ],
   "source": [
    "x = np.random.randint(1,11, (3,3))\n",
    "y = np.random.randint(1,11,(3,3))\n",
    "print(x + y)\n",
    "print(x * y)\n",
    "print(x-10)"
   ]
  },
  {
   "cell_type": "code",
   "execution_count": 48,
   "metadata": {},
   "outputs": [
    {
     "data": {
      "text/plain": [
       "array([[74, 25, 65],\n",
       "       [18, 12, 24],\n",
       "       [43, 24, 73]])"
      ]
     },
     "execution_count": 48,
     "metadata": {},
     "output_type": "execute_result"
    }
   ],
   "source": [
    "x.dot(y)"
   ]
  },
  {
   "cell_type": "code",
   "execution_count": null,
   "metadata": {},
   "outputs": [],
   "source": []
  }
 ],
 "metadata": {
  "kernelspec": {
   "display_name": "base",
   "language": "python",
   "name": "python3"
  },
  "language_info": {
   "codemirror_mode": {
    "name": "ipython",
    "version": 3
   },
   "file_extension": ".py",
   "mimetype": "text/x-python",
   "name": "python",
   "nbconvert_exporter": "python",
   "pygments_lexer": "ipython3",
   "version": "3.11.4"
  },
  "orig_nbformat": 4
 },
 "nbformat": 4,
 "nbformat_minor": 2
}
