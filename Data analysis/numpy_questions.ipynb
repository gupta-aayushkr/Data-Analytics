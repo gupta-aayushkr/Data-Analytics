{
 "cells": [
  {
   "cell_type": "markdown",
   "metadata": {},
   "source": [
    "Write a NumPy program to create an array of 10 zeros.\n",
    "Write a NumPy program to create an array of 10 ones."
   ]
  },
  {
   "cell_type": "code",
   "execution_count": 2,
   "metadata": {},
   "outputs": [],
   "source": [
    "import numpy as np"
   ]
  },
  {
   "cell_type": "code",
   "execution_count": 5,
   "metadata": {},
   "outputs": [
    {
     "name": "stdout",
     "output_type": "stream",
     "text": [
      "[0. 0. 0. 0. 0. 0. 0. 0. 0. 0.]\n"
     ]
    }
   ],
   "source": [
    "arr = np.zeros(10)\n",
    "print(arr)"
   ]
  },
  {
   "cell_type": "code",
   "execution_count": 6,
   "metadata": {},
   "outputs": [
    {
     "name": "stdout",
     "output_type": "stream",
     "text": [
      "[1. 1. 1. 1. 1. 1. 1. 1. 1. 1.]\n"
     ]
    }
   ],
   "source": [
    "arr = np.ones(10)\n",
    "print(arr)"
   ]
  },
  {
   "cell_type": "markdown",
   "metadata": {},
   "source": [
    "Write a NumPy program to create a 3x3 matrix with values ranging from 0 to 8."
   ]
  },
  {
   "cell_type": "code",
   "execution_count": 8,
   "metadata": {},
   "outputs": [
    {
     "name": "stdout",
     "output_type": "stream",
     "text": [
      "[[5 1 2]\n",
      " [3 2 5]\n",
      " [0 1 5]]\n"
     ]
    }
   ],
   "source": [
    "x = np.random.randint(0,8, (3,3))\n",
    "print(x)"
   ]
  },
  {
   "cell_type": "markdown",
   "metadata": {},
   "source": [
    "Write a NumPy program to reverse an array (first element becomes the last)."
   ]
  },
  {
   "cell_type": "code",
   "execution_count": 16,
   "metadata": {},
   "outputs": [
    {
     "name": "stdout",
     "output_type": "stream",
     "text": [
      "[1 4 4 1 1 2 1 1 2 4]\n",
      "[4 2 1 1 2 1 1 4 4 1]\n",
      "----------\n",
      "[0 1 2 3 4 5 6 7 8 9]\n",
      "[9 8 7 6 5 4 3 2 1 0]\n"
     ]
    }
   ],
   "source": [
    "arr = np.random.randint(0,5,(10))\n",
    "arr2 = np.arange(0,10)\n",
    "print(arr)\n",
    "print(arr[::-1])\n",
    "print(\"-\"*10)\n",
    "print(arr2)\n",
    "print(arr2[::-1])"
   ]
  },
  {
   "cell_type": "markdown",
   "metadata": {},
   "source": [
    "Write a NumPy program to extract all odd numbers from an array."
   ]
  },
  {
   "cell_type": "code",
   "execution_count": 18,
   "metadata": {},
   "outputs": [
    {
     "name": "stdout",
     "output_type": "stream",
     "text": [
      "0\n",
      "2\n",
      "4\n",
      "6\n",
      "8\n"
     ]
    }
   ],
   "source": [
    "arr = np.arange(0,10)\n",
    "for i in arr:\n",
    "    if i%2 == 0:\n",
    "        print(i)"
   ]
  },
  {
   "cell_type": "markdown",
   "metadata": {},
   "source": [
    "Write a NumPy program to compute the sum of all elements, mean, and standard deviation of a given array."
   ]
  },
  {
   "cell_type": "code",
   "execution_count": 22,
   "metadata": {},
   "outputs": [
    {
     "name": "stdout",
     "output_type": "stream",
     "text": [
      "[0 1 2 3 4 5]\n",
      "mean 2.5\n",
      "sum 15\n",
      "standard deviation 1.707825127659933\n"
     ]
    }
   ],
   "source": [
    "x = np.arange(6)\n",
    "print(x)\n",
    "print(\"mean\", np.mean(x))\n",
    "print(\"sum\",np.sum(x))\n",
    "print(\"standard deviation\", np.std(x))"
   ]
  },
  {
   "cell_type": "markdown",
   "metadata": {},
   "source": [
    "Write a NumPy program to create a 5x5 matrix with random values and find the minimum and maximum values."
   ]
  },
  {
   "cell_type": "code",
   "execution_count": 27,
   "metadata": {},
   "outputs": [
    {
     "name": "stdout",
     "output_type": "stream",
     "text": [
      "[[14 42 28 76 89]\n",
      " [21 49 10  2 17]\n",
      " [70 67 73 47 95]\n",
      " [71 97 27 22 49]\n",
      " [12 68 44 49 54]]\n",
      "min 2\n",
      "max 97\n"
     ]
    }
   ],
   "source": [
    "arr = np.random.randint(0,100,(5,5))\n",
    "print(arr)\n",
    "print(\"min\", np.min(arr))\n",
    "print(\"max\", np.max(arr))"
   ]
  },
  {
   "cell_type": "markdown",
   "metadata": {},
   "source": [
    "Write a NumPy program to create a 2D array with 1 on the border and 0 inside."
   ]
  },
  {
   "cell_type": "code",
   "execution_count": 31,
   "metadata": {},
   "outputs": [
    {
     "name": "stdout",
     "output_type": "stream",
     "text": [
      "[[1. 1. 1. 1. 1.]\n",
      " [1. 0. 0. 0. 1.]\n",
      " [1. 0. 0. 0. 1.]\n",
      " [1. 0. 0. 0. 1.]\n",
      " [1. 1. 1. 1. 1.]]\n"
     ]
    }
   ],
   "source": [
    "arr = np.ones((5,5))\n",
    "arr[1:-1,1:-1]=0\n",
    "print(arr)"
   ]
  },
  {
   "cell_type": "markdown",
   "metadata": {},
   "source": [
    "Write a NumPy program to multiply two given matrices."
   ]
  },
  {
   "cell_type": "code",
   "execution_count": 39,
   "metadata": {},
   "outputs": [
    {
     "name": "stdout",
     "output_type": "stream",
     "text": [
      "[[108 146 178  29  91]\n",
      " [116 126 162  57 111]\n",
      " [136 144 222  46 128]\n",
      " [ 44  40  72  21  45]\n",
      " [169 205 260  76 171]]\n"
     ]
    }
   ],
   "source": [
    "arr1 = np.random.randint(1,10,(5,5))\n",
    "arr2 = np.random.randint(1,10,(5,5))\n",
    "print(arr1.dot(arr2))"
   ]
  },
  {
   "cell_type": "markdown",
   "metadata": {},
   "source": [
    "Write a NumPy program to find the unique elements of an array."
   ]
  },
  {
   "cell_type": "code",
   "execution_count": 41,
   "metadata": {},
   "outputs": [
    {
     "name": "stdout",
     "output_type": "stream",
     "text": [
      "[1 2 3 4 5 6 7 8 9]\n"
     ]
    }
   ],
   "source": [
    "print(np.unique(arr1))"
   ]
  },
  {
   "cell_type": "markdown",
   "metadata": {},
   "source": [
    "Write a NumPy program to extract the elements in the odd-numbered columns of a 2D array.\n",
    "Write a NumPy program to extract the elements in the even-numbered rows of a 2D array.\n",
    "Write a NumPy program to extract a subarray from a given array. The subarray should include the first 3 rows and the columns from index 1 to 4 (inclusive)."
   ]
  },
  {
   "cell_type": "code",
   "execution_count": 53,
   "metadata": {},
   "outputs": [
    {
     "name": "stdout",
     "output_type": "stream",
     "text": [
      "[[2 3 1 9 6]\n",
      " [9 2 8 7 4]\n",
      " [9 1 5 9 1]\n",
      " [8 8 7 7 7]\n",
      " [2 1 4 4 3]]\n",
      "[[2 1 6]\n",
      " [9 8 4]\n",
      " [9 5 1]\n",
      " [8 7 7]\n",
      " [2 4 3]] \n",
      " [[2 3 1 9 6]\n",
      " [9 1 5 9 1]\n",
      " [2 1 4 4 3]] \n",
      " [[3 1 9]\n",
      " [2 8 7]\n",
      " [1 5 9]]\n"
     ]
    }
   ],
   "source": [
    "arr1 = np.random.randint(1,10,(5,5))\n",
    "print(arr1)\n",
    "arr2 = arr1[:,0::2] #odd column\n",
    "arr3 = arr1[0::2, :] #odd rows\n",
    "arr4 = arr1[0:3, 1:4] # 3 rows, 1-4 column number\n",
    "print(arr2,\"\\n\", arr3, \"\\n\", arr4)"
   ]
  },
  {
   "cell_type": "markdown",
   "metadata": {},
   "source": [
    "Write a NumPy program to reverse the order of elements in each column of a 2D array."
   ]
  },
  {
   "cell_type": "code",
   "execution_count": 55,
   "metadata": {},
   "outputs": [
    {
     "name": "stdout",
     "output_type": "stream",
     "text": [
      "[[9 5 4 7 2]\n",
      " [6 7 3 8 2]\n",
      " [1 7 3 4 6]\n",
      " [2 8 6 4 1]\n",
      " [6 3 8 6 8]]\n",
      "[[2 7 4 5 9]\n",
      " [2 8 3 7 6]\n",
      " [6 4 3 7 1]\n",
      " [1 4 6 8 2]\n",
      " [8 6 8 3 6]]\n"
     ]
    }
   ],
   "source": [
    "arr1 = np.random.randint(1,10,(5,5))\n",
    "print(arr1)\n",
    "arr2 = arr1[:,::-1]\n",
    "print(arr2)"
   ]
  },
  {
   "cell_type": "markdown",
   "metadata": {},
   "source": [
    "Write a NumPy program to create a diagonal matrix from a given 1D array. The elements below the diagonal should be zero, and the elements above the diagonal should be squared."
   ]
  },
  {
   "cell_type": "code",
   "execution_count": 73,
   "metadata": {},
   "outputs": [
    {
     "name": "stdout",
     "output_type": "stream",
     "text": [
      "[3 1 8 8 8 4 9 1 3 6]\n",
      "[[ 3.  1. 64. 64. 64. 16. 81.  1.  9. 36.]\n",
      " [ 0.  1. 64. 64. 64. 16. 81.  1.  9. 36.]\n",
      " [ 0.  0.  8. 64. 64. 16. 81.  1.  9. 36.]\n",
      " [ 0.  0.  0.  8. 64. 16. 81.  1.  9. 36.]\n",
      " [ 0.  0.  0.  0.  8. 16. 81.  1.  9. 36.]\n",
      " [ 0.  0.  0.  0.  0.  4. 81.  1.  9. 36.]\n",
      " [ 0.  0.  0.  0.  0.  0.  9.  1.  9. 36.]\n",
      " [ 0.  0.  0.  0.  0.  0.  0.  1.  9. 36.]\n",
      " [ 0.  0.  0.  0.  0.  0.  0.  0.  3. 36.]\n",
      " [ 0.  0.  0.  0.  0.  0.  0.  0.  0.  6.]]\n"
     ]
    }
   ],
   "source": [
    "arr1 = np.random.randint(1,10,(10))\n",
    "print(arr1)\n",
    "arr1_len = len(arr1)\n",
    "diag = np.zeros((arr1_len, arr1_len))\n",
    "# print(diag)\n",
    "for i in range(arr1_len):\n",
    "    for j in range(arr1_len):\n",
    "        if i == j:\n",
    "            diag[i,j] = arr1[i]\n",
    "        # if i+1 == j:\n",
    "        #     diag[i, j] = arr1[j] ** 2\n",
    "        if i < j:\n",
    "            diag[i, j] = arr1[j] ** 2\n",
    "print(diag)"
   ]
  }
 ],
 "metadata": {
  "kernelspec": {
   "display_name": "base",
   "language": "python",
   "name": "python3"
  },
  "language_info": {
   "codemirror_mode": {
    "name": "ipython",
    "version": 3
   },
   "file_extension": ".py",
   "mimetype": "text/x-python",
   "name": "python",
   "nbconvert_exporter": "python",
   "pygments_lexer": "ipython3",
   "version": "3.11.4"
  },
  "orig_nbformat": 4
 },
 "nbformat": 4,
 "nbformat_minor": 2
}
