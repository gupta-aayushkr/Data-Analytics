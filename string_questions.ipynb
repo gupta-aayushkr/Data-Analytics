{
 "cells": [
  {
   "cell_type": "markdown",
   "metadata": {},
   "source": [
    "link = https://github.com/digipodium/Digipodium-Python-Practice-questions/blob/main/Strings.md"
   ]
  },
  {
   "cell_type": "markdown",
   "metadata": {},
   "source": [
    "Good Questions & Notes\n",
    "\n",
    "1. Join the following list by spaces( ) and print the result.\n",
    "words = ['Python', 'is', 'easy', 'to', 'learn']\n",
    "\n",
    "2. Remeber how to concat very simple--> s1 = s2 + s3\n",
    "\n",
    "3. Join has a strange syntax --> ' '.join(words) Here words a list and separator is ' '\n",
    "\n",
    "4. Reversing was good one --> print(a[::-1])\n",
    "\n",
    "5. Endswith & count syntax --> \n",
    "a = 'This is jungle?'\n",
    "b = a.endswith('?') #True\n",
    "b = a.count('?')  #1\n",
    "\n",
    "6. Strange output isnumeric detects number in a string\n",
    "a = \"1\"\n",
    "a.isnumeric() # True\n",
    "\n",
    "7. strip removes extra spaces different from split\n",
    "\n",
    "8. \n"
   ]
  },
  {
   "cell_type": "code",
   "execution_count": 2,
   "metadata": {},
   "outputs": [
    {
     "name": "stdout",
     "output_type": "stream",
     "text": [
      "python\n",
      "is\n",
      "everywhere\n"
     ]
    }
   ],
   "source": [
    "#4. Print the each word in different line of string python is everywhere.\n",
    "a = \"python is everywhere\"\n",
    "b = a.split()\n",
    "for i in b:\n",
    "    print(i)"
   ]
  },
  {
   "cell_type": "code",
   "execution_count": 5,
   "metadata": {},
   "outputs": [
    {
     "name": "stdout",
     "output_type": "stream",
     "text": [
      "dlroW olleH\n",
      "HELLO WORLD\n"
     ]
    }
   ],
   "source": [
    "#5. Print the string Hello World! in reverse.\n",
    "a = \"Hello World\"\n",
    "print(a[::-1])\n",
    "\n",
    "#6. Convert the string How are you? in uppercase.\n",
    "print(a.upper())"
   ]
  },
  {
   "cell_type": "code",
   "execution_count": 23,
   "metadata": {},
   "outputs": [
    {
     "name": "stdout",
     "output_type": "stream",
     "text": [
      "Python is easy to learn\n"
     ]
    }
   ],
   "source": [
    "#8. Join the following list by spaces( ) and print the result.\n",
    "words = ['Python', 'is', 'easy', 'to', 'learn']\n",
    "a = ' '.join(words)\n",
    "print(a)"
   ]
  },
  {
   "cell_type": "code",
   "execution_count": 28,
   "metadata": {},
   "outputs": [
    {
     "name": "stdout",
     "output_type": "stream",
     "text": [
      "to move to newline '\\n' is used\n"
     ]
    }
   ],
   "source": [
    "#10. Print this string to move to newline '\\n' is used. (results should look exactly like the provided string)\n",
    "a = r\"to move to newline '\\n' is used\"\n",
    "print(a)"
   ]
  },
  {
   "cell_type": "code",
   "execution_count": 29,
   "metadata": {},
   "outputs": [
    {
     "name": "stdout",
     "output_type": "stream",
     "text": [
      "python is great.\n"
     ]
    }
   ],
   "source": [
    "#12. concatenate the following strings and print the result\n",
    "s1 = 'python '\n",
    "s2 = 'is '\n",
    "s3 = 'great.'\n",
    "\n",
    "print(s1+s2+s3)"
   ]
  },
  {
   "cell_type": "code",
   "execution_count": 45,
   "metadata": {},
   "outputs": [
    {
     "data": {
      "text/plain": [
       "'this is not a good string'"
      ]
     },
     "execution_count": 45,
     "metadata": {},
     "output_type": "execute_result"
    }
   ],
   "source": [
    "text = '   this is not a good string           '\n",
    "text.strip()"
   ]
  },
  {
   "cell_type": "code",
   "execution_count": 53,
   "metadata": {},
   "outputs": [
    {
     "data": {
      "text/plain": [
       "2"
      ]
     },
     "execution_count": 53,
     "metadata": {},
     "output_type": "execute_result"
    }
   ],
   "source": [
    "#21 Extract names from the following string and store them in a list.\n",
    "names = 'Joe, David, Mark, Tom, Chris, Robert'\n",
    "names.split(', ')\n",
    "\n",
    "#22. In the following string, add aye in the end of every word and print the results.\n",
    "text = 'this is some text'\n",
    "text.replace(' ', ' aye ')\n",
    "\n",
    "#23. ask user to enter a string and check if the string contains fyi\n",
    "text.find('is')"
   ]
  },
  {
   "cell_type": "code",
   "execution_count": 68,
   "metadata": {},
   "outputs": [
    {
     "name": "stdout",
     "output_type": "stream",
     "text": [
      "python\n",
      "python\n"
     ]
    }
   ],
   "source": [
    "#24.Remove all the special characters and numbers from the following string\n",
    "text = '%p34@y!*-*!t68h#&on404'\n",
    "a = ''\n",
    "for i in text:\n",
    "    if i>'a' and i<'z':\n",
    "        a = a + i\n",
    "print(a)\n",
    "\n",
    "#24 approach 2\n",
    "text = '%p34@y!*-*!t68h#&on404'\n",
    "b = ''\n",
    "for i in text:\n",
    "    if i.isalpha() == True:\n",
    "        b = b + i\n",
    "print(b)\n"
   ]
  },
  {
   "cell_type": "code",
   "execution_count": 78,
   "metadata": {},
   "outputs": [
    {
     "name": "stdout",
     "output_type": "stream",
     "text": [
      "22\n",
      "4.6\n"
     ]
    }
   ],
   "source": [
    "#25. calculate the average word length of the following paragraph.\n",
    "para = \"this is a paragraph which is written just for the purpose of providing content to let the average word length be calculated\"\n",
    "p = para.split()\n",
    "print(len(p))\n",
    "length_sum = 0\n",
    "for i in p:\n",
    "    length_sum = length_sum + len(i)\n",
    "\n",
    "avg = length_sum/len(p)\n",
    "print(round(avg,1))"
   ]
  }
 ],
 "metadata": {
  "kernelspec": {
   "display_name": "base",
   "language": "python",
   "name": "python3"
  },
  "language_info": {
   "codemirror_mode": {
    "name": "ipython",
    "version": 3
   },
   "file_extension": ".py",
   "mimetype": "text/x-python",
   "name": "python",
   "nbconvert_exporter": "python",
   "pygments_lexer": "ipython3",
   "version": "3.11.4"
  },
  "orig_nbformat": 4
 },
 "nbformat": 4,
 "nbformat_minor": 2
}
