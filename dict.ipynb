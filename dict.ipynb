{
 "cells": [
  {
   "cell_type": "code",
   "execution_count": 8,
   "metadata": {},
   "outputs": [],
   "source": [
    "book = {\n",
    "    \"title\" : \"Man searches for meaning\",\n",
    "    \"author\": \"DK Wells\",\n",
    "    \"price\" : 99,\n",
    "    \"publisher\": \"Tor Books\",\n",
    "    \"year\" : 1950,\n",
    "    \"pages\": 100,\n",
    "    \"languages\": ['english','french','spanish']\n",
    "}"
   ]
  },
  {
   "cell_type": "code",
   "execution_count": 9,
   "metadata": {},
   "outputs": [
    {
     "name": "stdout",
     "output_type": "stream",
     "text": [
      "{'title': 'Man searches for meaning', 'author': 'DK Wells', 'price': 99, 'publisher': 'Tor Books', 'year': 1950, 'pages': 100, 'languages': ['english', 'french', 'spanish']}\n"
     ]
    }
   ],
   "source": [
    "print(book)"
   ]
  },
  {
   "cell_type": "code",
   "execution_count": 13,
   "metadata": {},
   "outputs": [
    {
     "name": "stdout",
     "output_type": "stream",
     "text": [
      "Man searches for meaning\n"
     ]
    }
   ],
   "source": [
    "print(book['title'])"
   ]
  },
  {
   "cell_type": "code",
   "execution_count": 14,
   "metadata": {},
   "outputs": [],
   "source": [
    "#new value\n",
    "book['rating'] = 4.9"
   ]
  },
  {
   "cell_type": "code",
   "execution_count": 15,
   "metadata": {},
   "outputs": [
    {
     "name": "stdout",
     "output_type": "stream",
     "text": [
      "{'title': 'Man searches for meaning', 'author': 'DK Wells', 'price': 99, 'publisher': 'Tor Books', 'year': 1950, 'pages': 100, 'languages': ['english', 'french', 'spanish'], 'rating': 4.9}\n"
     ]
    }
   ],
   "source": [
    "print(book)"
   ]
  },
  {
   "cell_type": "code",
   "execution_count": 16,
   "metadata": {},
   "outputs": [],
   "source": [
    "book['type'] = 'paperback'"
   ]
  },
  {
   "cell_type": "code",
   "execution_count": 17,
   "metadata": {},
   "outputs": [
    {
     "name": "stdout",
     "output_type": "stream",
     "text": [
      "{'title': 'Man searches for meaning', 'author': 'DK Wells', 'price': 99, 'publisher': 'Tor Books', 'year': 1950, 'pages': 100, 'languages': ['english', 'french', 'spanish'], 'rating': 4.9, 'type': 'paperback'}\n"
     ]
    }
   ],
   "source": [
    "print(book)"
   ]
  },
  {
   "cell_type": "code",
   "execution_count": 19,
   "metadata": {},
   "outputs": [
    {
     "name": "stdout",
     "output_type": "stream",
     "text": [
      "Man searches for meaning\n",
      "DK Wells\n",
      "99\n",
      "Tor Books\n",
      "1950\n",
      "100\n",
      "['english', 'french', 'spanish']\n",
      "4.9\n",
      "paperback\n"
     ]
    }
   ],
   "source": [
    "for i in book:\n",
    "    print(book[i])"
   ]
  },
  {
   "cell_type": "code",
   "execution_count": 20,
   "metadata": {},
   "outputs": [],
   "source": [
    "book['pages'] = 89"
   ]
  },
  {
   "cell_type": "code",
   "execution_count": 22,
   "metadata": {},
   "outputs": [
    {
     "name": "stdout",
     "output_type": "stream",
     "text": [
      "{'title': 'Man searches for meaning', 'author': 'DK Wells', 'price': 99, 'publisher': 'Tor Books', 'year': 1950, 'pages': 89, 'languages': ['english', 'french', 'spanish'], 'rating': 4.9, 'type': 'paperback'}\n"
     ]
    }
   ],
   "source": [
    "print(book)"
   ]
  },
  {
   "cell_type": "code",
   "execution_count": 24,
   "metadata": {},
   "outputs": [
    {
     "data": {
      "text/plain": [
       "89"
      ]
     },
     "execution_count": 24,
     "metadata": {},
     "output_type": "execute_result"
    }
   ],
   "source": [
    "#remove\n",
    "book.pop(\"pages\")"
   ]
  },
  {
   "cell_type": "code",
   "execution_count": 25,
   "metadata": {},
   "outputs": [
    {
     "name": "stdout",
     "output_type": "stream",
     "text": [
      "{'title': 'Man searches for meaning', 'author': 'DK Wells', 'price': 99, 'publisher': 'Tor Books', 'year': 1950, 'languages': ['english', 'french', 'spanish'], 'rating': 4.9, 'type': 'paperback'}\n"
     ]
    }
   ],
   "source": [
    "print(book)"
   ]
  },
  {
   "cell_type": "code",
   "execution_count": 26,
   "metadata": {},
   "outputs": [],
   "source": [
    "book['author'] = 'akash'"
   ]
  },
  {
   "cell_type": "code",
   "execution_count": 27,
   "metadata": {},
   "outputs": [
    {
     "name": "stdout",
     "output_type": "stream",
     "text": [
      "{'title': 'Man searches for meaning', 'author': 'akash', 'price': 99, 'publisher': 'Tor Books', 'year': 1950, 'languages': ['english', 'french', 'spanish'], 'rating': 4.9, 'type': 'paperback'}\n"
     ]
    }
   ],
   "source": [
    "print(book)"
   ]
  },
  {
   "cell_type": "code",
   "execution_count": 43,
   "metadata": {},
   "outputs": [
    {
     "data": {
      "text/plain": [
       "[('title', 'Man searches for meaning'),\n",
       " ('author', 'akash'),\n",
       " ('price', 99),\n",
       " ('publisher', 'Tor Books'),\n",
       " ('year', 1950),\n",
       " ('languages', ['english', 'french', 'spanish']),\n",
       " ('rating', 4.9),\n",
       " ('type', 'paperback')]"
      ]
     },
     "execution_count": 43,
     "metadata": {},
     "output_type": "execute_result"
    }
   ],
   "source": [
    "#view all values\n",
    "list(book.values())\n",
    "list(book.keys())\n",
    "list(book.items())"
   ]
  },
  {
   "cell_type": "code",
   "execution_count": 45,
   "metadata": {},
   "outputs": [
    {
     "data": {
      "text/plain": [
       "'Tor Books'"
      ]
     },
     "execution_count": 45,
     "metadata": {},
     "output_type": "execute_result"
    }
   ],
   "source": [
    "book.get('publisher','not found')"
   ]
  },
  {
   "cell_type": "code",
   "execution_count": 46,
   "metadata": {},
   "outputs": [
    {
     "data": {
      "text/plain": [
       "'not found'"
      ]
     },
     "execution_count": 46,
     "metadata": {},
     "output_type": "execute_result"
    }
   ],
   "source": [
    "book.get('Publisher','not found')"
   ]
  },
  {
   "cell_type": "code",
   "execution_count": 56,
   "metadata": {},
   "outputs": [
    {
     "name": "stdout",
     "output_type": "stream",
     "text": [
      "{'title': 'Man searches for meaning', 'author': 'akash', 'price': 99, 'publisher': 'Tor Books', 'year': 1950, 'languages': ['english', 'french', 'spanish'], 'rating': 4.9, 'type': 'paperback'}\n"
     ]
    }
   ],
   "source": [
    "print(book)"
   ]
  },
  {
   "cell_type": "code",
   "execution_count": 59,
   "metadata": {},
   "outputs": [
    {
     "name": "stdout",
     "output_type": "stream",
     "text": [
      "['Man searches for meaning', 'akash', 99, 'Tor Books', 1950, ['english', 'french', 'spanish'], 4.9, 'paperback']\n",
      "type\n"
     ]
    }
   ],
   "source": [
    "val = 'paperback'\n",
    "index = 0\n",
    "count = 0\n",
    "s_val = list(book.values())\n",
    "s_key = list(book.keys())\n",
    "# print(s_val)\n",
    "list(book.keys())\n",
    "for i in s_val:\n",
    "    index = index + 1\n",
    "    if val == i:\n",
    "        count = index\n",
    "print(s_key[count-1])"
   ]
  },
  {
   "cell_type": "code",
   "execution_count": 66,
   "metadata": {},
   "outputs": [
    {
     "name": "stdout",
     "output_type": "stream",
     "text": [
      "{'movie_one': 10.0, 'movie_two': 2.0, 'movie_three': 3.0}\n"
     ]
    }
   ],
   "source": [
    "myrating ={}\n",
    "for i in range(1,4):\n",
    "    name = input(\"Movie Name\")\n",
    "    rating = float(input(\"Movie Rating\"))\n",
    "    myrating[name] = rating\n",
    "print(myrating)\n"
   ]
  },
  {
   "cell_type": "code",
   "execution_count": 67,
   "metadata": {},
   "outputs": [
    {
     "name": "stdout",
     "output_type": "stream",
     "text": [
      "movie_one\n",
      "movie_two\n",
      "movie_three\n",
      "------------------------------\n",
      "movie_one 10.0\n",
      "movie_two 2.0\n",
      "movie_three 3.0\n",
      "------------------------------\n",
      "movie_one 10.0\n",
      "movie_two 2.0\n",
      "movie_three 3.0\n"
     ]
    }
   ],
   "source": [
    "for i in myrating:\n",
    "    print(i) #only keys\n",
    "\n",
    "print('---' * 10)\n",
    "for i in myrating:\n",
    "    print(i, myrating[i])\n",
    "print('---'*10)\n",
    "\n",
    "for i,v in myrating.items():\n",
    "    print(i,v)"
   ]
  },
  {
   "cell_type": "code",
   "execution_count": 65,
   "metadata": {},
   "outputs": [
    {
     "name": "stdout",
     "output_type": "stream",
     "text": [
      "{}\n"
     ]
    }
   ],
   "source": [
    "book.clear()\n",
    "print(book)"
   ]
  },
  {
   "cell_type": "code",
   "execution_count": 75,
   "metadata": {},
   "outputs": [
    {
     "name": "stdout",
     "output_type": "stream",
     "text": [
      "Title: The Great Gatsby\n",
      "Author: F. Scott Fitzgerald\n",
      "Year: 1925\n",
      "Genre: Fiction\n"
     ]
    }
   ],
   "source": [
    "books = {\n",
    "    \"book1\": {\n",
    "        \"title\": \"The Great Gatsby\",\n",
    "        \"author\": \"F. Scott Fitzgerald\",\n",
    "        \"year\": 1925,\n",
    "        \"genre\": \"Fiction\"\n",
    "    },\n",
    "    \"book2\": {\n",
    "        \"title\": \"To Kill a Mockingbird\",\n",
    "        \"author\": \"Harper Lee\",\n",
    "        \"year\": 1960,\n",
    "        \"genre\": \"Fiction\"\n",
    "    },\n",
    "    \"book3\": {\n",
    "        \"title\": \"1984\",\n",
    "        \"author\": \"George Orwell\",\n",
    "        \"year\": 1949,\n",
    "        \"genre\": \"Dystopian\"\n",
    "    }\n",
    "}\n",
    "\n",
    "# Accessing information about a specific book\n",
    "print(\"Title:\", books[\"book1\"][\"title\"])\n",
    "print(\"Author:\", books[\"book1\"][\"author\"])\n",
    "print(\"Year:\", books[\"book1\"][\"year\"])\n",
    "print(\"Genre:\", books[\"book1\"][\"genre\"])\n"
   ]
  },
  {
   "cell_type": "code",
   "execution_count": 85,
   "metadata": {},
   "outputs": [
    {
     "name": "stdout",
     "output_type": "stream",
     "text": [
      "book1\n",
      "\ttitle = The Great Gatsby\n",
      "\tauthor = F. Scott Fitzgerald\n",
      "\tyear = 1925\n",
      "\tgenre = Fiction\n",
      "book2\n",
      "\ttitle = To Kill a Mockingbird\n",
      "\tauthor = Harper Lee\n",
      "\tyear = 1960\n",
      "\tgenre = Fiction\n",
      "book3\n",
      "\ttitle = 1984\n",
      "\tauthor = George Orwell\n",
      "\tyear = 1949\n",
      "\tgenre = Dystopian\n"
     ]
    }
   ],
   "source": [
    "for key, value in books.items():\n",
    "    print(key)\n",
    "    for key2, value2 in value.items():\n",
    "        print(f\"\\t{key2} = {value2}\")"
   ]
  },
  {
   "cell_type": "code",
   "execution_count": 88,
   "metadata": {},
   "outputs": [
    {
     "name": "stdout",
     "output_type": "stream",
     "text": [
      "book1 {'title': 'The Great Gatsby', 'author': 'F. Scott Fitzgerald', 'year': 1925, 'genre': 'Fiction'}\n"
     ]
    }
   ],
   "source": [
    "query = 'The Great Gatsby'\n",
    "for name, detail in books.items():\n",
    "    if query in detail['title']:\n",
    "        print(name, detail)"
   ]
  },
  {
   "cell_type": "code",
   "execution_count": 98,
   "metadata": {},
   "outputs": [
    {
     "name": "stdout",
     "output_type": "stream",
     "text": [
      "{1: 1, 2: 4, 3: 9, 4: 16, 5: 25, 6: 36, 7: 49, 8: 64, 9: 81, 10: 100, 11: 121, 12: 144, 13: 169, 14: 196, 15: 225, 16: 256, 17: 289, 18: 324, 19: 361, 20: 400, 21: 441, 22: 484, 23: 529, 24: 576, 25: 625, 26: 676, 27: 729, 28: 784, 29: 841, 30: 900, 31: 961, 32: 1024, 33: 1089, 34: 1156, 35: 1225, 36: 1296, 37: 1369, 38: 1444, 39: 1521, 40: 1600, 41: 1681, 42: 1764, 43: 1849, 44: 1936, 45: 2025, 46: 2116, 47: 2209, 48: 2304, 49: 2401, 50: 2500, 51: 2601, 52: 2704, 53: 2809, 54: 2916, 55: 3025, 56: 3136, 57: 3249, 58: 3364, 59: 3481, 60: 3600, 61: 3721, 62: 3844, 63: 3969, 64: 4096, 65: 4225, 66: 4356, 67: 4489, 68: 4624, 69: 4761, 70: 4900, 71: 5041, 72: 5184, 73: 5329, 74: 5476, 75: 5625, 76: 5776, 77: 5929, 78: 6084, 79: 6241, 80: 6400, 81: 6561, 82: 6724, 83: 6889, 84: 7056, 85: 7225, 86: 7396, 87: 7569, 88: 7744, 89: 7921, 90: 8100, 91: 8281, 92: 8464, 93: 8649, 94: 8836, 95: 9025, 96: 9216, 97: 9409, 98: 9604, 99: 9801}\n",
      "1 1\n",
      "2 4\n",
      "3 9\n",
      "4 16\n",
      "5 25\n",
      "6 36\n",
      "7 49\n",
      "8 64\n",
      "9 81\n",
      "10 100\n",
      "11 121\n",
      "12 144\n",
      "13 169\n",
      "14 196\n",
      "15 225\n",
      "16 256\n",
      "17 289\n",
      "18 324\n",
      "19 361\n",
      "20 400\n",
      "21 441\n",
      "22 484\n",
      "23 529\n",
      "24 576\n",
      "25 625\n",
      "26 676\n",
      "27 729\n",
      "28 784\n",
      "29 841\n",
      "30 900\n",
      "31 961\n",
      "32 1024\n",
      "33 1089\n",
      "34 1156\n",
      "35 1225\n",
      "36 1296\n",
      "37 1369\n",
      "38 1444\n",
      "39 1521\n",
      "40 1600\n",
      "41 1681\n",
      "42 1764\n",
      "43 1849\n",
      "44 1936\n",
      "45 2025\n",
      "46 2116\n",
      "47 2209\n",
      "48 2304\n",
      "49 2401\n",
      "50 2500\n",
      "51 2601\n",
      "52 2704\n",
      "53 2809\n",
      "54 2916\n",
      "55 3025\n",
      "56 3136\n",
      "57 3249\n",
      "58 3364\n",
      "59 3481\n",
      "60 3600\n",
      "61 3721\n",
      "62 3844\n",
      "63 3969\n",
      "64 4096\n",
      "65 4225\n",
      "66 4356\n",
      "67 4489\n",
      "68 4624\n",
      "69 4761\n",
      "70 4900\n",
      "71 5041\n",
      "72 5184\n",
      "73 5329\n",
      "74 5476\n",
      "75 5625\n",
      "76 5776\n",
      "77 5929\n",
      "78 6084\n",
      "79 6241\n",
      "80 6400\n",
      "81 6561\n",
      "82 6724\n",
      "83 6889\n",
      "84 7056\n",
      "85 7225\n",
      "86 7396\n",
      "87 7569\n",
      "88 7744\n",
      "89 7921\n",
      "90 8100\n",
      "91 8281\n",
      "92 8464\n",
      "93 8649\n",
      "94 8836\n",
      "95 9025\n",
      "96 9216\n",
      "97 9409\n",
      "98 9604\n",
      "99 9801\n"
     ]
    }
   ],
   "source": [
    "#wap create a dict that store numbers and their squaes\n",
    "number = [1,2,3,4,5,6,7,8,9,10]\n",
    "dict = {}\n",
    "for i in range(1,100):\n",
    "    dict[i] = i * i\n",
    "print(dict)\n",
    "for key, val in dict.items():\n",
    "    print(key, val)"
   ]
  },
  {
   "cell_type": "code",
   "execution_count": 100,
   "metadata": {},
   "outputs": [
    {
     "name": "stdout",
     "output_type": "stream",
     "text": [
      "{'mango': 100, 'apple': 400}\n"
     ]
    }
   ],
   "source": [
    "#wap to ask user to enter itmes and its price and then store it in a dictionary,\n",
    "# the program should stop when the user wants\n",
    "\n",
    "dict = {}\n",
    "while input('continue adding [y]:') == 'y':\n",
    "    item = input(\"enter item\")\n",
    "    price = int(input(\"Enter price\"))\n",
    "    dict[item] = price\n",
    "print(dict)"
   ]
  },
  {
   "cell_type": "code",
   "execution_count": 101,
   "metadata": {},
   "outputs": [
    {
     "name": "stdout",
     "output_type": "stream",
     "text": [
      "{}\n"
     ]
    }
   ],
   "source": [
    "items = {}\n",
    "while True:\n",
    "    item = input(\"enter name:\")\n",
    "    if not item: break\n",
    "    price = int(input('enter price'))\n",
    "    items[item] = price\n",
    "print(items)"
   ]
  },
  {
   "cell_type": "code",
   "execution_count": null,
   "metadata": {},
   "outputs": [],
   "source": []
  }
 ],
 "metadata": {
  "kernelspec": {
   "display_name": "base",
   "language": "python",
   "name": "python3"
  },
  "language_info": {
   "codemirror_mode": {
    "name": "ipython",
    "version": 3
   },
   "file_extension": ".py",
   "mimetype": "text/x-python",
   "name": "python",
   "nbconvert_exporter": "python",
   "pygments_lexer": "ipython3",
   "version": "3.11.4"
  },
  "orig_nbformat": 4
 },
 "nbformat": 4,
 "nbformat_minor": 2
}
