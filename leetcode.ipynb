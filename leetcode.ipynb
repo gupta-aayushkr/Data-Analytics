{
 "cells": [
  {
   "cell_type": "markdown",
   "metadata": {},
   "source": [
    "1. palindrome are when you reverse them gives the same number or string"
   ]
  },
  {
   "cell_type": "code",
   "execution_count": 11,
   "metadata": {},
   "outputs": [
    {
     "name": "stdout",
     "output_type": "stream",
     "text": [
      "1\n",
      "0 = 0 + 1\n",
      "2\n",
      "1 = 1 + 8\n",
      "1\n",
      "12 = 12 + 1\n",
      "121\n"
     ]
    }
   ],
   "source": [
    "x=121\n",
    "pw = len(str(x))\n",
    "sum = 0\n",
    "while x/10 > 0:\n",
    "    rem = x%10\n",
    "    print(rem)\n",
    "    print(f'{sum} = {sum} + {rem ** pw}')\n",
    "    sum = sum*10 + rem\n",
    "    x = x//10\n",
    "print(sum)"
   ]
  },
  {
   "cell_type": "code",
   "execution_count": 19,
   "metadata": {},
   "outputs": [],
   "source": [
    "def isPalindrome(x: int) -> bool:\n",
    "        print(x)\n",
    "        pw = len(str(x))\n",
    "        temp = x\n",
    "        sum = 0\n",
    "        while x/10 > 0:\n",
    "            rem = x%10\n",
    "            sum = sum*10 + rem\n",
    "            x = x//10\n",
    "        if sum == temp: return True\n",
    "        else: return False"
   ]
  },
  {
   "cell_type": "code",
   "execution_count": 20,
   "metadata": {},
   "outputs": [
    {
     "name": "stdout",
     "output_type": "stream",
     "text": [
      "121\n"
     ]
    },
    {
     "data": {
      "text/plain": [
       "True"
      ]
     },
     "execution_count": 20,
     "metadata": {},
     "output_type": "execute_result"
    }
   ],
   "source": [
    "isPalindrome(x=121)"
   ]
  },
  {
   "cell_type": "code",
   "execution_count": 24,
   "metadata": {},
   "outputs": [
    {
     "data": {
      "text/plain": [
       "1"
      ]
     },
     "execution_count": 24,
     "metadata": {},
     "output_type": "execute_result"
    }
   ],
   "source": [
    "dict1 = {\n",
    "                \"I\": 1,\n",
    "                \"V\": 5,\n",
    "                \"X\": 10,\n",
    "                \"L\": 50,\n",
    "                \"C\": 100,\n",
    "                \"D\": 500,\n",
    "                \"M\": 1000\n",
    "            }\n",
    "\n",
    "dict1[\"I\"]"
   ]
  },
  {
   "cell_type": "code",
   "execution_count": 31,
   "metadata": {},
   "outputs": [],
   "source": [
    "class Solution:\n",
    "    def romanToInt(s: str) -> int:\n",
    "            slist = list(s)\n",
    "            dict1 = {\n",
    "                \"I\": 1,\n",
    "                \"V\": 5,\n",
    "                \"X\": 10,\n",
    "                \"L\": 50,\n",
    "                \"C\": 100,\n",
    "                \"D\": 500,\n",
    "                \"M\": 1000\n",
    "            }\n",
    "            sum = 0\n",
    "            for i in slist:\n",
    "                sum = sum + dict1[i]\n",
    "            return sum"
   ]
  },
  {
   "cell_type": "code",
   "execution_count": 33,
   "metadata": {},
   "outputs": [
    {
     "data": {
      "text/plain": [
       "2216"
      ]
     },
     "execution_count": 33,
     "metadata": {},
     "output_type": "execute_result"
    }
   ],
   "source": [
    "Solution.romanToInt(s = \"MCMXCIV\")"
   ]
  },
  {
   "cell_type": "code",
   "execution_count": 49,
   "metadata": {},
   "outputs": [
    {
     "name": "stdout",
     "output_type": "stream",
     "text": [
      "I\n"
     ]
    }
   ],
   "source": [
    "slist = [\"I\",\"V\",\"I\"]\n",
    "slist_iter = iter(slist)\n",
    "for i in slist_iter:\n",
    "    if i == 'I' and slist[slist.index(i) + 1] == 'V':\n",
    "        next(slist_iter)\n",
    "        next(slist_iter)\n",
    "    print(i)"
   ]
  },
  {
   "cell_type": "code",
   "execution_count": 146,
   "metadata": {},
   "outputs": [],
   "source": [
    "# dificult"
   ]
  },
  {
   "cell_type": "code",
   "execution_count": 153,
   "metadata": {},
   "outputs": [],
   "source": [
    "class Solution:\n",
    "    def romanToInt(s: str) -> int:\n",
    "            dict1 = {\n",
    "                \"I\": 1,\n",
    "                \"V\": 5,\n",
    "                \"X\": 10,\n",
    "                \"L\": 50,\n",
    "                \"C\": 100,\n",
    "                \"D\": 500,\n",
    "                \"M\": 1000\n",
    "            }\n",
    "            total = 0\n",
    "            for i in range(len(s) - 1):\n",
    "                if dict1[s[i]] < dict1[s[i+1]]:\n",
    "                    total -= dict1[s[i]]\n",
    "                else:\n",
    "                    total += dict1[s[i]]\n",
    "            return total + dict1[s[-1]]\n"
   ]
  },
  {
   "cell_type": "code",
   "execution_count": 154,
   "metadata": {},
   "outputs": [
    {
     "data": {
      "text/plain": [
       "4"
      ]
     },
     "execution_count": 154,
     "metadata": {},
     "output_type": "execute_result"
    }
   ],
   "source": [
    "Solution.romanToInt(\"IV\")"
   ]
  },
  {
   "cell_type": "code",
   "execution_count": 149,
   "metadata": {},
   "outputs": [],
   "source": [
    "class Solution2(object):\n",
    "    def romanToInt(s):\n",
    "        roman = {\n",
    "            \"I\": 1,\n",
    "            \"V\": 5,\n",
    "            \"X\": 10,\n",
    "            \"L\": 50,\n",
    "            \"C\": 100,\n",
    "            \"D\": 500,\n",
    "            \"M\": 1000\n",
    "        }\n",
    "        total = 0\n",
    "        for i in range(len(s) - 1):\n",
    "            if roman[s[i]] < roman[s[i+1]]:\n",
    "                total -= roman[s[i]]\n",
    "            else:\n",
    "                total += roman[s[i]]\n",
    "        return total + roman[s[-1]]"
   ]
  },
  {
   "cell_type": "code",
   "execution_count": 150,
   "metadata": {},
   "outputs": [
    {
     "data": {
      "text/plain": [
       "4"
      ]
     },
     "execution_count": 150,
     "metadata": {},
     "output_type": "execute_result"
    }
   ],
   "source": [
    "Solution2.romanToInt(\"IV\")"
   ]
  },
  {
   "cell_type": "code",
   "execution_count": null,
   "metadata": {},
   "outputs": [],
   "source": []
  }
 ],
 "metadata": {
  "kernelspec": {
   "display_name": "base",
   "language": "python",
   "name": "python3"
  },
  "language_info": {
   "codemirror_mode": {
    "name": "ipython",
    "version": 3
   },
   "file_extension": ".py",
   "mimetype": "text/x-python",
   "name": "python",
   "nbconvert_exporter": "python",
   "pygments_lexer": "ipython3",
   "version": "3.11.4"
  },
  "orig_nbformat": 4
 },
 "nbformat": 4,
 "nbformat_minor": 2
}
