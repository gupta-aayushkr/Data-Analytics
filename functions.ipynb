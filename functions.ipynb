{
 "cells": [
  {
   "cell_type": "markdown",
   "metadata": {},
   "source": [
    "syntax\n",
    "```\n",
    "def fun_name([parameter]):\n",
    "    statement 1\n",
    "    statement 2\n",
    "    ....\n",
    "    statement n\n",
    "    [return expression]\n",
    "```\n",
    "\n",
    "example\n",
    "```\n",
    "def area(width, height):\n",
    "    a = width * height\n",
    "    return a\n",
    "```\n"
   ]
  },
  {
   "cell_type": "markdown",
   "metadata": {},
   "source": [
    "- based on parameter and return value\n",
    "    1. no parameter, no return value\n",
    "    2. no parameter, return value\n",
    "    3. parameter, no return value\n",
    "    4. parameter, return value\n",
    "\n",
    "\n",
    "- based on parameter type\n",
    "    1. required parameter\n",
    "    2. keywrods parameter\n",
    "    3. default parameter\n",
    "    4. variable length parameter (*args)\n",
    "    5. variable keyword arguments (**kwargs)\n",
    "\n",
    "\n",
    "- other types of function\n",
    "    1. lambda function\n",
    "    2. generator function\n",
    "    3. recursive function"
   ]
  },
  {
   "cell_type": "code",
   "execution_count": 1,
   "metadata": {},
   "outputs": [
    {
     "name": "stdout",
     "output_type": "stream",
     "text": [
      "Area is 2200\n"
     ]
    }
   ],
   "source": [
    "# value returning function\n",
    "def area():\n",
    "    l = int(input(\"Enter the l = \"))\n",
    "    b = int(input(\"Enter the b = \"))\n",
    "    return l*b\n",
    "\n",
    "ans = area()\n",
    "print(f'Area is {ans}')"
   ]
  },
  {
   "cell_type": "code",
   "execution_count": 7,
   "metadata": {},
   "outputs": [
    {
     "name": "stdout",
     "output_type": "stream",
     "text": [
      "si 13.31\n",
      "amt 24.310000000000002\n",
      "13.31 24.310000000000002\n"
     ]
    }
   ],
   "source": [
    "def math():\n",
    "    p = int(input(\"Enter the Principle: \"))\n",
    "    r = float(int(input(\"Enter the rate: \")))\n",
    "    t = int(input(\"Enter the time\"))\n",
    "    si = p*r*t/100\n",
    "    amt = p + si\n",
    "    return si, amt #return tuple\n",
    "    return [si, amt] #return list\n",
    "\n",
    "# print(math()[0])\n",
    "result = math()\n",
    "print('si', result[0])\n",
    "print('amt', result[1])\n",
    "\n",
    "\n",
    "si, amt = math()\n",
    "print(si, amt)\n"
   ]
  },
  {
   "cell_type": "code",
   "execution_count": 18,
   "metadata": {},
   "outputs": [],
   "source": [
    "def is_armstrong(number):\n",
    "    t = number\n",
    "    s = 0\n",
    "    pw = len(str(number))\n",
    "    while number > 0:\n",
    "        r = number % 10\n",
    "        s = s + r ** pw\n",
    "        number = number//10\n",
    "    return t == s"
   ]
  },
  {
   "cell_type": "code",
   "execution_count": 16,
   "metadata": {},
   "outputs": [
    {
     "name": "stdout",
     "output_type": "stream",
     "text": [
      "False\n"
     ]
    }
   ],
   "source": [
    "x = int(input('enter a number'))\n",
    "print(is_armstrong(x))"
   ]
  },
  {
   "cell_type": "code",
   "execution_count": 20,
   "metadata": {},
   "outputs": [
    {
     "name": "stdout",
     "output_type": "stream",
     "text": [
      "153\n",
      "370\n",
      "371\n",
      "407\n",
      "1634\n",
      "8208\n",
      "9474\n"
     ]
    }
   ],
   "source": [
    "for i in range(100,9999):\n",
    "    if is_armstrong(i):\n",
    "        print(i)"
   ]
  },
  {
   "cell_type": "code",
   "execution_count": 21,
   "metadata": {},
   "outputs": [],
   "source": [
    "def adder(a,b,c):\n",
    "    return a + b + c"
   ]
  },
  {
   "cell_type": "code",
   "execution_count": 22,
   "metadata": {},
   "outputs": [
    {
     "name": "stdout",
     "output_type": "stream",
     "text": [
      "6\n",
      "11\n",
      "50\n",
      "6\n"
     ]
    }
   ],
   "source": [
    "print(adder(1,2,3))\n",
    "print(adder(a=4, b=2, c=5))\n",
    "print(adder(10,c=20, b=20))\n",
    "print(adder(1,2,c=3))"
   ]
  },
  {
   "cell_type": "code",
   "execution_count": 23,
   "metadata": {},
   "outputs": [
    {
     "name": "stdout",
     "output_type": "stream",
     "text": [
      "6\n"
     ]
    }
   ],
   "source": [
    "print(adder(1,2,3))"
   ]
  },
  {
   "cell_type": "code",
   "execution_count": 24,
   "metadata": {},
   "outputs": [],
   "source": [
    "def multiplier(a,b,c=1):\n",
    "    return a * b * c"
   ]
  },
  {
   "cell_type": "code",
   "execution_count": 26,
   "metadata": {},
   "outputs": [
    {
     "name": "stdout",
     "output_type": "stream",
     "text": [
      "2\n",
      "6\n",
      "12\n"
     ]
    }
   ],
   "source": [
    "print(multiplier(1,2))\n",
    "print(multiplier(1,2,3))\n",
    "print(multiplier(1,4,c=3))"
   ]
  },
  {
   "cell_type": "code",
   "execution_count": null,
   "metadata": {},
   "outputs": [],
   "source": []
  }
 ],
 "metadata": {
  "kernelspec": {
   "display_name": "base",
   "language": "python",
   "name": "python3"
  },
  "language_info": {
   "codemirror_mode": {
    "name": "ipython",
    "version": 3
   },
   "file_extension": ".py",
   "mimetype": "text/x-python",
   "name": "python",
   "nbconvert_exporter": "python",
   "pygments_lexer": "ipython3",
   "version": "3.11.4"
  },
  "orig_nbformat": 4
 },
 "nbformat": 4,
 "nbformat_minor": 2
}
