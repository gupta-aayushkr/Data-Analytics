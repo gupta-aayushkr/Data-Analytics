{
 "cells": [
  {
   "cell_type": "markdown",
   "metadata": {},
   "source": [
    "Remove useless characters from string function usable later:\n",
    "\n",
    "1. from string import punctuation\n",
    "def cleaner(data, chars=None):\n",
    "    if chars is None:\n",
    "        chars = punctuation\n",
    "    for c in chars:\n",
    "        data = data.replace(c,'')\n",
    "    return data\n",
    "\n",
    "2. For unlimited arguments like print we can use *\n",
    "def multiplier(*nums):\n",
    "    result = 1\n",
    "    for num in nums:\n",
    "        result = result * num\n",
    "    return result\n",
    "\n",
    "3. another great way for function\n",
    "def aggregator(*x, action='sum'):\n",
    "    if action == 'sum':\n",
    "        result = sum(x)\n",
    "    elif action == 'count':\n",
    "        result = len(x)\n",
    "    elif action == 'mean':\n",
    "        result = sum(x)/len(x)\n",
    "    else:\n",
    "        raise ValueError(\"Invalid Action\")\n",
    "    return result"
   ]
  },
  {
   "cell_type": "markdown",
   "metadata": {},
   "source": [
    "syntax\n",
    "```\n",
    "def fun_name([parameter]):\n",
    "    statement 1\n",
    "    statement 2\n",
    "    ....\n",
    "    statement n\n",
    "    [return expression]\n",
    "```\n",
    "\n",
    "example\n",
    "```\n",
    "def area(width, height):\n",
    "    a = width * height\n",
    "    return a\n",
    "```\n"
   ]
  },
  {
   "cell_type": "markdown",
   "metadata": {},
   "source": [
    "- based on parameter and return value\n",
    "    1. no parameter, no return value\n",
    "    2. no parameter, return value\n",
    "    3. parameter, no return value\n",
    "    4. parameter, return value\n",
    "\n",
    "\n",
    "- based on parameter type\n",
    "    1. required parameter\n",
    "    2. keywrods parameter\n",
    "    3. default parameter\n",
    "    4. variable length parameter (*args)\n",
    "    5. variable keyword arguments (**kwargs)\n",
    "\n",
    "\n",
    "- other types of function\n",
    "    1. lambda function\n",
    "    2. generator function\n",
    "    3. recursive function"
   ]
  },
  {
   "cell_type": "code",
   "execution_count": 1,
   "metadata": {},
   "outputs": [
    {
     "name": "stdout",
     "output_type": "stream",
     "text": [
      "Area is 2200\n"
     ]
    }
   ],
   "source": [
    "# value returning function\n",
    "def area():\n",
    "    l = int(input(\"Enter the l = \"))\n",
    "    b = int(input(\"Enter the b = \"))\n",
    "    return l*b\n",
    "\n",
    "ans = area()\n",
    "print(f'Area is {ans}')"
   ]
  },
  {
   "cell_type": "code",
   "execution_count": 7,
   "metadata": {},
   "outputs": [
    {
     "name": "stdout",
     "output_type": "stream",
     "text": [
      "si 13.31\n",
      "amt 24.310000000000002\n",
      "13.31 24.310000000000002\n"
     ]
    }
   ],
   "source": [
    "def math():\n",
    "    p = int(input(\"Enter the Principle: \"))\n",
    "    r = float(int(input(\"Enter the rate: \")))\n",
    "    t = int(input(\"Enter the time\"))\n",
    "    si = p*r*t/100\n",
    "    amt = p + si\n",
    "    return si, amt #return tuple\n",
    "    return [si, amt] #return list\n",
    "\n",
    "# print(math()[0])\n",
    "result = math()\n",
    "print('si', result[0])\n",
    "print('amt', result[1])\n",
    "\n",
    "\n",
    "si, amt = math()\n",
    "print(si, amt)\n"
   ]
  },
  {
   "cell_type": "code",
   "execution_count": 18,
   "metadata": {},
   "outputs": [],
   "source": [
    "def is_armstrong(number):\n",
    "    t = number\n",
    "    s = 0\n",
    "    pw = len(str(number))\n",
    "    while number > 0:\n",
    "        r = number % 10\n",
    "        s = s + r ** pw\n",
    "        number = number//10\n",
    "    return t == s"
   ]
  },
  {
   "cell_type": "code",
   "execution_count": 16,
   "metadata": {},
   "outputs": [
    {
     "name": "stdout",
     "output_type": "stream",
     "text": [
      "False\n"
     ]
    }
   ],
   "source": [
    "x = int(input('enter a number'))\n",
    "print(is_armstrong(x))"
   ]
  },
  {
   "cell_type": "code",
   "execution_count": 20,
   "metadata": {},
   "outputs": [
    {
     "name": "stdout",
     "output_type": "stream",
     "text": [
      "153\n",
      "370\n",
      "371\n",
      "407\n",
      "1634\n",
      "8208\n",
      "9474\n"
     ]
    }
   ],
   "source": [
    "for i in range(100,9999):\n",
    "    if is_armstrong(i):\n",
    "        print(i)"
   ]
  },
  {
   "cell_type": "code",
   "execution_count": 21,
   "metadata": {},
   "outputs": [],
   "source": [
    "def adder(a,b,c):\n",
    "    return a + b + c"
   ]
  },
  {
   "cell_type": "code",
   "execution_count": 22,
   "metadata": {},
   "outputs": [
    {
     "name": "stdout",
     "output_type": "stream",
     "text": [
      "6\n",
      "11\n",
      "50\n",
      "6\n"
     ]
    }
   ],
   "source": [
    "print(adder(1,2,3))\n",
    "print(adder(a=4, b=2, c=5))\n",
    "print(adder(10,c=20, b=20))\n",
    "print(adder(1,2,c=3))"
   ]
  },
  {
   "cell_type": "code",
   "execution_count": 23,
   "metadata": {},
   "outputs": [
    {
     "name": "stdout",
     "output_type": "stream",
     "text": [
      "6\n"
     ]
    }
   ],
   "source": [
    "print(adder(1,2,3))"
   ]
  },
  {
   "cell_type": "code",
   "execution_count": 24,
   "metadata": {},
   "outputs": [],
   "source": [
    "def multiplier(a,b,c=1):\n",
    "    return a * b * c"
   ]
  },
  {
   "cell_type": "code",
   "execution_count": 26,
   "metadata": {},
   "outputs": [
    {
     "name": "stdout",
     "output_type": "stream",
     "text": [
      "2\n",
      "6\n",
      "12\n"
     ]
    }
   ],
   "source": [
    "print(multiplier(1,2))\n",
    "print(multiplier(1,2,3))\n",
    "print(multiplier(1,4,c=3))"
   ]
  },
  {
   "cell_type": "code",
   "execution_count": 34,
   "metadata": {},
   "outputs": [],
   "source": [
    "from string import punctuation\n",
    "def cleaner(data, chars=None):\n",
    "    if chars is None:\n",
    "        chars = punctuation\n",
    "    for c in chars:\n",
    "        data = data.replace(c,'')\n",
    "    return data"
   ]
  },
  {
   "cell_type": "code",
   "execution_count": 30,
   "metadata": {},
   "outputs": [
    {
     "name": "stdout",
     "output_type": "stream",
     "text": [
      "!\"#$%&'()*+,-./:;<=>?@[\\]^_`{|}~\n"
     ]
    }
   ],
   "source": [
    "print(punctuation)"
   ]
  },
  {
   "cell_type": "code",
   "execution_count": 37,
   "metadata": {},
   "outputs": [
    {
     "name": "stdout",
     "output_type": "stream",
     "text": [
      "hew\n"
     ]
    }
   ],
   "source": [
    "print(cleaner('hew+,-./:;<=>?@[\\]^_+,-./:;<=>?@[\\]^_','+,-./:;<=>?@[\\]^_'))"
   ]
  },
  {
   "cell_type": "code",
   "execution_count": 38,
   "metadata": {},
   "outputs": [],
   "source": [
    "def multiplier(*nums):\n",
    "    result = 1\n",
    "    for num in nums:\n",
    "        result = result * num\n",
    "    return result"
   ]
  },
  {
   "cell_type": "code",
   "execution_count": 39,
   "metadata": {},
   "outputs": [
    {
     "name": "stdout",
     "output_type": "stream",
     "text": [
      "192\n"
     ]
    }
   ],
   "source": [
    "print(multiplier(1,2,3,4,4,2,1))"
   ]
  },
  {
   "cell_type": "code",
   "execution_count": 43,
   "metadata": {},
   "outputs": [],
   "source": [
    "def aggregator(*x, action='sum'):\n",
    "    if action == 'sum':\n",
    "        result = sum(x)\n",
    "    elif action == 'count':\n",
    "        result = len(x)\n",
    "    elif action == 'mean':\n",
    "        result = sum(x)/len(x)\n",
    "    else:\n",
    "        raise ValueError(\"Invalid Action\")\n",
    "    return result"
   ]
  },
  {
   "cell_type": "code",
   "execution_count": 45,
   "metadata": {},
   "outputs": [
    {
     "name": "stdout",
     "output_type": "stream",
     "text": [
      "5\n"
     ]
    }
   ],
   "source": [
    "print(aggregator(123,213,123,2,21, action='count'))"
   ]
  },
  {
   "cell_type": "code",
   "execution_count": 54,
   "metadata": {},
   "outputs": [],
   "source": [
    "def sorter(*data, type='number'):\n",
    "    if type == 'number':\n",
    "        clean_data = []\n",
    "        for i in data:\n",
    "            if isinstance(i, int) or isinstance(i, float):\n",
    "                        clean_data.append(i)\n",
    "        clean_data.sort()\n",
    "        return clean_data\n",
    "    else:\n",
    "        return None"
   ]
  },
  {
   "cell_type": "code",
   "execution_count": 55,
   "metadata": {},
   "outputs": [
    {
     "name": "stdout",
     "output_type": "stream",
     "text": [
      "[1, 2, 11]\n"
     ]
    }
   ],
   "source": [
    "a = sorter(11,2,1,'a')\n",
    "print(a)"
   ]
  },
  {
   "cell_type": "markdown",
   "metadata": {},
   "source": [
    "# KWARGS"
   ]
  },
  {
   "cell_type": "code",
   "execution_count": 62,
   "metadata": {},
   "outputs": [],
   "source": [
    "def display_data(**data):\n",
    "    print( \"Your data:\")\n",
    "    total = 0\n",
    "    for k, v in data. items () :\n",
    "        print (f\"{k:10}{v}\")\n",
    "        total += v\n",
    "    print('_'*20)\n",
    "    print(f\"Total: \\t  {total}\")\n",
    "    print('-'*20)   "
   ]
  },
  {
   "cell_type": "code",
   "execution_count": 63,
   "metadata": {},
   "outputs": [
    {
     "name": "stdout",
     "output_type": "stream",
     "text": [
      "Your data:\n",
      "dahi      25\n",
      "bread     20\n",
      "butter    50\n",
      "____________________\n",
      "Total: \t  95\n",
      "--------------------\n"
     ]
    }
   ],
   "source": [
    "display_data(dahi=25,bread=20,butter=50)"
   ]
  },
  {
   "cell_type": "markdown",
   "metadata": {},
   "source": [
    "\n",
    "`f(x) = x**2 + x*10 + x`\n",
    "\n",
    "`f(2)`"
   ]
  },
  {
   "cell_type": "code",
   "execution_count": 64,
   "metadata": {},
   "outputs": [
    {
     "name": "stdout",
     "output_type": "stream",
     "text": [
      "26\n"
     ]
    }
   ],
   "source": [
    "f = lambda x: x**2 + x*10 + x\n",
    "print(f(2))"
   ]
  },
  {
   "cell_type": "code",
   "execution_count": 65,
   "metadata": {},
   "outputs": [
    {
     "name": "stdout",
     "output_type": "stream",
     "text": [
      "18\n"
     ]
    }
   ],
   "source": [
    "g = lambda x,y: x**3 + y**4 + x*y - 1\n",
    "print(g(1,2))"
   ]
  },
  {
   "cell_type": "code",
   "execution_count": 67,
   "metadata": {},
   "outputs": [],
   "source": [
    "hyp = lambda p,b: (p**2+b**2)**.5"
   ]
  },
  {
   "cell_type": "code",
   "execution_count": 68,
   "metadata": {},
   "outputs": [
    {
     "data": {
      "text/plain": [
       "19.1049731745428"
      ]
     },
     "execution_count": 68,
     "metadata": {},
     "output_type": "execute_result"
    }
   ],
   "source": [
    "hyp(13,14)"
   ]
  },
  {
   "cell_type": "markdown",
   "metadata": {},
   "source": [
    "MAP: list of data --> operation --> new list of data\n",
    "\n",
    "FILTER: list of data --> condition --> new list of Data"
   ]
  },
  {
   "cell_type": "code",
   "execution_count": 70,
   "metadata": {},
   "outputs": [
    {
     "name": "stdout",
     "output_type": "stream",
     "text": [
      "[1, 8, 27, 64]\n"
     ]
    }
   ],
   "source": [
    "x = [1,2,3,4]\n",
    "x3 = list(map(lambda i: i**3, x))\n",
    "print(x3)"
   ]
  },
  {
   "cell_type": "code",
   "execution_count": 72,
   "metadata": {},
   "outputs": [
    {
     "name": "stdout",
     "output_type": "stream",
     "text": [
      "[5, 12, 21, 28]\n"
     ]
    }
   ],
   "source": [
    "x = [1,2,3,4]\n",
    "y = [5,6,7,7]\n",
    "xy = list(map(lambda i,j: i*j, x,y))\n",
    "print(xy)"
   ]
  },
  {
   "cell_type": "code",
   "execution_count": null,
   "metadata": {},
   "outputs": [],
   "source": []
  }
 ],
 "metadata": {
  "kernelspec": {
   "display_name": "base",
   "language": "python",
   "name": "python3"
  },
  "language_info": {
   "codemirror_mode": {
    "name": "ipython",
    "version": 3
   },
   "file_extension": ".py",
   "mimetype": "text/x-python",
   "name": "python",
   "nbconvert_exporter": "python",
   "pygments_lexer": "ipython3",
   "version": "3.11.4"
  },
  "orig_nbformat": 4
 },
 "nbformat": 4,
 "nbformat_minor": 2
}
