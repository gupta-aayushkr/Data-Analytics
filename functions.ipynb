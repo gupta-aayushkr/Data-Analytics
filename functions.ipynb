{
 "cells": [
  {
   "cell_type": "markdown",
   "metadata": {},
   "source": [
    "syntax\n",
    "```\n",
    "def fun_name([parameter]):\n",
    "    statement 1\n",
    "    statement 2\n",
    "    ....\n",
    "    statement n\n",
    "    [return expression]\n",
    "```\n",
    "\n",
    "example\n",
    "```\n",
    "def area(width, height):\n",
    "    a = width * height\n",
    "    return a\n",
    "```\n"
   ]
  },
  {
   "cell_type": "markdown",
   "metadata": {},
   "source": [
    "- based on parameter and return value\n",
    "    1. no parameter, no return value\n",
    "    2. no parameter, return value\n",
    "    3. parameter, no return value\n",
    "    4. parameter, return value\n",
    "\n",
    "\n",
    "- based on parameter type\n",
    "    1. required parameter\n",
    "    2. keywrods parameter\n",
    "    3. default parameter\n",
    "    4. variable length parameter (*args)\n",
    "    5. variable keyword arguments (**kwargs)\n",
    "\n",
    "\n",
    "- other types of function\n",
    "    1. lambda function\n",
    "    2. generator function\n",
    "    3. recursive function"
   ]
  },
  {
   "cell_type": "code",
   "execution_count": null,
   "metadata": {},
   "outputs": [],
   "source": []
  },
  {
   "cell_type": "markdown",
   "metadata": {},
   "source": []
  }
 ],
 "metadata": {
  "kernelspec": {
   "display_name": "base",
   "language": "python",
   "name": "python3"
  },
  "language_info": {
   "name": "python",
   "version": "3.11.4"
  },
  "orig_nbformat": 4
 },
 "nbformat": 4,
 "nbformat_minor": 2
}
