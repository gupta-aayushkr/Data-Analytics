{
 "cells": [
  {
   "cell_type": "markdown",
   "metadata": {},
   "source": [
    "Remove useless characters from string function usable later:\n",
    "\n",
    "1. from string import punctuation\n",
    "def cleaner(data, chars=None):\n",
    "    if chars is None:\n",
    "        chars = punctuation\n",
    "    for c in chars:\n",
    "        data = data.replace(c,'')\n",
    "    return data\n",
    "\n",
    "2. For unlimited arguments like print we can use *\n",
    "def multiplier(*nums):\n",
    "    result = 1\n",
    "    for num in nums:\n",
    "        result = result * num\n",
    "    return result\n",
    "\n",
    "3. another great way for function\n",
    "def aggregator(*x, action='sum'):\n",
    "    if action == 'sum':\n",
    "        result = sum(x)\n",
    "    elif action == 'count':\n",
    "        result = len(x)\n",
    "    elif action == 'mean':\n",
    "        result = sum(x)/len(x)\n",
    "    else:\n",
    "        raise ValueError(\"Invalid Action\")\n",
    "    return result"
   ]
  },
  {
   "cell_type": "markdown",
   "metadata": {},
   "source": [
    "syntax\n",
    "```\n",
    "def fun_name([parameter]):\n",
    "    statement 1\n",
    "    statement 2\n",
    "    ....\n",
    "    statement n\n",
    "    [return expression]\n",
    "```\n",
    "\n",
    "example\n",
    "```\n",
    "def area(width, height):\n",
    "    a = width * height\n",
    "    return a\n",
    "```\n"
   ]
  },
  {
   "cell_type": "markdown",
   "metadata": {},
   "source": [
    "- based on parameter and return value\n",
    "    1. no parameter, no return value\n",
    "    2. no parameter, return value\n",
    "    3. parameter, no return value\n",
    "    4. parameter, return value\n",
    "\n",
    "\n",
    "- based on parameter type\n",
    "    1. required parameter\n",
    "    2. keywrods parameter\n",
    "    3. default parameter\n",
    "    4. variable length parameter (*args)\n",
    "    5. variable keyword arguments (**kwargs)\n",
    "\n",
    "\n",
    "- other types of function\n",
    "    1. lambda function\n",
    "    2. generator function\n",
    "    3. recursive function"
   ]
  },
  {
   "cell_type": "code",
   "execution_count": 1,
   "metadata": {},
   "outputs": [
    {
     "name": "stdout",
     "output_type": "stream",
     "text": [
      "Area is 2200\n"
     ]
    }
   ],
   "source": [
    "# value returning function\n",
    "def area():\n",
    "    l = int(input(\"Enter the l = \"))\n",
    "    b = int(input(\"Enter the b = \"))\n",
    "    return l*b\n",
    "\n",
    "ans = area()\n",
    "print(f'Area is {ans}')"
   ]
  },
  {
   "cell_type": "code",
   "execution_count": 7,
   "metadata": {},
   "outputs": [
    {
     "name": "stdout",
     "output_type": "stream",
     "text": [
      "si 13.31\n",
      "amt 24.310000000000002\n",
      "13.31 24.310000000000002\n"
     ]
    }
   ],
   "source": [
    "def math():\n",
    "    p = int(input(\"Enter the Principle: \"))\n",
    "    r = float(int(input(\"Enter the rate: \")))\n",
    "    t = int(input(\"Enter the time\"))\n",
    "    si = p*r*t/100\n",
    "    amt = p + si\n",
    "    return si, amt #return tuple\n",
    "    return [si, amt] #return list\n",
    "\n",
    "# print(math()[0])\n",
    "result = math()\n",
    "print('si', result[0])\n",
    "print('amt', result[1])\n",
    "\n",
    "\n",
    "si, amt = math()\n",
    "print(si, amt)\n"
   ]
  },
  {
   "cell_type": "code",
   "execution_count": 18,
   "metadata": {},
   "outputs": [],
   "source": [
    "def is_armstrong(number):\n",
    "    t = number\n",
    "    s = 0\n",
    "    pw = len(str(number))\n",
    "    while number > 0:\n",
    "        r = number % 10\n",
    "        s = s + r ** pw\n",
    "        number = number//10\n",
    "    return t == s"
   ]
  },
  {
   "cell_type": "code",
   "execution_count": 16,
   "metadata": {},
   "outputs": [
    {
     "name": "stdout",
     "output_type": "stream",
     "text": [
      "False\n"
     ]
    }
   ],
   "source": [
    "x = int(input('enter a number'))\n",
    "print(is_armstrong(x))"
   ]
  },
  {
   "cell_type": "code",
   "execution_count": 20,
   "metadata": {},
   "outputs": [
    {
     "name": "stdout",
     "output_type": "stream",
     "text": [
      "153\n",
      "370\n",
      "371\n",
      "407\n",
      "1634\n",
      "8208\n",
      "9474\n"
     ]
    }
   ],
   "source": [
    "for i in range(100,9999):\n",
    "    if is_armstrong(i):\n",
    "        print(i)"
   ]
  },
  {
   "cell_type": "code",
   "execution_count": 21,
   "metadata": {},
   "outputs": [],
   "source": [
    "def adder(a,b,c):\n",
    "    return a + b + c"
   ]
  },
  {
   "cell_type": "code",
   "execution_count": 22,
   "metadata": {},
   "outputs": [
    {
     "name": "stdout",
     "output_type": "stream",
     "text": [
      "6\n",
      "11\n",
      "50\n",
      "6\n"
     ]
    }
   ],
   "source": [
    "print(adder(1,2,3))\n",
    "print(adder(a=4, b=2, c=5))\n",
    "print(adder(10,c=20, b=20))\n",
    "print(adder(1,2,c=3))"
   ]
  },
  {
   "cell_type": "code",
   "execution_count": 23,
   "metadata": {},
   "outputs": [
    {
     "name": "stdout",
     "output_type": "stream",
     "text": [
      "6\n"
     ]
    }
   ],
   "source": [
    "print(adder(1,2,3))"
   ]
  },
  {
   "cell_type": "code",
   "execution_count": 24,
   "metadata": {},
   "outputs": [],
   "source": [
    "def multiplier(a,b,c=1):\n",
    "    return a * b * c"
   ]
  },
  {
   "cell_type": "code",
   "execution_count": 26,
   "metadata": {},
   "outputs": [
    {
     "name": "stdout",
     "output_type": "stream",
     "text": [
      "2\n",
      "6\n",
      "12\n"
     ]
    }
   ],
   "source": [
    "print(multiplier(1,2))\n",
    "print(multiplier(1,2,3))\n",
    "print(multiplier(1,4,c=3))"
   ]
  },
  {
   "cell_type": "code",
   "execution_count": 34,
   "metadata": {},
   "outputs": [],
   "source": [
    "from string import punctuation\n",
    "def cleaner(data, chars=None):\n",
    "    if chars is None:\n",
    "        chars = punctuation\n",
    "    for c in chars:\n",
    "        data = data.replace(c,'')\n",
    "    return data"
   ]
  },
  {
   "cell_type": "code",
   "execution_count": 30,
   "metadata": {},
   "outputs": [
    {
     "name": "stdout",
     "output_type": "stream",
     "text": [
      "!\"#$%&'()*+,-./:;<=>?@[\\]^_`{|}~\n"
     ]
    }
   ],
   "source": [
    "print(punctuation)"
   ]
  },
  {
   "cell_type": "code",
   "execution_count": 37,
   "metadata": {},
   "outputs": [
    {
     "name": "stdout",
     "output_type": "stream",
     "text": [
      "hew\n"
     ]
    }
   ],
   "source": [
    "print(cleaner('hew+,-./:;<=>?@[\\]^_+,-./:;<=>?@[\\]^_','+,-./:;<=>?@[\\]^_'))"
   ]
  },
  {
   "cell_type": "code",
   "execution_count": 38,
   "metadata": {},
   "outputs": [],
   "source": [
    "def multiplier(*nums):\n",
    "    result = 1\n",
    "    for num in nums:\n",
    "        result = result * num\n",
    "    return result"
   ]
  },
  {
   "cell_type": "code",
   "execution_count": 39,
   "metadata": {},
   "outputs": [
    {
     "name": "stdout",
     "output_type": "stream",
     "text": [
      "192\n"
     ]
    }
   ],
   "source": [
    "print(multiplier(1,2,3,4,4,2,1))"
   ]
  },
  {
   "cell_type": "code",
   "execution_count": 43,
   "metadata": {},
   "outputs": [],
   "source": [
    "def aggregator(*x, action='sum'):\n",
    "    if action == 'sum':\n",
    "        result = sum(x)\n",
    "    elif action == 'count':\n",
    "        result = len(x)\n",
    "    elif action == 'mean':\n",
    "        result = sum(x)/len(x)\n",
    "    else:\n",
    "        raise ValueError(\"Invalid Action\")\n",
    "    return result"
   ]
  },
  {
   "cell_type": "code",
   "execution_count": 45,
   "metadata": {},
   "outputs": [
    {
     "name": "stdout",
     "output_type": "stream",
     "text": [
      "5\n"
     ]
    }
   ],
   "source": [
    "print(aggregator(123,213,123,2,21, action='count'))"
   ]
  },
  {
   "cell_type": "code",
   "execution_count": 54,
   "metadata": {},
   "outputs": [],
   "source": [
    "def sorter(*data, type='number'):\n",
    "    if type == 'number':\n",
    "        clean_data = []\n",
    "        for i in data:\n",
    "            if isinstance(i, int) or isinstance(i, float):\n",
    "                        clean_data.append(i)\n",
    "        clean_data.sort()\n",
    "        return clean_data\n",
    "    else:\n",
    "        return None"
   ]
  },
  {
   "cell_type": "code",
   "execution_count": 55,
   "metadata": {},
   "outputs": [
    {
     "name": "stdout",
     "output_type": "stream",
     "text": [
      "[1, 2, 11]\n"
     ]
    }
   ],
   "source": [
    "a = sorter(11,2,1,'a')\n",
    "print(a)"
   ]
  },
  {
   "cell_type": "markdown",
   "metadata": {},
   "source": [
    "# KWARGS"
   ]
  },
  {
   "cell_type": "code",
   "execution_count": 62,
   "metadata": {},
   "outputs": [],
   "source": [
    "def display_data(**data):\n",
    "    print( \"Your data:\")\n",
    "    total = 0\n",
    "    for k, v in data. items () :\n",
    "        print (f\"{k:10}{v}\")\n",
    "        total += v\n",
    "    print('_'*20)\n",
    "    print(f\"Total: \\t  {total}\")\n",
    "    print('-'*20)   "
   ]
  },
  {
   "cell_type": "code",
   "execution_count": 74,
   "metadata": {},
   "outputs": [
    {
     "name": "stdout",
     "output_type": "stream",
     "text": [
      "Your data:\n",
      "dahi      25\n",
      "bread     20\n",
      "butter    50\n",
      "____________________\n",
      "Total: \t  95\n",
      "--------------------\n"
     ]
    }
   ],
   "source": [
    "display_data(dahi=25,bread=20,butter=50)"
   ]
  },
  {
   "cell_type": "markdown",
   "metadata": {},
   "source": [
    "\n",
    "`f(x) = x**2 + x*10 + x`\n",
    "\n",
    "`f(2)`"
   ]
  },
  {
   "cell_type": "code",
   "execution_count": 75,
   "metadata": {},
   "outputs": [
    {
     "name": "stdout",
     "output_type": "stream",
     "text": [
      "26\n"
     ]
    }
   ],
   "source": [
    "f = lambda x: x**2 + x*10 + x\n",
    "print(f(2))"
   ]
  },
  {
   "cell_type": "code",
   "execution_count": 76,
   "metadata": {},
   "outputs": [
    {
     "name": "stdout",
     "output_type": "stream",
     "text": [
      "18\n"
     ]
    }
   ],
   "source": [
    "g = lambda x,y: x**3 + y**4 + x*y - 1\n",
    "print(g(1,2))"
   ]
  },
  {
   "cell_type": "code",
   "execution_count": 77,
   "metadata": {},
   "outputs": [],
   "source": [
    "hyp = lambda p,b: (p**2+b**2)**.5"
   ]
  },
  {
   "cell_type": "code",
   "execution_count": 78,
   "metadata": {},
   "outputs": [
    {
     "data": {
      "text/plain": [
       "19.1049731745428"
      ]
     },
     "execution_count": 78,
     "metadata": {},
     "output_type": "execute_result"
    }
   ],
   "source": [
    "hyp(13,14)"
   ]
  },
  {
   "cell_type": "markdown",
   "metadata": {},
   "source": [
    "MAP: list of data --> operation --> new list of data\n",
    "\n",
    "FILTER: list of data --> condition --> new list of Data"
   ]
  },
  {
   "cell_type": "code",
   "execution_count": 79,
   "metadata": {},
   "outputs": [
    {
     "name": "stdout",
     "output_type": "stream",
     "text": [
      "[1, 8, 27, 64]\n"
     ]
    }
   ],
   "source": [
    "x = [1,2,3,4]\n",
    "x3 = list(map(lambda i: i**3, x))\n",
    "print(x3)"
   ]
  },
  {
   "cell_type": "code",
   "execution_count": 80,
   "metadata": {},
   "outputs": [
    {
     "name": "stdout",
     "output_type": "stream",
     "text": [
      "[5, 12, 21, 28]\n"
     ]
    }
   ],
   "source": [
    "x = [1,2,3,4]\n",
    "y = [5,6,7,7]\n",
    "xy = list(map(lambda i,j: i*j, x,y))\n",
    "print(xy)"
   ]
  },
  {
   "cell_type": "code",
   "execution_count": 81,
   "metadata": {},
   "outputs": [
    {
     "name": "stdout",
     "output_type": "stream",
     "text": [
      "[1, 11]\n"
     ]
    }
   ],
   "source": [
    "b = list(filter(lambda i: i%2==1,a))\n",
    "print(b)"
   ]
  },
  {
   "cell_type": "markdown",
   "metadata": {},
   "source": [
    "# Generators"
   ]
  },
  {
   "cell_type": "code",
   "execution_count": 82,
   "metadata": {},
   "outputs": [],
   "source": [
    "from random import randint"
   ]
  },
  {
   "cell_type": "code",
   "execution_count": 83,
   "metadata": {},
   "outputs": [],
   "source": [
    "def random_range(s,e,size=10):\n",
    "    for i in range(size):\n",
    "        yield randint(s,e)"
   ]
  },
  {
   "cell_type": "code",
   "execution_count": 85,
   "metadata": {},
   "outputs": [
    {
     "name": "stdout",
     "output_type": "stream",
     "text": [
      "37 54 43 81 24 78 77 69 90 92 6 38 49 92 87 "
     ]
    }
   ],
   "source": [
    "for i in random_range(1,100,15):\n",
    "    print(i, end=' ')"
   ]
  },
  {
   "cell_type": "code",
   "execution_count": 147,
   "metadata": {},
   "outputs": [
    {
     "name": "stdout",
     "output_type": "stream",
     "text": [
      "percentage of 1 = 48.4\n",
      "percentage of 2 = 51.6\n"
     ]
    }
   ],
   "source": [
    "a = random_range(1,2,1000)\n",
    "b = list(a)\n",
    "# print(b)\n",
    "count1 = 0\n",
    "count2 = 0\n",
    "for i in b:\n",
    "    if i == 1:\n",
    "        count1 += 1\n",
    "    else:\n",
    "        count2 += 1\n",
    "print(f\"percentage of 1 = {(count1/len(b))*100}\")\n",
    "print(f\"percentage of 2 = {(count2/len(b))*100}\")\n",
    "        "
   ]
  },
  {
   "cell_type": "code",
   "execution_count": 156,
   "metadata": {},
   "outputs": [
    {
     "name": "stdout",
     "output_type": "stream",
     "text": [
      "percentage of 1 = 9.9841%\n",
      "percentage of 2 = 9.973799999999999%\n",
      "percentage of 3 = 9.987400000000001%\n",
      "percentage of 4 = 9.975100000000001%\n",
      "percentage of 5 = 10.0345%\n",
      "percentage of 6 = 10.0397%\n",
      "percentage of 7 = 9.9893%\n",
      "percentage of 8 = 10.0036%\n",
      "percentage of 9 = 10.029%\n",
      "percentage of 10 = 9.9835%\n"
     ]
    }
   ],
   "source": [
    "a = random_range(1,10,1000000)\n",
    "b = list(a)\n",
    "# print(b)\n",
    "counter = [0,0,0,0,0,0,0,0,0,0,0] #Since index start from 0 so i made it 11 items the last will be 10\n",
    "for i in b:\n",
    "    counter[i] = counter[i] + 1\n",
    "for i in range(1,11):\n",
    "    print(f\"percentage of {i} = {(counter[i]/len(b))*100}%\")"
   ]
  },
  {
   "cell_type": "code",
   "execution_count": 165,
   "metadata": {},
   "outputs": [
    {
     "name": "stdout",
     "output_type": "stream",
     "text": [
      "101\n",
      "percentage of 1 = 1.0019%\n",
      "percentage of 2 = 1.0226000000000002%\n",
      "percentage of 3 = 0.9865999999999999%\n",
      "percentage of 4 = 1.0071999999999999%\n",
      "percentage of 5 = 1.0008%\n",
      "percentage of 6 = 1.0003%\n",
      "percentage of 7 = 0.9938%\n",
      "percentage of 8 = 1.0027%\n",
      "percentage of 9 = 0.9852%\n",
      "percentage of 10 = 1.0126%\n",
      "percentage of 11 = 1.009%\n",
      "percentage of 12 = 0.9964999999999999%\n",
      "percentage of 13 = 1.0097%\n",
      "percentage of 14 = 1.0202%\n",
      "percentage of 15 = 0.9982%\n",
      "percentage of 16 = 1.0043%\n",
      "percentage of 17 = 0.9843%\n",
      "percentage of 18 = 1.0211%\n",
      "percentage of 19 = 0.9919000000000001%\n",
      "percentage of 20 = 0.9993%\n",
      "percentage of 21 = 0.9924000000000001%\n",
      "percentage of 22 = 1.0025%\n",
      "percentage of 23 = 0.9981%\n",
      "percentage of 24 = 1.0119%\n",
      "percentage of 25 = 1.0009000000000001%\n",
      "percentage of 26 = 1.0017%\n",
      "percentage of 27 = 0.9950000000000001%\n",
      "percentage of 28 = 1.0111999999999999%\n",
      "percentage of 29 = 1.0075%\n",
      "percentage of 30 = 0.9936999999999999%\n",
      "percentage of 31 = 1.0008%\n",
      "percentage of 32 = 0.9883%\n",
      "percentage of 33 = 0.9946999999999999%\n",
      "percentage of 34 = 0.9912000000000001%\n",
      "percentage of 35 = 0.9945%\n",
      "percentage of 36 = 1.0108000000000001%\n",
      "percentage of 37 = 0.9990000000000001%\n",
      "percentage of 38 = 0.9912000000000001%\n",
      "percentage of 39 = 0.9998999999999999%\n",
      "percentage of 40 = 0.9950000000000001%\n",
      "percentage of 41 = 1.0001%\n",
      "percentage of 42 = 0.993%\n",
      "percentage of 43 = 0.9995999999999999%\n",
      "percentage of 44 = 1.0037%\n",
      "percentage of 45 = 0.9804999999999999%\n",
      "percentage of 46 = 1.0024%\n",
      "percentage of 47 = 0.9860000000000001%\n",
      "percentage of 48 = 1.0015%\n",
      "percentage of 49 = 1.0029%\n",
      "percentage of 50 = 1.0073%\n",
      "percentage of 51 = 0.9862%\n",
      "percentage of 52 = 1.0103%\n",
      "percentage of 53 = 0.9903000000000001%\n",
      "percentage of 54 = 1.0063%\n",
      "percentage of 55 = 0.9977%\n",
      "percentage of 56 = 1.0015%\n",
      "percentage of 57 = 0.9934000000000001%\n",
      "percentage of 58 = 0.9934999999999999%\n",
      "percentage of 59 = 1.0012999999999999%\n",
      "percentage of 60 = 0.9811000000000001%\n",
      "percentage of 61 = 0.9811000000000001%\n",
      "percentage of 62 = 1.0333%\n",
      "percentage of 63 = 1.0228%\n",
      "percentage of 64 = 1.0103%\n",
      "percentage of 65 = 1.0016%\n",
      "percentage of 66 = 0.9912000000000001%\n",
      "percentage of 67 = 1.0026%\n",
      "percentage of 68 = 1.0043%\n",
      "percentage of 69 = 0.9879000000000001%\n",
      "percentage of 70 = 0.9963%\n",
      "percentage of 71 = 0.9908999999999999%\n",
      "percentage of 72 = 1.0134%\n",
      "percentage of 73 = 0.9944%\n",
      "percentage of 74 = 0.9986%\n",
      "percentage of 75 = 0.989%\n",
      "percentage of 76 = 0.9921%\n",
      "percentage of 77 = 1.0125%\n",
      "percentage of 78 = 1.0058%\n",
      "percentage of 79 = 0.9867000000000001%\n",
      "percentage of 80 = 1.009%\n",
      "percentage of 81 = 0.9976%\n",
      "percentage of 82 = 1.0103%\n",
      "percentage of 83 = 0.9986%\n",
      "percentage of 84 = 0.9998999999999999%\n",
      "percentage of 85 = 1.0116%\n",
      "percentage of 86 = 0.9990000000000001%\n",
      "percentage of 87 = 0.9984%\n",
      "percentage of 88 = 1.0045%\n",
      "percentage of 89 = 1.0059%\n",
      "percentage of 90 = 0.9982%\n",
      "percentage of 91 = 1.0061%\n",
      "percentage of 92 = 0.9962000000000001%\n",
      "percentage of 93 = 0.9974999999999999%\n",
      "percentage of 94 = 1.0063%\n",
      "percentage of 95 = 0.9958%\n",
      "percentage of 96 = 1.0006%\n",
      "percentage of 97 = 1.0004000000000002%\n",
      "percentage of 98 = 0.9974999999999999%\n",
      "percentage of 99 = 1.0002%\n",
      "percentage of 100 = 0.9844999999999999%\n"
     ]
    }
   ],
   "source": [
    "last_number = 100\n",
    "a = random_range(1,100,1000000)\n",
    "b = list(a)\n",
    "# print(b)\n",
    "counter = []\n",
    "for i in range(1,102): #Since index start from 0 so i made it 11 items the last will be 10\n",
    "    c = 0\n",
    "    counter.append(c)    \n",
    "print(len(counter))\n",
    "for i in b:\n",
    "    counter[i] = counter[i] + 1\n",
    "for i in range(1,101):\n",
    "    print(f\"percentage of {i} = {(counter[i]/len(b))*100}%\")"
   ]
  },
  {
   "cell_type": "code",
   "execution_count": 167,
   "metadata": {},
   "outputs": [
    {
     "name": "stdout",
     "output_type": "stream",
     "text": [
      "102\n",
      "percentage of 1 = 1.0164%\n",
      "percentage of 2 = 0.9587999999999999%\n",
      "percentage of 3 = 1.0014%\n",
      "percentage of 4 = 0.9915999999999999%\n",
      "percentage of 5 = 0.9883%\n",
      "percentage of 6 = 1.0103%\n",
      "percentage of 7 = 0.9816%\n",
      "percentage of 8 = 0.9859%\n",
      "percentage of 9 = 0.9994%\n",
      "percentage of 10 = 0.9976%\n",
      "percentage of 11 = 0.9813999999999999%\n",
      "percentage of 12 = 0.9905%\n",
      "percentage of 13 = 0.9865%\n",
      "percentage of 14 = 0.9915%\n",
      "percentage of 15 = 0.9906999999999999%\n",
      "percentage of 16 = 1.0046%\n",
      "percentage of 17 = 1.0042%\n",
      "percentage of 18 = 0.9972%\n",
      "percentage of 19 = 0.9811000000000001%\n",
      "percentage of 20 = 0.989%\n",
      "percentage of 21 = 0.9795%\n",
      "percentage of 22 = 1.0041%\n",
      "percentage of 23 = 0.9827%\n",
      "percentage of 24 = 0.9887999999999999%\n",
      "percentage of 25 = 1.0026%\n",
      "percentage of 26 = 0.98%\n",
      "percentage of 27 = 0.9994%\n",
      "percentage of 28 = 0.9904%\n",
      "percentage of 29 = 0.9802%\n",
      "percentage of 30 = 0.9875%\n",
      "percentage of 31 = 0.9995%\n",
      "percentage of 32 = 1.0063%\n",
      "percentage of 33 = 0.9815%\n",
      "percentage of 34 = 0.9839%\n",
      "percentage of 35 = 1.0033999999999998%\n",
      "percentage of 36 = 1.004%\n",
      "percentage of 37 = 0.9813000000000001%\n",
      "percentage of 38 = 1.0058%\n",
      "percentage of 39 = 0.9828999999999999%\n",
      "percentage of 40 = 0.9917%\n",
      "percentage of 41 = 1.0043%\n",
      "percentage of 42 = 0.9978%\n",
      "percentage of 43 = 0.9908999999999999%\n",
      "percentage of 44 = 0.9933000000000001%\n",
      "percentage of 45 = 0.9775%\n",
      "percentage of 46 = 0.9853999999999999%\n",
      "percentage of 47 = 0.9877%\n",
      "percentage of 48 = 0.9957%\n",
      "percentage of 49 = 0.9899%\n",
      "percentage of 50 = 0.9924000000000001%\n",
      "percentage of 51 = 0.9795%\n",
      "percentage of 52 = 0.9955%\n",
      "percentage of 53 = 0.9884999999999999%\n",
      "percentage of 54 = 0.9875%\n",
      "percentage of 55 = 0.9946999999999999%\n",
      "percentage of 56 = 0.983%\n",
      "percentage of 57 = 0.9818%\n",
      "percentage of 58 = 0.9877%\n",
      "percentage of 59 = 0.9848000000000001%\n",
      "percentage of 60 = 0.9936%\n",
      "percentage of 61 = 0.985%\n",
      "percentage of 62 = 0.9781%\n",
      "percentage of 63 = 0.9853999999999999%\n",
      "percentage of 64 = 0.9927%\n",
      "percentage of 65 = 0.9950000000000001%\n",
      "percentage of 66 = 0.9894000000000001%\n",
      "percentage of 67 = 0.9896999999999999%\n",
      "percentage of 68 = 0.9731%\n",
      "percentage of 69 = 0.9989%\n",
      "percentage of 70 = 1.0023%\n",
      "percentage of 71 = 0.9751%\n",
      "percentage of 72 = 0.9834%\n",
      "percentage of 73 = 0.9690000000000001%\n",
      "percentage of 74 = 1.0029%\n",
      "percentage of 75 = 0.9806%\n",
      "percentage of 76 = 0.9831%\n",
      "percentage of 77 = 0.9846%\n",
      "percentage of 78 = 0.9747%\n",
      "percentage of 79 = 0.9973%\n",
      "percentage of 80 = 0.9684999999999999%\n",
      "percentage of 81 = 0.9780000000000001%\n",
      "percentage of 82 = 0.9762%\n",
      "percentage of 83 = 0.9919000000000001%\n",
      "percentage of 84 = 0.9856%\n",
      "percentage of 85 = 0.9853000000000001%\n",
      "percentage of 86 = 1.0004000000000002%\n",
      "percentage of 87 = 0.9957%\n",
      "percentage of 88 = 1.0033%\n",
      "percentage of 89 = 0.9714%\n",
      "percentage of 90 = 0.9919000000000001%\n",
      "percentage of 91 = 0.9936%\n",
      "percentage of 92 = 0.9743999999999999%\n",
      "percentage of 93 = 1.0071999999999999%\n",
      "percentage of 94 = 0.9981%\n",
      "percentage of 95 = 1.0124%\n",
      "percentage of 96 = 0.9667%\n",
      "percentage of 97 = 0.9927999999999999%\n",
      "percentage of 98 = 1.0061%\n",
      "percentage of 99 = 0.9898%\n",
      "percentage of 100 = 1.008%\n",
      "percentage of 101 = 0.9874%\n"
     ]
    }
   ],
   "source": [
    "last_random_no = 101\n",
    "a = random_range(1,last_random_no,1000000)\n",
    "b = list(a)\n",
    "# print(b)\n",
    "counter = []\n",
    "for i in range(1,last_random_no+2): #Since index start from 0 so i made it 11 items the last will be 10\n",
    "    c = 0\n",
    "    counter.append(c)    \n",
    "print(len(counter))\n",
    "for i in b:\n",
    "    counter[i] = counter[i] + 1\n",
    "for i in range(1,last_random_no+1):\n",
    "    print(f\"percentage of {i} = {(counter[i]/len(b))*100}%\")"
   ]
  },
  {
   "cell_type": "code",
   "execution_count": null,
   "metadata": {},
   "outputs": [],
   "source": []
  }
 ],
 "metadata": {
  "kernelspec": {
   "display_name": "base",
   "language": "python",
   "name": "python3"
  },
  "language_info": {
   "codemirror_mode": {
    "name": "ipython",
    "version": 3
   },
   "file_extension": ".py",
   "mimetype": "text/x-python",
   "name": "python",
   "nbconvert_exporter": "python",
   "pygments_lexer": "ipython3",
   "version": "3.11.4"
  },
  "orig_nbformat": 4
 },
 "nbformat": 4,
 "nbformat_minor": 2
}
