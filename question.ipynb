{
 "cells": [
  {
   "cell_type": "code",
   "execution_count": 3,
   "metadata": {},
   "outputs": [
    {
     "name": "stdout",
     "output_type": "stream",
     "text": [
      "0\n",
      "1\n",
      "7\n",
      "[0, 1, 7]\n"
     ]
    }
   ],
   "source": [
    "a = [1,1,2,3,4,5,6,1,22,2,2,3,3,4]\n",
    "\n",
    "search = 1\n",
    "start = 0\n",
    "results = []\n",
    "for i in range(a.count(search)):\n",
    "    idx = a.index(search, start)\n",
    "    start = idx + 1\n",
    "    print(idx)\n",
    "    results.append(idx)\n",
    "print(results)"
   ]
  },
  {
   "cell_type": "code",
   "execution_count": 7,
   "metadata": {},
   "outputs": [
    {
     "name": "stdout",
     "output_type": "stream",
     "text": [
      "[0, 1, 1, 2, 3, 5, 8, 13, 21, 34, 55, 89]\n"
     ]
    }
   ],
   "source": [
    "#fibonacci series\n",
    "fib = [0,1]\n",
    "for i in range(10):\n",
    "    fib.append(fib[-1]+fib[-2])\n",
    "print(fib)"
   ]
  },
  {
   "cell_type": "code",
   "execution_count": 8,
   "metadata": {},
   "outputs": [
    {
     "name": "stdout",
     "output_type": "stream",
     "text": [
      "1\n",
      "1 * 1 = 1\n",
      "2\n",
      "2 * 2 = 2\n",
      "6\n",
      "6 * 3 = 6\n",
      "24\n",
      "24 * 4 = 24\n",
      "120\n",
      "120 * 5 = 120\n",
      "720\n",
      "720 * 6 = 720\n",
      "5040\n",
      "5040 * 7 = 5040\n",
      "40320\n",
      "40320 * 8 = 40320\n",
      "362880\n",
      "362880 * 9 = 362880\n",
      "3628800\n",
      "3628800 * 10 = 3628800\n",
      "3628800\n"
     ]
    }
   ],
   "source": [
    "#factorial\n",
    "num = 10\n",
    "f = 1\n",
    "for i in range(1,num+1):\n",
    "    f = f * i\n",
    "    print(f)\n",
    "    print(f\"{f} * {i} = {f}\")\n",
    "print(f)"
   ]
  },
  {
   "cell_type": "code",
   "execution_count": 12,
   "metadata": {},
   "outputs": [
    {
     "name": "stdout",
     "output_type": "stream",
     "text": [
      "['red', 'green', 'blue', 'yellow', 'white', 'black', 'pink', 'purple', 'orange', 'brown', 'gray', 'cyan']\n"
     ]
    }
   ],
   "source": [
    "#filter\n",
    "colors = ['red', 'green', 'blue', 'yellow','white','black', 'pink', 'purple', 'orange', 'brown','gray', 'cyan']\n",
    "\n",
    "colors_end_with_n = []\n",
    "for c in colors:\n",
    "   if c.endswith('n'):\n",
    "       colors_end_with_n.append(c)\n",
    "print(colors_end_with_n)"
   ]
  },
  {
   "cell_type": "code",
   "execution_count": 15,
   "metadata": {},
   "outputs": [
    {
     "name": "stdout",
     "output_type": "stream",
     "text": [
      "['red', 'green', 'blue', 'yellow', 'white', 'black', 'pink', 'purple', 'orange', 'brown', 'gray', 'cyan']\n",
      "-1\n"
     ]
    }
   ],
   "source": [
    "#filter not working\n",
    "colors = ['red', 'green', 'blue', 'yellow','white','black', 'pink', 'purple', 'orange', 'brown','gray', 'cyan']\n",
    "\n",
    "colors_end_with_n = []\n",
    "for c in colors:\n",
    "    if c.find('a') or c.find('e'):\n",
    "        colors_end_with_n.append(c)\n",
    "print(colors_end_with_n)\n",
    "print(c.find('e'))"
   ]
  },
  {
   "cell_type": "code",
   "execution_count": 13,
   "metadata": {},
   "outputs": [
    {
     "name": "stdout",
     "output_type": "stream",
     "text": [
      "['red', 'green', 'blue', 'yellow', 'white', 'black', 'purple', 'orange', 'gray', 'cyan']\n"
     ]
    }
   ],
   "source": [
    "#filter\n",
    "# filter\n",
    "colors = ['red', 'green', 'blue', 'yellow','white','black', 'pink', 'purple', 'orange', 'brown','gray', 'cyan']\n",
    "\n",
    "colors_end_with_n = []\n",
    "for c in colors:\n",
    "    if 'a' in c or 'e' in c:\n",
    "        colors_end_with_n.append(c)\n",
    "print(colors_end_with_n)"
   ]
  },
  {
   "cell_type": "code",
   "execution_count": 21,
   "metadata": {},
   "outputs": [
    {
     "name": "stdout",
     "output_type": "stream",
     "text": [
      "1\n",
      "2\n",
      "3\n",
      "4\n",
      "5\n",
      "6\n",
      "7\n",
      "8\n",
      "9\n",
      "10\n",
      "[1, 4, 9, 16, 25, 36, 49, 64, 81, 100]\n"
     ]
    }
   ],
   "source": [
    "#mapping\n",
    "a = [1,2,3,4,5,6,7,8,9,10]\n",
    "a2 = []\n",
    "for num in a:\n",
    "    a2.append(num**2)\n",
    "print(a2)"
   ]
  },
  {
   "cell_type": "code",
   "execution_count": 22,
   "metadata": {},
   "outputs": [
    {
     "name": "stdout",
     "output_type": "stream",
     "text": [
      "[4, 16, 36, 64, 100]\n"
     ]
    }
   ],
   "source": [
    "#mapping & filter\n",
    "a = [1,2,3,4,5,6,7,8,9,10]\n",
    "a2 = []\n",
    "for num in a:\n",
    "    if num%2 == 0:\n",
    "        a2.append(num**2)\n",
    "print(a2)"
   ]
  },
  {
   "cell_type": "code",
   "execution_count": 35,
   "metadata": {},
   "outputs": [
    {
     "name": "stdout",
     "output_type": "stream",
     "text": [
      "['AK', 'VS', 'RK', 'RS', 'HP', 'AG']\n"
     ]
    }
   ],
   "source": [
    "full_names=['Amar Kumar', 'Vijay Singh', 'Rajesh Kumar', 'Rajesh Singh','Harish Pandey','Ajay Kumar Garg']\n",
    "\n",
    "short_names = []\n",
    "\n",
    "#logic1\n",
    "#failingcase = Ajay Kumar Garg\n",
    "\n",
    "for sn in full_names:\n",
    "    first_sn = sn[0]\n",
    "    last_sn = sn[sn.rfind(' ') + 1]\n",
    "    # print(first_sn + last_sn)\n",
    "    short_names.append(first_sn + last_sn)\n",
    "\n",
    "print(short_names)"
   ]
  },
  {
   "cell_type": "code",
   "execution_count": 40,
   "metadata": {},
   "outputs": [
    {
     "name": "stdout",
     "output_type": "stream",
     "text": [
      "AK\n",
      "VS\n",
      "RK\n",
      "RS\n",
      "HP\n",
      "AK\n"
     ]
    }
   ],
   "source": [
    "#logic2\n",
    "\n",
    "for nm in full_names:\n",
    "    words = nm.split(' ')\n",
    "    print(words[0][0]+ words[-1][0])"
   ]
  },
  {
   "cell_type": "code",
   "execution_count": null,
   "metadata": {},
   "outputs": [],
   "source": []
  }
 ],
 "metadata": {
  "kernelspec": {
   "display_name": "base",
   "language": "python",
   "name": "python3"
  },
  "language_info": {
   "codemirror_mode": {
    "name": "ipython",
    "version": 3
   },
   "file_extension": ".py",
   "mimetype": "text/x-python",
   "name": "python",
   "nbconvert_exporter": "python",
   "pygments_lexer": "ipython3",
   "version": "3.11.4"
  },
  "orig_nbformat": 4
 },
 "nbformat": 4,
 "nbformat_minor": 2
}
