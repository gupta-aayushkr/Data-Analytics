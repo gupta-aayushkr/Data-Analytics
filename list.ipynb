{
 "cells": [
  {
   "cell_type": "markdown",
   "metadata": {},
   "source": [
    "#list\n",
    "- indexed, order, mutable, can have duplicate, '[]', list()\n",
    "\n",
    "#tuple\n",
    "- indexed, ordered, *immutable*, can have duplicates, '()', tuple()\n",
    "\n",
    "#set\n",
    "- unindexed, unordered, mutable, *cannot have duplicates*, '{}', 'set()'\n",
    "\n",
    "#dictionary\n",
    "- unindexed, ordered, mutable, *key:value pairs*, *immutable keys*, {'key':'value'}, dict()"
   ]
  },
  {
   "cell_type": "code",
   "execution_count": 1,
   "metadata": {},
   "outputs": [],
   "source": [
    "#creating a list\n",
    "x = [] #empty list\n",
    "a = [1,2,3,4,5] #string list\n",
    "colors = ['red', 'green', False, None, [1,2,3]] #mixed list\n",
    "nested_list = [[1,2,3],[4,5,6]] #nested list"
   ]
  },
  {
   "cell_type": "code",
   "execution_count": null,
   "metadata": {},
   "outputs": [],
   "source": [
    "names = 'This is a great name'\n",
    "for i in names.split():\n",
    "    print(i)"
   ]
  },
  {
   "cell_type": "code",
   "execution_count": 2,
   "metadata": {},
   "outputs": [
    {
     "name": "stdout",
     "output_type": "stream",
     "text": [
      "['A', 'l', 'e', 'x', 'a', 'n', 'd', 'e', 'r']\n"
     ]
    }
   ],
   "source": [
    "name = \"Alexander\"\n",
    "charlist = list(name)\n",
    "print(charlist)"
   ]
  },
  {
   "cell_type": "code",
   "execution_count": 6,
   "metadata": {},
   "outputs": [
    {
     "data": {
      "text/plain": [
       "[1, 2, 3, 4, 5, 'red', 'green', False, None, [1, 2, 3]]"
      ]
     },
     "execution_count": 6,
     "metadata": {},
     "output_type": "execute_result"
    }
   ],
   "source": [
    "colors * 3\n",
    "a + colors #list concat"
   ]
  },
  {
   "cell_type": "code",
   "execution_count": 8,
   "metadata": {},
   "outputs": [
    {
     "data": {
      "text/plain": [
       "9"
      ]
     },
     "execution_count": 8,
     "metadata": {},
     "output_type": "execute_result"
    }
   ],
   "source": [
    "colors = [\n",
    "    'red','green','blue','yellow','black',\n",
    "    'orange','brown','sapphire','ruby']\n",
    "len(colors)"
   ]
  },
  {
   "cell_type": "code",
   "execution_count": 18,
   "metadata": {},
   "outputs": [
    {
     "name": "stdout",
     "output_type": "stream",
     "text": [
      "['red', 'green', 'blue', 'yellow', 'black']\n",
      "['brown', 'sapphire', 'ruby']\n",
      "['ruby', 'sapphire', 'brown', 'orange', 'black', 'yellow', 'blue', 'green', 'red']\n"
     ]
    }
   ],
   "source": [
    "print(colors[:5])\n",
    "print(colors[-3:])\n",
    "print(colors[::-1])"
   ]
  },
  {
   "cell_type": "code",
   "execution_count": 19,
   "metadata": {},
   "outputs": [
    {
     "name": "stdout",
     "output_type": "stream",
     "text": [
      "['silver', 'green', 'blue', 'yellow', 'black', 'orange', 'brown', 'sapphire', 'ruby']\n"
     ]
    }
   ],
   "source": [
    "colors[0] = 'silver'\n",
    "print(colors)"
   ]
  },
  {
   "cell_type": "markdown",
   "metadata": {},
   "source": [
    "In Python, a list is a versatile and widely used data structure that allows you to store and manipulate collections of items. Lists have various built-in methods that enable you to perform different operations on them. The \"total 11 methods in a list\" you mentioned can be grouped into three categories based on their functionalities:\n",
    "\n",
    "1. Methods to add elements to a list:\n",
    "\n",
    "a. `append()`: This method adds an element to the end of the list.\n",
    "Example:\n",
    "```python\n",
    "my_list = [1, 2, 3]\n",
    "my_list.append(4)\n",
    "# Now my_list will be [1, 2, 3, 4]\n",
    "```\n",
    "\n",
    "b. `extend()`: This method appends multiple elements (usually another list) to the end of the list.\n",
    "Example:\n",
    "```python\n",
    "my_list = [1, 2, 3]\n",
    "my_list.extend([4, 5, 6])\n",
    "# Now my_list will be [1, 2, 3, 4, 5, 6]\n",
    "```\n",
    "\n",
    "c. `insert()`: This method inserts an element at a specified index in the list.\n",
    "Example:\n",
    "```python\n",
    "my_list = [1, 2, 3]\n",
    "my_list.insert(1, 5)\n",
    "# Now my_list will be [1, 5, 2, 3]\n",
    "```\n",
    "\n",
    "2. Methods to remove elements from a list:\n",
    "\n",
    "a. `remove()`: This method removes the first occurrence of a specified value from the list.\n",
    "Example:\n",
    "```python\n",
    "my_list = [1, 2, 3, 2]\n",
    "my_list.remove(2)\n",
    "# Now my_list will be [1, 3, 2]\n",
    "```\n",
    "\n",
    "b. `pop()`: This method removes and returns the element at a specified index. If no index is given, it removes the last element.\n",
    "Example:\n",
    "```python\n",
    "my_list = [1, 2, 3]\n",
    "element = my_list.pop(1)\n",
    "# Now my_list will be [1, 3], and element will be 2\n",
    "```\n",
    "\n",
    "c. `clear()`: This method removes all elements from the list, making it empty.\n",
    "Example:\n",
    "```python\n",
    "my_list = [1, 2, 3]\n",
    "my_list.clear()\n",
    "# Now my_list will be []\n",
    "```\n",
    "\n",
    "3. Methods for utility purposes:\n",
    "\n",
    "a. `reverse()`: This method reverses the order of elements in the list.\n",
    "Example:\n",
    "```python\n",
    "my_list = [1, 2, 3]\n",
    "my_list.reverse()\n",
    "# Now my_list will be [3, 2, 1]\n",
    "```\n",
    "\n",
    "b. `sort()`: This method sorts the elements in ascending order (or in a specified order if a key function is provided).\n",
    "Example:\n",
    "```python\n",
    "my_list = [3, 1, 2]\n",
    "my_list.sort()\n",
    "# Now my_list will be [1, 2, 3]\n",
    "```\n",
    "\n",
    "c. `copy()`: This method creates a shallow copy of the list (i.e., a new list with the same elements).\n",
    "Example:\n",
    "```python\n",
    "my_list = [1, 2, 3]\n",
    "new_list = my_list.copy()\n",
    "# Now new_list will be [1, 2, 3]\n",
    "```\n",
    "\n",
    "d. `count()`: This method returns the number of occurrences of a specified element in the list.\n",
    "Example:\n",
    "```python\n",
    "my_list = [1, 2, 2, 3]\n",
    "count_2 = my_list.count(2)\n",
    "# count_2 will be 2\n",
    "```\n",
    "\n",
    "e. `index()`: This method returns the index of the first occurrence of a specified value in the list.\n",
    "Example:\n",
    "```python\n",
    "my_list = [1, 2, 3, 2]\n",
    "index_2 = my_list.index(2)\n",
    "# index_2 will be 1\n",
    "```\n",
    "\n",
    "These methods are essential for performing various operations on lists efficiently and effectively in Python."
   ]
  },
  {
   "cell_type": "markdown",
   "metadata": {},
   "source": [
    "total 11 methods in a list\n",
    "\n",
    "- to add\n",
    "1. append()\n",
    "2. extend()\n",
    "3. insert()\n",
    "\n",
    "- to remove\n",
    "4. remove()\n",
    "5. pop()\n",
    "6. clear()\n",
    "\n",
    "- for utility\n",
    "7. reverse()\n",
    "8. sort()\n",
    "9. copy()\n",
    "10. count()\n",
    "11. index()"
   ]
  },
  {
   "cell_type": "code",
   "execution_count": 21,
   "metadata": {},
   "outputs": [],
   "source": [
    "tvshows = [] \n",
    "tvshows.append(\"chota bheem\")\n",
    "tvshows.append(\"Doraemon\")\n"
   ]
  },
  {
   "cell_type": "code",
   "execution_count": 23,
   "metadata": {},
   "outputs": [],
   "source": [
    "show = input(\"enter a show name\")\n",
    "tvshows.append(show)"
   ]
  },
  {
   "cell_type": "code",
   "execution_count": 24,
   "metadata": {},
   "outputs": [
    {
     "name": "stdout",
     "output_type": "stream",
     "text": [
      "['chota bheem', 'Doraemon', 'Jack Ryan']\n"
     ]
    }
   ],
   "source": [
    "print(tvshows)"
   ]
  },
  {
   "cell_type": "code",
   "execution_count": 31,
   "metadata": {},
   "outputs": [
    {
     "name": "stdout",
     "output_type": "stream",
     "text": [
      "chota bheem\n",
      "The office\n",
      "The office\n",
      "The office\n",
      "The Good places\n",
      "The office\n",
      "The Good places\n",
      "The office\n",
      "The Good places\n",
      "Doraemon\n",
      "The Good places\n",
      "Jack Ryan\n"
     ]
    }
   ],
   "source": [
    "for i in tvshows:\n",
    "    print(i)"
   ]
  },
  {
   "cell_type": "code",
   "execution_count": 29,
   "metadata": {},
   "outputs": [
    {
     "name": "stdout",
     "output_type": "stream",
     "text": [
      "['chota bheem', 'The office', 'The office', 'The office', 'The Good places', 'The office', 'The Good places', 'The office', 'The Good places', 'Doraemon', 'The Good places', 'Jack Ryan']\n"
     ]
    }
   ],
   "source": [
    "#copy shortcut option+shift+down\n",
    "tvshows.insert(1, \"The office\")\n",
    "tvshows.insert(4, \"The Good places\")\n",
    "print(tvshows)"
   ]
  },
  {
   "cell_type": "code",
   "execution_count": 33,
   "metadata": {},
   "outputs": [],
   "source": [
    "user_shows = input(\"enter fav shows sep by comma\")\n",
    "user_shows = user_shows.split(\",\")"
   ]
  },
  {
   "cell_type": "code",
   "execution_count": 34,
   "metadata": {},
   "outputs": [
    {
     "name": "stdout",
     "output_type": "stream",
     "text": [
      "['chota bheem', 'The office', 'The office', 'The office', 'The Good places', 'The office', 'The Good places', 'The office', 'The Good places', 'Doraemon', 'The Good places', 'Jack Ryan', '1', '2', '3', '4']\n"
     ]
    }
   ],
   "source": [
    "tvshows.extend(user_shows)\n",
    "print(tvshows)"
   ]
  },
  {
   "cell_type": "code",
   "execution_count": 38,
   "metadata": {},
   "outputs": [
    {
     "name": "stdout",
     "output_type": "stream",
     "text": [
      "['chota bheem', 'The office', 'The Good places', 'The office', 'The Good places', 'The office', 'The Good places', 'Doraemon', 'The Good places', 'Jack Ryan', '2', '3', '4']\n"
     ]
    }
   ],
   "source": [
    "# remove if know the value\n",
    "# pop if know the index\n",
    "# clear complete the list\n",
    "tvshows.remove('1')\n",
    "print(tvshows)"
   ]
  },
  {
   "cell_type": "code",
   "execution_count": 40,
   "metadata": {},
   "outputs": [
    {
     "name": "stdout",
     "output_type": "stream",
     "text": [
      "['chota bheem', 'The Good places', 'The Good places', 'The office', 'The Good places', 'Doraemon', 'The Good places', 'Jack Ryan', '2', '3', '4']\n"
     ]
    }
   ],
   "source": [
    "if 'The office' in tvshows:\n",
    "    tvshows.remove('The office')\n",
    "print(tvshows)"
   ]
  },
  {
   "cell_type": "code",
   "execution_count": 42,
   "metadata": {},
   "outputs": [
    {
     "name": "stdout",
     "output_type": "stream",
     "text": [
      "The office\n"
     ]
    }
   ],
   "source": [
    "popped_tvshows = tvshows.pop(2)\n",
    "print(popped_tvshows)"
   ]
  },
  {
   "cell_type": "code",
   "execution_count": 43,
   "metadata": {},
   "outputs": [
    {
     "data": {
      "text/plain": [
       "'4'"
      ]
     },
     "execution_count": 43,
     "metadata": {},
     "output_type": "execute_result"
    }
   ],
   "source": [
    "tvshows.pop() #pop() removes the last element from the list"
   ]
  },
  {
   "cell_type": "code",
   "execution_count": 45,
   "metadata": {},
   "outputs": [],
   "source": [
    "tvshows.clear()"
   ]
  },
  {
   "cell_type": "code",
   "execution_count": 47,
   "metadata": {},
   "outputs": [
    {
     "name": "stdout",
     "output_type": "stream",
     "text": [
      "[]\n"
     ]
    }
   ],
   "source": [
    "print(tvshows)"
   ]
  },
  {
   "cell_type": "code",
   "execution_count": 51,
   "metadata": {},
   "outputs": [
    {
     "name": "stdout",
     "output_type": "stream",
     "text": [
      "[32, 5, 5, 2, 3, 3, 2]\n"
     ]
    }
   ],
   "source": [
    "x = [2,3,3,2,5,5,32]\n",
    "x.reverse()\n",
    "print(x)"
   ]
  },
  {
   "cell_type": "code",
   "execution_count": 52,
   "metadata": {},
   "outputs": [
    {
     "name": "stdout",
     "output_type": "stream",
     "text": [
      "[32, 5, 5, 3, 3, 2, 2]\n"
     ]
    }
   ],
   "source": [
    "x.sort() #ascending order\n",
    "x.sort(reverse=True) #descending\n",
    "print(x)"
   ]
  },
  {
   "cell_type": "code",
   "execution_count": 55,
   "metadata": {},
   "outputs": [
    {
     "data": {
      "text/plain": [
       "2"
      ]
     },
     "execution_count": 55,
     "metadata": {},
     "output_type": "execute_result"
    }
   ],
   "source": [
    "x.count(5) #how many times the 5 appears"
   ]
  },
  {
   "cell_type": "code",
   "execution_count": 56,
   "metadata": {},
   "outputs": [
    {
     "data": {
      "text/plain": [
       "1"
      ]
     },
     "execution_count": 56,
     "metadata": {},
     "output_type": "execute_result"
    }
   ],
   "source": [
    "x.index(5) #print the index of 5"
   ]
  },
  {
   "cell_type": "code",
   "execution_count": 59,
   "metadata": {},
   "outputs": [
    {
     "name": "stdout",
     "output_type": "stream",
     "text": [
      "0\n",
      "4\n",
      "6\n"
     ]
    }
   ],
   "source": [
    "x = [1,2,34,21,1,24,1]\n",
    "start = 0\n",
    "for i in range(x.count(1)):\n",
    "    pos = x.index(1, start)\n",
    "    start = pos + 1\n",
    "    print(pos)"
   ]
  },
  {
   "cell_type": "code",
   "execution_count": null,
   "metadata": {},
   "outputs": [],
   "source": []
  }
 ],
 "metadata": {
  "kernelspec": {
   "display_name": "base",
   "language": "python",
   "name": "python3"
  },
  "language_info": {
   "codemirror_mode": {
    "name": "ipython",
    "version": 3
   },
   "file_extension": ".py",
   "mimetype": "text/x-python",
   "name": "python",
   "nbconvert_exporter": "python",
   "pygments_lexer": "ipython3",
   "version": "3.11.4"
  },
  "orig_nbformat": 4
 },
 "nbformat": 4,
 "nbformat_minor": 2
}
