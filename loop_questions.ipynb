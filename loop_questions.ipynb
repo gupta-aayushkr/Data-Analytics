{
 "cells": [
  {
   "cell_type": "markdown",
   "metadata": {},
   "source": [
    "link = https://github.com/digipodium/Digipodium-Python-Practice-questions/blob/main/loops.md"
   ]
  },
  {
   "cell_type": "markdown",
   "metadata": {},
   "source": [
    "1. Fibonacci got me --> check logic below\n",
    "2. "
   ]
  },
  {
   "cell_type": "code",
   "execution_count": 17,
   "metadata": {},
   "outputs": [
    {
     "name": "stdout",
     "output_type": "stream",
     "text": [
      "prime\n"
     ]
    }
   ],
   "source": [
    "#Write a program to check if a given number is prime or not using a while loop.\n",
    "\n",
    "num = 12\n",
    "\n",
    "i = 2\n",
    "flag = 0\n",
    "while(i<num):\n",
    "    if num%i == 0:\n",
    "        flag = 1\n",
    "        break\n",
    "    i = i + 1\n",
    "if flag == 1: print('prime') \n",
    "else: print(\"not prime\")"
   ]
  },
  {
   "cell_type": "code",
   "execution_count": 21,
   "metadata": {},
   "outputs": [
    {
     "name": "stdout",
     "output_type": "stream",
     "text": [
      "120\n"
     ]
    }
   ],
   "source": [
    "#Write a program to calculate the factorial of a number using a for loop.\n",
    "\n",
    "num = 5\n",
    "fact = 1\n",
    "for i in range(1, num + 1):\n",
    "    fact = fact * i\n",
    "print(fact)"
   ]
  },
  {
   "cell_type": "code",
   "execution_count": 34,
   "metadata": {},
   "outputs": [
    {
     "name": "stdout",
     "output_type": "stream",
     "text": [
      "1 2 3 5 8 13 21 34 55 89 \n"
     ]
    }
   ],
   "source": [
    "#Write a program to print the Fibonacci series up to a given limit using a while loop.\n",
    "\n",
    "n = 10\n",
    "num1 = 0\n",
    "num2 = 1\n",
    "next_number = num2 \n",
    "count = 1\n",
    "\n",
    "while count <= n:\n",
    "    print(next_number, end=\" \")\n",
    "    count += 1\n",
    "    num1, num2 = num2, next_number\n",
    "    next_number = num1 + num2\n",
    "print()\n",
    "\n"
   ]
  },
  {
   "cell_type": "code",
   "execution_count": 35,
   "metadata": {},
   "outputs": [
    {
     "name": "stdout",
     "output_type": "stream",
     "text": [
      "1\n",
      "2\n",
      "3\n",
      "5\n",
      "8\n",
      "13\n",
      "21\n",
      "34\n",
      "55\n"
     ]
    }
   ],
   "source": [
    "n = 10\n",
    "num1 = 0\n",
    "num2 = 1\n",
    "next_number = num2 \n",
    "count = 1\n",
    "\n",
    "while count <= n:\n",
    "    print(next_number)\n",
    "    count = count + 1\n",
    "    num1, num2 = num2, next_number\n",
    "    next_number = num1 + num2"
   ]
  },
  {
   "cell_type": "code",
   "execution_count": 49,
   "metadata": {},
   "outputs": [
    {
     "name": "stdout",
     "output_type": "stream",
     "text": [
      "doog si sihT\n"
     ]
    }
   ],
   "source": [
    "#Write a program to reverse a given string using a while loop.\n",
    "\n",
    "s1 = \"This is good\"\n",
    "i = 0\n",
    "string_len = len(s1)\n",
    "reverse_string = ''\n",
    "while(string_len > i):\n",
    "    reverse_string = reverse_string + s1[string_len-1-i]\n",
    "    i = i + 1\n",
    "print(reverse_string)"
   ]
  },
  {
   "cell_type": "code",
   "execution_count": 55,
   "metadata": {},
   "outputs": [
    {
     "name": "stdout",
     "output_type": "stream",
     "text": [
      "W\n",
      " Uppercase letter = W and its ASCII value = 87\n",
      "A\n",
      " Uppercase letter = A and its ASCII value = 65\n",
      "P\n",
      " Uppercase letter = P and its ASCII value = 80\n",
      "T\n",
      " Uppercase letter = T and its ASCII value = 84\n",
      "P\n",
      " Uppercase letter = P and its ASCII value = 80\n"
     ]
    }
   ],
   "source": [
    "#Write a program to print the ASCII values of all uppercase letters using a for loop.\n",
    "\n",
    "text = \"Write A Program To Print\"\n",
    "for i in text:\n",
    "    if i.isupper():\n",
    "        print(f\" Uppercase letter = {i} and its ASCII value = {ord(i)}\")"
   ]
  },
  {
   "cell_type": "code",
   "execution_count": 60,
   "metadata": {},
   "outputs": [
    {
     "name": "stdout",
     "output_type": "stream",
     "text": [
      "0\n",
      "1\n",
      "2\n",
      "3\n",
      "4\n",
      "5\n",
      "6\n",
      "7\n",
      "palindrome\n"
     ]
    }
   ],
   "source": [
    "# Write a program to check if a given string is a palindrome using a while loop.\n",
    "s1 = \"aabbcbbaa\"\n",
    "reverted_s1 = s1[::-1]\n",
    "#simple logic if(s1==reverted_s1) but alas while loop\n",
    "s1_len = len(s1) - 1\n",
    "i=0\n",
    "flag = 0\n",
    "while(s1_len>i):\n",
    "    print(i)\n",
    "    if s1[i] != s1[s1_len - i]:\n",
    "        flag = 0\n",
    "        break\n",
    "    flag = 1\n",
    "    i = i + 1\n",
    "if flag == 0: print(\"not palindrome\")\n",
    "else: print(\"palindrome\")\n"
   ]
  },
  {
   "cell_type": "code",
   "execution_count": 62,
   "metadata": {},
   "outputs": [
    {
     "name": "stdout",
     "output_type": "stream",
     "text": [
      "Given Year is a leap Year\n"
     ]
    }
   ],
   "source": [
    "# Python program to check if year is a leap year or not\n",
    "\n",
    "Year = 2000\n",
    "\n",
    "# Checking if the given year is leap year  \n",
    "if((Year % 400 == 0) or (Year % 100 != 0) and (Year % 4 == 0)):   \n",
    "    print(\"Given Year is a leap Year\")\n",
    "# Else it is not a leap year  \n",
    "else:  \n",
    "    print (\"Given Year is not a leap Year\")  "
   ]
  },
  {
   "cell_type": "code",
   "execution_count": 65,
   "metadata": {},
   "outputs": [
    {
     "name": "stdout",
     "output_type": "stream",
     "text": [
      "Given Year is a leap Year\n"
     ]
    }
   ],
   "source": [
    "# Write a program to check if a given year is a leap year using a while loop.\n",
    "\n",
    "Year = 2004\n",
    "while(1):\n",
    "    if((Year % 400 == 0) or (Year % 100 != 0) and (Year % 4 == 0)):   \n",
    "        print(\"Given Year is a leap Year\")\n",
    "        break\n",
    "    else:  \n",
    "        print (\"Given Year is not a leap Year\")\n",
    "        break"
   ]
  },
  {
   "cell_type": "code",
   "execution_count": 71,
   "metadata": {},
   "outputs": [
    {
     "name": "stdout",
     "output_type": "stream",
     "text": [
      "4\n"
     ]
    }
   ],
   "source": [
    "# Write a program to count the number of vowels in a given string using a for loop.\n",
    "a = \"This is great\"\n",
    "vowels = ['a','e','i','o','u']\n",
    "count = 0\n",
    "for i in a:\n",
    "    if i in vowels:\n",
    "        count = count + 1\n",
    "\n",
    "print(count)"
   ]
  },
  {
   "cell_type": "code",
   "execution_count": null,
   "metadata": {},
   "outputs": [],
   "source": []
  }
 ],
 "metadata": {
  "kernelspec": {
   "display_name": "base",
   "language": "python",
   "name": "python3"
  },
  "language_info": {
   "codemirror_mode": {
    "name": "ipython",
    "version": 3
   },
   "file_extension": ".py",
   "mimetype": "text/x-python",
   "name": "python",
   "nbconvert_exporter": "python",
   "pygments_lexer": "ipython3",
   "version": "3.11.4"
  },
  "orig_nbformat": 4
 },
 "nbformat": 4,
 "nbformat_minor": 2
}
