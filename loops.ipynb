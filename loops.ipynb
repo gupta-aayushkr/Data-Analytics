{
 "cells": [
  {
   "cell_type": "code",
   "execution_count": 1,
   "metadata": {},
   "outputs": [
    {
     "name": "stdout",
     "output_type": "stream",
     "text": [
      "5\n",
      "6\n",
      "7\n",
      "8\n",
      "9\n",
      "10\n"
     ]
    }
   ],
   "source": [
    "for i in range(5,11):\n",
    "    print(i)"
   ]
  },
  {
   "cell_type": "code",
   "execution_count": 2,
   "metadata": {},
   "outputs": [
    {
     "name": "stdout",
     "output_type": "stream",
     "text": [
      "5 10 15 20 25 30 35 40 45 50 55 60 65 70 75 80 85 90 95 "
     ]
    }
   ],
   "source": [
    "for i in range(5, 100, 5):\n",
    "    print(i, end=\" \") "
   ]
  },
  {
   "cell_type": "code",
   "execution_count": 3,
   "metadata": {},
   "outputs": [
    {
     "name": "stdout",
     "output_type": "stream",
     "text": [
      "10 9 8 7 6 5 4 3 2 1 "
     ]
    }
   ],
   "source": [
    "for i in range(10, 0, -1):\n",
    "    print(i, end=\" \")"
   ]
  },
  {
   "cell_type": "code",
   "execution_count": 8,
   "metadata": {},
   "outputs": [
    {
     "name": "stdout",
     "output_type": "stream",
     "text": [
      "10\n"
     ]
    }
   ],
   "source": [
    "for i in range(10, 11):\n",
    "    print(i)"
   ]
  },
  {
   "cell_type": "code",
   "execution_count": 5,
   "metadata": {},
   "outputs": [
    {
     "name": "stdout",
     "output_type": "stream",
     "text": [
      "1 2 3 4 5 6 7 "
     ]
    }
   ],
   "source": [
    "data = [1,2,3,4,5,6,7]\n",
    "#traversal of list\n",
    "for i in data:\n",
    "    print(i, end=' ')"
   ]
  },
  {
   "cell_type": "code",
   "execution_count": 9,
   "metadata": {},
   "outputs": [
    {
     "name": "stdout",
     "output_type": "stream",
     "text": [
      "1\n",
      "2\n",
      "3\n",
      "4\n"
     ]
    }
   ],
   "source": [
    "prices = [1,2,None,3,4,None]\n",
    "for pr in prices:\n",
    "    if pr is None:\n",
    "        continue\n",
    "    print(pr)"
   ]
  },
  {
   "cell_type": "code",
   "execution_count": 10,
   "metadata": {},
   "outputs": [
    {
     "name": "stdout",
     "output_type": "stream",
     "text": [
      "1\n",
      "2\n",
      "3\n",
      "4\n"
     ]
    }
   ],
   "source": [
    "prices = [1,2,None,3,4,None]\n",
    "for pr in prices:\n",
    "    if pr is not None:\n",
    "        print(pr)\n"
   ]
  },
  {
   "cell_type": "code",
   "execution_count": 13,
   "metadata": {},
   "outputs": [
    {
     "name": "stdout",
     "output_type": "stream",
     "text": [
      "1\n",
      "2\n",
      "END\n"
     ]
    }
   ],
   "source": [
    "prices = [1,2,None,3,4,None]\n",
    "for items in prices:\n",
    "    if items is None:\n",
    "        break\n",
    "    print(items)\n",
    "print(\"END\")"
   ]
  },
  {
   "cell_type": "code",
   "execution_count": 15,
   "metadata": {},
   "outputs": [
    {
     "name": "stdout",
     "output_type": "stream",
     "text": [
      "1\n",
      "1 2 3 4 5 6 7 8 9 10 \n",
      "2\n",
      "2 4 6 8 10 12 14 16 18 20 \n",
      "3\n",
      "3 6 9 12 15 18 21 24 27 30 \n",
      "4\n",
      "4 8 12 16 20 24 28 32 36 40 \n",
      "5\n",
      "5 10 15 20 25 30 35 40 45 50 \n",
      "6\n",
      "6 12 18 24 30 36 42 48 54 60 \n",
      "7\n",
      "7 14 21 28 35 42 49 56 63 70 \n",
      "8\n",
      "8 16 24 32 40 48 56 64 72 80 \n",
      "9\n",
      "9 18 27 36 45 54 63 72 81 90 \n",
      "10\n",
      "10 20 30 40 50 60 70 80 90 100 \n",
      "11\n",
      "11 22 33 44 55 66 77 88 99 110 \n",
      "12\n",
      "12 24 36 48 60 72 84 96 108 120 \n",
      "13\n",
      "13 26 39 52 65 78 91 104 117 130 \n",
      "14\n",
      "14 28 42 56 70 84 98 112 126 140 \n",
      "15\n",
      "15 30 45 60 75 90 105 120 135 150 \n",
      "16\n",
      "16 32 48 64 80 96 112 128 144 160 \n",
      "17\n",
      "17 34 51 68 85 102 119 136 153 170 \n",
      "18\n",
      "18 36 54 72 90 108 126 144 162 180 \n",
      "19\n",
      "19 38 57 76 95 114 133 152 171 190 \n",
      "20\n",
      "20 40 60 80 100 120 140 160 180 200 \n"
     ]
    }
   ],
   "source": [
    "for i in range(1, 21):\n",
    "    print(i)\n",
    "    for j in range(1,11):\n",
    "        print(i*j, end=' ')\n",
    "    print()"
   ]
  },
  {
   "cell_type": "markdown",
   "metadata": {},
   "source": [
    "enummerate\n",
    "zip\n",
    "for - else"
   ]
  },
  {
   "cell_type": "code",
   "execution_count": 1,
   "metadata": {},
   "outputs": [
    {
     "name": "stdout",
     "output_type": "stream",
     "text": [
      "(0, 'Radha')\n",
      "(1, 'Rohan')\n",
      "(2, 'Madhu')\n",
      "(3, 'Rajesh')\n"
     ]
    }
   ],
   "source": [
    "names = ['Radha','Rohan', 'Madhu', 'Rajesh']\n",
    "for name in enumerate(names):\n",
    "    print(name)\n",
    "    "
   ]
  },
  {
   "cell_type": "code",
   "execution_count": 2,
   "metadata": {},
   "outputs": [
    {
     "name": "stdout",
     "output_type": "stream",
     "text": [
      "0 Radha\n",
      "1 Rohan\n",
      "2 Madhu\n",
      "3 Rajesh\n"
     ]
    }
   ],
   "source": [
    "for idx, name in enumerate(names):\n",
    "    print(idx, name)"
   ]
  },
  {
   "cell_type": "code",
   "execution_count": 5,
   "metadata": {},
   "outputs": [
    {
     "name": "stdout",
     "output_type": "stream",
     "text": [
      "1\n",
      "2\n",
      "3\n",
      "23\n",
      "3\n",
      "23\n",
      "23\n",
      "123\n",
      "2\n",
      "313\n"
     ]
    }
   ],
   "source": [
    "x = [1,2,3,23,3,23,23,123,2,313,2,3,312,3,23,213]\n",
    "for i, v in enumerate(x):\n",
    "    if i == 10:\n",
    "        break\n",
    "    print(v)\n"
   ]
  },
  {
   "cell_type": "code",
   "execution_count": 6,
   "metadata": {},
   "outputs": [
    {
     "name": "stdout",
     "output_type": "stream",
     "text": [
      "(1, 4, 7)\n",
      "(2, 5, 8)\n",
      "(3, 6, 9)\n"
     ]
    }
   ],
   "source": [
    "x = [1,2,3]\n",
    "y = [4,5,6]\n",
    "z = [7,8,9]\n",
    "\n",
    "for i in zip(x,y,z):\n",
    "    print(i)"
   ]
  },
  {
   "cell_type": "markdown",
   "metadata": {},
   "source": [
    "The zip() function returns a zip object, which is an iterator of tuples where the first item in each passed iterator is paired together, and then the second item in each passed iterator are paired together etc.\n",
    "\n",
    "If the passed iterators have different lengths, the iterator with the least items decides the length of the new iterator.\n",
    "\n",
    "Syntax\n",
    "zip(iterator1, iterator2, iterator3 ...)"
   ]
  },
  {
   "cell_type": "code",
   "execution_count": 8,
   "metadata": {},
   "outputs": [
    {
     "name": "stdout",
     "output_type": "stream",
     "text": [
      "12\n",
      "15\n",
      "18\n"
     ]
    }
   ],
   "source": [
    "for i, j, k in zip(x, y, z):\n",
    "    print(i+j+k)"
   ]
  },
  {
   "cell_type": "markdown",
   "metadata": {},
   "source": [
    "The else keyword in a for loop specifies a block of code to be executed when the loop is finished:\n",
    "\n",
    "Print all numbers from 0 to 5, and print a message when the loop has ended:\n",
    "\n",
    "for x in range(6):\n",
    "  print(x)\n",
    "else:\n",
    "  print(\"Finally finished!\")"
   ]
  },
  {
   "cell_type": "code",
   "execution_count": 11,
   "metadata": {},
   "outputs": [
    {
     "name": "stdout",
     "output_type": "stream",
     "text": [
      "1\n",
      "2\n",
      "3\n",
      "completed without break\n"
     ]
    }
   ],
   "source": [
    "for i in x:\n",
    "    if i == 13:\n",
    "        break\n",
    "    print(i)\n",
    "else:\n",
    "    print(\"completed without break\")"
   ]
  },
  {
   "cell_type": "code",
   "execution_count": 2,
   "metadata": {},
   "outputs": [
    {
     "name": "stdout",
     "output_type": "stream",
     "text": [
      "11111 % 2 = 1\n",
      "11111 % 3 = 2\n",
      "11111 % 4 = 3\n",
      "11111 % 5 = 1\n",
      "11111 % 6 = 5\n",
      "11111 % 7 = 2\n",
      "11111 % 8 = 7\n",
      "11111 % 9 = 5\n",
      "11111 % 10 = 1\n",
      "11111 % 11 = 1\n",
      "11111 % 12 = 11\n",
      "11111 % 13 = 9\n",
      "11111 % 14 = 9\n",
      "11111 % 15 = 11\n",
      "11111 % 16 = 7\n",
      "11111 % 17 = 10\n",
      "11111 % 18 = 5\n",
      "11111 % 19 = 15\n",
      "11111 % 20 = 11\n",
      "11111 % 21 = 2\n",
      "11111 % 22 = 1\n",
      "11111 % 23 = 2\n",
      "11111 % 24 = 23\n",
      "11111 % 25 = 11\n",
      "11111 % 26 = 9\n",
      "11111 % 27 = 14\n",
      "11111 % 28 = 23\n",
      "11111 % 29 = 4\n",
      "11111 % 30 = 11\n",
      "11111 % 31 = 13\n",
      "11111 % 32 = 7\n",
      "11111 % 33 = 23\n",
      "11111 % 34 = 27\n",
      "11111 % 35 = 16\n",
      "11111 % 36 = 23\n",
      "11111 % 37 = 11\n",
      "11111 % 38 = 15\n",
      "11111 % 39 = 35\n",
      "11111 % 40 = 31\n",
      "11111 % 41 = 0\n",
      "prime\n"
     ]
    }
   ],
   "source": [
    "num = 11111\n",
    "for i in range(2,num):\n",
    "    if num%i == 0:\n",
    "        print(f\"{num} % {i} = {num%i}\")\n",
    "        print('prime')\n",
    "        break\n",
    "else:\n",
    "    print('not prime')"
   ]
  },
  {
   "cell_type": "code",
   "execution_count": null,
   "metadata": {},
   "outputs": [],
   "source": []
  }
 ],
 "metadata": {
  "kernelspec": {
   "display_name": "base",
   "language": "python",
   "name": "python3"
  },
  "language_info": {
   "codemirror_mode": {
    "name": "ipython",
    "version": 3
   },
   "file_extension": ".py",
   "mimetype": "text/x-python",
   "name": "python",
   "nbconvert_exporter": "python",
   "pygments_lexer": "ipython3",
   "version": "3.11.4"
  },
  "orig_nbformat": 4
 },
 "nbformat": 4,
 "nbformat_minor": 2
}
