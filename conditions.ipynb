{
 "cells": [
  {
   "cell_type": "code",
   "execution_count": 1,
   "metadata": {},
   "outputs": [],
   "source": [
    "name = input(\"enter the name\")"
   ]
  },
  {
   "cell_type": "code",
   "execution_count": 6,
   "metadata": {},
   "outputs": [
    {
     "name": "stdout",
     "output_type": "stream",
     "text": [
      "print will work\n"
     ]
    }
   ],
   "source": [
    "name = input(\"enter the name\")\n",
    "if len(name) == 4:\n",
    "    print(\"check the number\")\n",
    "\n",
    "if len(name) == 0:\n",
    "    print(\"print will work\")"
   ]
  },
  {
   "cell_type": "code",
   "execution_count": 2,
   "metadata": {},
   "outputs": [
    {
     "name": "stdout",
     "output_type": "stream",
     "text": [
      "odd\n"
     ]
    }
   ],
   "source": [
    "num = int(input(\"Enter the number\"))\n",
    "if num % 2 == 0:\n",
    "    print(\"even\")\n",
    "else:\n",
    "    print(\"odd\")"
   ]
  },
  {
   "cell_type": "code",
   "execution_count": 5,
   "metadata": {},
   "outputs": [
    {
     "name": "stdout",
     "output_type": "stream",
     "text": [
      "a\n"
     ]
    }
   ],
   "source": [
    "a, b, c = 90, 20, 30\n",
    "if a > b and a > c:\n",
    "    print(\"a\")\n",
    "elif b > a and b > c:\n",
    "    print(\"b\")\n",
    "else:\n",
    "    print(\"c\")"
   ]
  },
  {
   "cell_type": "code",
   "execution_count": 9,
   "metadata": {},
   "outputs": [
    {
     "name": "stdout",
     "output_type": "stream",
     "text": [
      "Wrong inpurt\n"
     ]
    }
   ],
   "source": [
    "day = input(\"enter day:\")\n",
    "match(day):\n",
    "    case 'monday': print(\"You choose monday\")\n",
    "    case 'tuesday': print(\"You choose tuesday\")\n",
    "    case 'wednesday' | 'thursday': print(\"You choose a day\")\n",
    "    case 'friday': print(\"You choose friday\")\n",
    "    case 'saturday' | 'sunday': print(\"You choose a weekend\")\n",
    "    case _: print(\"Wrong inpurt\")"
   ]
  },
  {
   "cell_type": "code",
   "execution_count": 10,
   "metadata": {},
   "outputs": [
    {
     "name": "stdout",
     "output_type": "stream",
     "text": [
      "simple interest = 20.0\n"
     ]
    }
   ],
   "source": [
    "p = int(input(\"enter principal:\"))\n",
    "r = int(input(\"enter rate:\"))\n",
    "t = int(input(\"enter time:\"))\n",
    "si = (p*r*t)/100\n",
    "print(f\"simple interest = {si}\")\n"
   ]
  },
  {
   "cell_type": "code",
   "execution_count": 12,
   "metadata": {},
   "outputs": [
    {
     "name": "stdout",
     "output_type": "stream",
     "text": [
      "\n",
      "Compound Interest Summary:\n",
      "Principal amount: $10.00\n",
      "Annual interest rate: 1000.00%\n",
      "Time period: 7 years\n",
      "Compounding periods per year: 1\n",
      "Final amount after compound interest: $194871710.00\n",
      "Interest earned: $194871700.00\n"
     ]
    }
   ],
   "source": [
    "def compound_interest(principal, rate, time):\n",
    "    # Calculates compound interest\n",
    "    Amount = principal * (pow((1 + rate / 100), time))\n",
    "    CI = Amount - principal\n",
    "    print(\"Compound interest is\", CI)\n",
    "\n",
    "# Driver Code\n",
    "#Taking input from user.\n",
    "principal = int(input(\"Enter the principal amount: \"))\n",
    "rate = int(input(\"Enter rate of interest: \"))\n",
    "time = int(input(\"Enter time in years: \" ))\n",
    "#Function Call\n",
    "compound_interest(principal,rate,time)"
   ]
  }
 ],
 "metadata": {
  "kernelspec": {
   "display_name": "base",
   "language": "python",
   "name": "python3"
  },
  "language_info": {
   "codemirror_mode": {
    "name": "ipython",
    "version": 3
   },
   "file_extension": ".py",
   "mimetype": "text/x-python",
   "name": "python",
   "nbconvert_exporter": "python",
   "pygments_lexer": "ipython3",
   "version": "3.11.4"
  },
  "orig_nbformat": 4
 },
 "nbformat": 4,
 "nbformat_minor": 2
}
